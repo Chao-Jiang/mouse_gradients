{
 "cells": [
  {
   "cell_type": "code",
   "execution_count": 2,
   "metadata": {},
   "outputs": [],
   "source": [
    "%matplotlib inline"
   ]
  },
  {
   "cell_type": "code",
   "execution_count": 4,
   "metadata": {
    "collapsed": true
   },
   "outputs": [],
   "source": [
    "import numpy as np\n",
    "import nibabel as nb\n",
    "import numpy as np\n",
    "import matplotlib.pyplot as plt\n",
    "import pandas as pd"
   ]
  },
  {
   "cell_type": "code",
   "execution_count": 108,
   "metadata": {
    "collapsed": true
   },
   "outputs": [],
   "source": [
    "def sigmoid(energy):\n",
    "    X = (energy - np.nanmean(energy)) / np.nanstd(energy)\n",
    "    sig = 1 / (1 + np.exp(-X))\n",
    "    return sig"
   ]
  },
  {
   "cell_type": "code",
   "execution_count": 11,
   "metadata": {
    "collapsed": true
   },
   "outputs": [],
   "source": [
    "df = pd.read_csv(\"/home/julia/data/gradients/genes/gene_list_full.csv\")\n",
    "df = df[df['acronym']!=\"FALSE\"]\n",
    "df = df[np.isnan(df['entrez'])==False]\n",
    "df = df.reset_index(drop=True)"
   ]
  },
  {
   "cell_type": "code",
   "execution_count": 24,
   "metadata": {},
   "outputs": [],
   "source": [
    "df_energy = pd.read_csv('/home/julia/data/gradients/genes/energy.csv', index_col=0)"
   ]
  },
  {
   "cell_type": "code",
   "execution_count": 80,
   "metadata": {},
   "outputs": [],
   "source": [
    "mod = []\n",
    "for a in df['acronym']:\n",
    "    if ('Ht' in a):\n",
    "        mod.append(a)\n",
    "    elif  ('Drd' in a):\n",
    "        mod.append(a)\n",
    "    elif ('Chrn' in a) or ('Chrm' in a):\n",
    "        mod.append(a)\n",
    "    elif ('Adra' in a) or ('Adrb' in a):\n",
    "        mod.append(a)"
   ]
  },
  {
   "cell_type": "code",
   "execution_count": 82,
   "metadata": {},
   "outputs": [],
   "source": [
    "mask = nb.load('/home/julia/data/gradients/atlas/allen_api/cortex_mask_tight_200um.nii.gz').get_data()"
   ]
  },
  {
   "cell_type": "code",
   "execution_count": 111,
   "metadata": {},
   "outputs": [],
   "source": [
    "for a in mod: \n",
    "    idcs = df.loc[df['acronym']==a, 'id'].values\n",
    "    for i in idcs:\n",
    "        gene = np.zeros(mask.shape)\n",
    "        gene += nb.load('/home/julia/data/gradients/genes/energy/%s/energy.nii.gz'%i).get_data()\n",
    "        gene[gene ==-1] = np.nan\n",
    "        #gene = sigmoid(gene)\n",
    "        # sigmoid transform\n",
    "    gene = gene / len(idcs) \n",
    "    gene[mask==0] = np.nan"
   ]
  },
  {
   "cell_type": "code",
   "execution_count": null,
   "metadata": {
    "collapsed": true
   },
   "outputs": [],
   "source": []
  }
 ],
 "metadata": {
  "kernelspec": {
   "display_name": "Python 3",
   "language": "python",
   "name": "python3"
  },
  "language_info": {
   "codemirror_mode": {
    "name": "ipython",
    "version": 3
   },
   "file_extension": ".py",
   "mimetype": "text/x-python",
   "name": "python",
   "nbconvert_exporter": "python",
   "pygments_lexer": "ipython3",
   "version": "3.6.8"
  }
 },
 "nbformat": 4,
 "nbformat_minor": 2
}
