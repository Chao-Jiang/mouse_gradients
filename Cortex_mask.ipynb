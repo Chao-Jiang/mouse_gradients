{
 "cells": [
  {
   "cell_type": "code",
   "execution_count": null,
   "metadata": {
    "collapsed": true
   },
   "outputs": [],
   "source": [
    "import numpy as np\n",
    "import nibabel as nb\n",
    "from scipy import ndimage"
   ]
  },
  {
   "cell_type": "markdown",
   "metadata": {},
   "source": [
    "### Load labels and data"
   ]
  },
  {
   "cell_type": "code",
   "execution_count": null,
   "metadata": {
    "collapsed": true
   },
   "outputs": [],
   "source": [
    "labels = list(np.genfromtxt(\"/home/julia/data/gradients/atlas/cortex/cortex_idx.csv\"))\n",
    "atlas = nb.load(\"/home/julia/data/gradients/data_jo/ABI_atlas_reduced_25um.nii.gz\")\n",
    "data = atlas.get_data()"
   ]
  },
  {
   "cell_type": "markdown",
   "metadata": {},
   "source": [
    "### Make first cortex mask from label indices "
   ]
  },
  {
   "cell_type": "markdown",
   "metadata": {},
   "source": [
    "We could have also just downloaded and registered this from Allen API"
   ]
  },
  {
   "cell_type": "code",
   "execution_count": null,
   "metadata": {
    "collapsed": true
   },
   "outputs": [],
   "source": [
    "mask = np.zeros(data.shape)\n",
    "for l in labels: \n",
    "    mask[np.where(data==int(l))]=1\n",
    "nb.save(nb.Nifti1Image(mask, img.affine, img.header), \n",
    "        \"/home/julia/data/gradients/atlas/cortex/cortex_mask_25um.nii.gz\")"
   ]
  },
  {
   "cell_type": "markdown",
   "metadata": {},
   "source": [
    "### Find the missing piece of cortex"
   ]
  },
  {
   "cell_type": "markdown",
   "metadata": {},
   "source": [
    "A mix of manual thresholding and mask drawing and image clustering with scipy"
   ]
  },
  {
   "cell_type": "code",
   "execution_count": null,
   "metadata": {
    "collapsed": true
   },
   "outputs": [],
   "source": [
    "x = nb.load(\"/home/julia/data/gradients/atlas/cortex/x_25um.nii.gz\").get_data()\n",
    "y = ndimage.label(x)\n",
    "nb.save(nb.Nifti1Image(y[0], img.affine, img.header), \n",
    "        \"/home/julia/projects/gradients/atlas/cortex/y_25um.nii.gz\")"
   ]
  },
  {
   "cell_type": "code",
   "execution_count": null,
   "metadata": {
    "collapsed": true
   },
   "outputs": [],
   "source": [
    "z = np.zeros(x.shape)\n",
    "z[np.where(y[0]==1)]=1\n",
    "z[np.where(y[0]==12)]=1\n",
    "nb.save(nb.Nifti1Image(z, img.affine, img.header), \n",
    "        \"/home/julia/data/gradients/atlas/cortex/z_25um.nii.gz\")"
   ]
  },
  {
   "cell_type": "code",
   "execution_count": null,
   "metadata": {
    "collapsed": true
   },
   "outputs": [],
   "source": [
    "z_new=nb.load(\"/home/julia/data/gradients/atlas/cortex/z_25um_copy.nii.gz\").get_data()\n",
    "q = ndimage.label(z_new)\n",
    "nb.save(nb.Nifti1Image(q[0], img.affine, img.header), \n",
    "        \"/home/julia/data/gradients/atlas/cortex/q_25um.nii.gz\")"
   ]
  },
  {
   "cell_type": "code",
   "execution_count": null,
   "metadata": {
    "collapsed": true
   },
   "outputs": [],
   "source": [
    "j = np.zeros(z.shape)\n",
    "j[np.where(q[0]==2)] = 1\n",
    "j[np.where(q[0]==10)] = 1\n",
    "nb.save(nb.Nifti1Image(j, img.affine, img.header), \n",
    "        \"/home/julia/data/gradients/atlas/cortex/j_25um.nii.gz\")"
   ]
  },
  {
   "cell_type": "markdown",
   "metadata": {
    "collapsed": true
   },
   "source": [
    "### Fix cortex with the missing piece, smooth and dilate"
   ]
  },
  {
   "cell_type": "code",
   "execution_count": null,
   "metadata": {
    "collapsed": true
   },
   "outputs": [],
   "source": [
    "cortex=nb.load(\"/home/julia/data/gradients/atlas/cortex/cortex_mask_25um.nii.gz\").get_data()"
   ]
  },
  {
   "cell_type": "code",
   "execution_count": null,
   "metadata": {
    "collapsed": true
   },
   "outputs": [],
   "source": [
    "cortex_fixed=np.zeros(j.shape)\n",
    "cortex_fixed[np.where(cortex>0)]=1\n",
    "cortex_fixed[np.where(j>0)]=1"
   ]
  },
  {
   "cell_type": "code",
   "execution_count": null,
   "metadata": {
    "collapsed": true
   },
   "outputs": [],
   "source": [
    "nb.save(nb.Nifti1Image(cortex_fixed, img.affine, img.header), \n",
    "        \"/home/julia/data/gradients/atlas/cortex/cortex_mask_25um.nii.gz\")"
   ]
  },
  {
   "cell_type": "code",
   "execution_count": null,
   "metadata": {
    "collapsed": true
   },
   "outputs": [],
   "source": [
    "!fslmaths cortex_mask_25um.nii.gz -s 0.2 -thr 0.4 -bin cortex_mask_25um.nii.gz\n",
    "!fslmaths cortex_mask_25um.nii.gz -dilM -dilM cortex_mask_25um_dilM2.nii.gz"
   ]
  },
  {
   "cell_type": "markdown",
   "metadata": {},
   "source": [
    "### Make a mask that contains all structures"
   ]
  },
  {
   "cell_type": "markdown",
   "metadata": {},
   "source": [
    "Again could have been downloaded from Allen API"
   ]
  },
  {
   "cell_type": "code",
   "execution_count": null,
   "metadata": {
    "collapsed": true
   },
   "outputs": [],
   "source": [
    "ven = nb.load(\"/home/julia/data/gradients/atlas/mask_VEN_bin_25um.nii.gz\")\n",
    "wm = nb.load(\"/home/julia/data/gradients/atlas/mask_WM_bin_25um.nii.gz\")"
   ]
  },
  {
   "cell_type": "code",
   "execution_count": null,
   "metadata": {
    "collapsed": true
   },
   "outputs": [],
   "source": [
    "allmask = np.zeros(ven.shape)\n",
    "allmask[np.where(ven.get_data()!=0)] = 1\n",
    "allmask[np.where(wm.get_data()!=0)] = 1\n",
    "allmask[np.where(atlas.get_data()!=0)] = 1"
   ]
  },
  {
   "cell_type": "markdown",
   "metadata": {},
   "source": [
    "Fill in some missing labels"
   ]
  },
  {
   "cell_type": "code",
   "execution_count": null,
   "metadata": {
    "collapsed": true
   },
   "outputs": [],
   "source": [
    "atlas_full = nb.load(\"/home/julia/data/gradients/atlas/ABI_atlas_25um.nii.gz\")\n",
    "new_labels = [61, 72, 73, 290, 301, 302]\n",
    "for l in new_labels: \n",
    "    allmask[np.where(atlas.get_data()==l)]=1\n",
    "\n",
    "nb.save(nb.Nifti1Image(allmask, ven.affine, ven.header), \n",
    "        \"/home/julia/data/gradients/atlas/cortex/all_mask_25um.nii.gz\")"
   ]
  },
  {
   "cell_type": "markdown",
   "metadata": {
    "collapsed": true
   },
   "source": [
    "### Make a mask containing everything but cortex"
   ]
  },
  {
   "cell_type": "code",
   "execution_count": null,
   "metadata": {
    "collapsed": true
   },
   "outputs": [],
   "source": [
    "cortex = nb.load(\"/home/julia/data/gradients/atlas/cortex/cortex_mask_25um.nii.gz\")\n",
    "inside = allmask_new - cortex.get_data()\n",
    "inside[np.where(inside==-1)]=0\n",
    "nb.save(nb.Nifti1Image(inside, cortex.affine, cortex.header), \n",
    "        \"/home/julia/data/gradients/atlas/make_cortex/cortex/inside_mask_25um.nii.gz\")"
   ]
  },
  {
   "cell_type": "markdown",
   "metadata": {},
   "source": [
    "### Make fake white matter and white/grey matter masks "
   ]
  },
  {
   "cell_type": "code",
   "execution_count": null,
   "metadata": {
    "collapsed": true
   },
   "outputs": [],
   "source": [
    "cortex_dil = nb.load(\"/home/julia/data/gradients/atlas/cortex/cortex_mask_25um_dilM2.nii.gz\")\n",
    "wm_fake = np.zeros(cortex.get_data().shape)\n",
    "wm_fake[np.where(inside>0)] = 1\n",
    "wm_fake[np.where(cortex.get_data()>0)] = 0\n",
    "wm_fake *= cortex_dil.get_data()"
   ]
  },
  {
   "cell_type": "code",
   "execution_count": null,
   "metadata": {
    "collapsed": true
   },
   "outputs": [],
   "source": [
    "nb.save(nb.Nifti1Image(wm_fake, cortex.affine, cortex.header), \n",
    "        \"/home/julia/projects/gradients/atlas/cortex/wm_fake_25um.nii.gz\")"
   ]
  },
  {
   "cell_type": "code",
   "execution_count": null,
   "metadata": {
    "collapsed": true
   },
   "outputs": [],
   "source": [
    "!fslmaths wm_fake_25um.nii.gz -dilM -dilM -dilM -dilM wm_fake_25um_dilM4.nii.gz\n",
    "!fslmaths wm_fake_25um_dilM4.nii.gz -dilM -dilM -dilM -dilM wm_fake_25um_dilM8.nii.gz"
   ]
  },
  {
   "cell_type": "code",
   "execution_count": null,
   "metadata": {
    "collapsed": true
   },
   "outputs": [],
   "source": [
    "!fslmaths wm_fake_25um_dilM8.nii.gz -add cortex_mask_25um.nii.gz -bin wmgm_mask.nii.gz\n",
    "!fslmaths wm_fake_25um_dilM8.nii.gz -sub cortex_mask_25um.nii.gz -thr 0 wm_mask.nii.gz"
   ]
  }
 ],
 "metadata": {
  "kernelspec": {
   "display_name": "Python 3",
   "language": "python",
   "name": "python3"
  },
  "language_info": {
   "codemirror_mode": {
    "name": "ipython",
    "version": 3
   },
   "file_extension": ".py",
   "mimetype": "text/x-python",
   "name": "python",
   "nbconvert_exporter": "python",
   "pygments_lexer": "ipython3",
   "version": "3.6.8"
  }
 },
 "nbformat": 4,
 "nbformat_minor": 2
}
