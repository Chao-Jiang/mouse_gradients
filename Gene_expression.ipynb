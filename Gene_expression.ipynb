{
 "cells": [
  {
   "cell_type": "code",
   "execution_count": 1,
   "metadata": {
    "collapsed": true
   },
   "outputs": [],
   "source": [
    "%matplotlib inline"
   ]
  },
  {
   "cell_type": "code",
   "execution_count": 2,
   "metadata": {},
   "outputs": [],
   "source": [
    "import nibabel as nb\n",
    "import numpy as np\n",
    "import matplotlib.pyplot as plt\n",
    "import pandas as pd\n",
    "import skimage.io as io\n",
    "from sklearn.preprocessing import StandardScaler\n",
    "from sklearn.decomposition import PCA\n",
    "from nilearn.input_data import NiftiMasker\n",
    "import seaborn as sns\n",
    "import scipy.stats as stats"
   ]
  },
  {
   "cell_type": "code",
   "execution_count": 3,
   "metadata": {},
   "outputs": [],
   "source": [
    "mask_img = nb.load('/home/julia/data/gradients/atlas/allen_api/cortex_mask_tight_200um.nii.gz')\n",
    "mask = mask_img.get_data()\n",
    "aff = mask_img.affine\n",
    "hdr = mask_img.header"
   ]
  },
  {
   "cell_type": "code",
   "execution_count": 4,
   "metadata": {
    "collapsed": true
   },
   "outputs": [],
   "source": [
    "df = pd.read_csv(\"/home/julia/data/gradients/genes/gene_list_full.csv\")\n",
    "df = df[df['acronym']!=\"FALSE\"]"
   ]
  },
  {
   "cell_type": "markdown",
   "metadata": {},
   "source": [
    "### Make a mask that has data in most gene maps"
   ]
  },
  {
   "cell_type": "code",
   "execution_count": 13,
   "metadata": {},
   "outputs": [],
   "source": [
    "ids = list(df['id'])\n",
    "gene_mask = np.zeros(mask.shape)\n",
    "n_maps = 0\n",
    "for n in range(len(ids)):\n",
    "    try:\n",
    "        # load and save as nifti\n",
    "        gene = np.swapaxes(io.imread('/home/julia/data/gradients/genes/energy/%s/energy.mhd'% ids[n],\n",
    "                                      plugin='simpleitk'), \n",
    "                            0,2)[:-1,:-1,:-1]\n",
    "        nb.save(nb.Nifti1Image(gene, aff, hdr), '/home/julia/data/gradients/genes/energy/%s/energy.nii.gz'% ids[n])\n",
    "        \n",
    "        # create a mask that has data in all maps\n",
    "        gene_mask[np.where(gene >= 1)] += 1\n",
    "        \n",
    "        n_maps += 1\n",
    "\n",
    "    except RuntimeError:\n",
    "        pass\n",
    "gene_mask[mask==0] = 0"
   ]
  },
  {
   "cell_type": "code",
   "execution_count": 17,
   "metadata": {},
   "outputs": [],
   "source": [
    "gene_mask_thr = np.zeros(mask.shape)\n",
    "gene_mask_thr[gene_mask >= (n_maps/2)] = 1\n",
    "nb.save(nb.Nifti1Image(gene_mask_thr, aff, hdr), '/home/julia/data/gradients/genes/gene_mask.nii.gz')"
   ]
  },
  {
   "cell_type": "code",
   "execution_count": 20,
   "metadata": {},
   "outputs": [
    {
     "data": {
      "text/plain": [
       "4230"
      ]
     },
     "execution_count": 20,
     "metadata": {},
     "output_type": "execute_result"
    }
   ],
   "source": [
    "np.where(mask==1)[0].shape[0] - np.where(gene_mask_thr==1)[0].shape[0]"
   ]
  },
  {
   "cell_type": "markdown",
   "metadata": {},
   "source": [
    "### Create a gene matrix"
   ]
  },
  {
   "cell_type": "code",
   "execution_count": 26,
   "metadata": {},
   "outputs": [],
   "source": [
    "masker = NiftiMasker(mask_img=nb.Nifti1Image(gene_mask_thr, aff, hdr), \n",
    "                     standardize=False, smoothing_fwhm=0.45)"
   ]
  },
  {
   "cell_type": "code",
   "execution_count": 29,
   "metadata": {
    "scrolled": true
   },
   "outputs": [],
   "source": [
    "gene_matrix = np.zeros((np.where(gene_mask_thr==1)[0].shape[0], len(df)))\n",
    "ids = list(df['id'])\n",
    "for n in range(len(ids)):\n",
    "    try:\n",
    "        # load and save as nifti\n",
    "        gene = nb.load('/home/julia/data/gradients/genes/energy/%s/energy.nii.gz'% ids[n]).get_data()\n",
    "        \n",
    "        # smooth and add to gene matrix            \n",
    "        gene_matrix[:,n] = masker.fit_transform(nb.Nifti1Image(gene, aff, hdr))\n",
    "\n",
    "    except FileNotFoundError:\n",
    "        gene_matrix[:,n] = np.nan"
   ]
  },
  {
   "cell_type": "code",
   "execution_count": 30,
   "metadata": {
    "collapsed": true
   },
   "outputs": [],
   "source": [
    "np.save('/home/julia/data/gradients/genes/gene_matrix.npy', gene_matrix)\n",
    "# gene_matrix = np.load('/home/julia/data/gradients/genes/gene_matrix.npy')"
   ]
  },
  {
   "cell_type": "markdown",
   "metadata": {},
   "source": [
    "## !!! Normalize expression data (see Fulcher, Goulas) ##"
   ]
  },
  {
   "cell_type": "code",
   "execution_count": 31,
   "metadata": {},
   "outputs": [],
   "source": [
    "df = pd.DataFrame(data=gene_matrix, columns=ids)\n",
    "df_small = df.dropna(axis=1)"
   ]
  },
  {
   "cell_type": "code",
   "execution_count": 34,
   "metadata": {
    "collapsed": true
   },
   "outputs": [],
   "source": [
    "# Standardizing the features & run PCA\n",
    "x = StandardScaler().fit_transform(df_small.loc[:,:])\n",
    "pca = PCA()\n",
    "pcs = pca.fit_transform(x)"
   ]
  },
  {
   "cell_type": "code",
   "execution_count": 35,
   "metadata": {
    "scrolled": true
   },
   "outputs": [
    {
     "data": {
      "image/png": "[encoded data removed]",
      "text/plain": [
       "<Figure size 432x288 with 1 Axes>"
      ]
     },
     "metadata": {},
     "output_type": "display_data"
    }
   ],
   "source": [
    "plt.plot(pca.explained_variance_ratio_[:20]*100, 'o')\n",
    "sns.despine()"
   ]
  },
  {
   "cell_type": "code",
   "execution_count": 36,
   "metadata": {},
   "outputs": [],
   "source": [
    "np.save('/home/julia/data/gradients/genes/pca_components.npy', pcs)"
   ]
  },
  {
   "cell_type": "markdown",
   "metadata": {},
   "source": [
    "### Correlate first 6 PCAs with first 6 Gradients"
   ]
  },
  {
   "cell_type": "code",
   "execution_count": 38,
   "metadata": {},
   "outputs": [
    {
     "name": "stdout",
     "output_type": "stream",
     "text": [
      "Gradient 0, PCA 2: SpearmanrResult(correlation=0.3980257743878758, pvalue=0.0)\n",
      "Gradient 0, PCA 3: SpearmanrResult(correlation=0.36542420003614834, pvalue=0.0)\n",
      "Gradient 0, PCA 4: SpearmanrResult(correlation=-0.3830228998067505, pvalue=0.0)\n",
      "Gradient 1, PCA 4: SpearmanrResult(correlation=0.30681893373947444, pvalue=1.4215599768462748e-242)\n",
      "Gradient 2, PCA 0: SpearmanrResult(correlation=-0.47627835579917277, pvalue=0.0)\n",
      "Gradient 2, PCA 2: SpearmanrResult(correlation=-0.6228465798132243, pvalue=0.0)\n",
      "Gradient 4, PCA 0: SpearmanrResult(correlation=0.33123438947042144, pvalue=9.306860782904315e-285)\n",
      "Gradient 4, PCA 1: SpearmanrResult(correlation=0.6190798798653486, pvalue=0.0)\n"
     ]
    }
   ],
   "source": [
    "gradients = nb.load('/home/julia/data/gradients/results/embedding_vol/embed.nii.gz').get_data()\n",
    "for g in range(6):\n",
    "    gradient =  gradients[:,:,:,g]\n",
    "    for p in range(6):\n",
    "        r = stats.spearmanr(gradient[gene_mask_thr==1], pcs[:,p])\n",
    "        if np.abs(r[0]) > 0.3:\n",
    "            print('Gradient %i, PCA %i:' %(g,p), r)"
   ]
  },
  {
   "cell_type": "markdown",
   "metadata": {},
   "source": [
    "### Save first six PCAs as images"
   ]
  },
  {
   "cell_type": "code",
   "execution_count": 47,
   "metadata": {},
   "outputs": [],
   "source": [
    "for p in range(6):\n",
    "    revolume = masker.inverse_transform(pcs[:,p])\n",
    "    revolume.to_filename('/home/julia/data/gradients/genes/pca_%i.nii.gz' %p)"
   ]
  }
 ],
 "metadata": {
  "kernelspec": {
   "display_name": "Python 3",
   "language": "python",
   "name": "python3"
  },
  "language_info": {
   "codemirror_mode": {
    "name": "ipython",
    "version": 3
   },
   "file_extension": ".py",
   "mimetype": "text/x-python",
   "name": "python",
   "nbconvert_exporter": "python",
   "pygments_lexer": "ipython3",
   "version": "3.6.8"
  }
 },
 "nbformat": 4,
 "nbformat_minor": 2
}
