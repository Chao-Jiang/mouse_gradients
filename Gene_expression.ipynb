{
 "cells": [
  {
   "cell_type": "code",
   "execution_count": 1,
   "metadata": {
    "collapsed": true
   },
   "outputs": [],
   "source": [
    "%matplotlib inline"
   ]
  },
  {
   "cell_type": "code",
   "execution_count": 2,
   "metadata": {
    "collapsed": true
   },
   "outputs": [],
   "source": [
    "import nibabel as nb\n",
    "import numpy as np\n",
    "import matplotlib.pyplot as plt\n",
    "import pandas as pd\n",
    "import skimage.io as io\n",
    "from sklearn.preprocessing import StandardScaler, MinMaxScaler\n",
    "from sklearn.decomposition import PCA\n",
    "from nilearn.input_data import NiftiMasker\n",
    "import seaborn as sns\n",
    "import scipy.stats as stats"
   ]
  },
  {
   "cell_type": "code",
   "execution_count": 3,
   "metadata": {
    "collapsed": true
   },
   "outputs": [],
   "source": [
    "mask_img = nb.load('/home/julia/data/gradients/atlas/allen_api/cortex_mask_tight_200um.nii.gz')\n",
    "mask = mask_img.get_data()\n",
    "aff = mask_img.affine\n",
    "hdr = mask_img.header"
   ]
  },
  {
   "cell_type": "code",
   "execution_count": 4,
   "metadata": {
    "collapsed": true
   },
   "outputs": [],
   "source": [
    "df = pd.read_csv(\"/home/julia/data/gradients/genes/gene_list_full.csv\")\n",
    "df = df[df['acronym']!=\"FALSE\"]\n",
    "df = df[np.isnan(df['entrez'])==False]\n",
    "df = df.reset_index(drop=True)"
   ]
  },
  {
   "cell_type": "markdown",
   "metadata": {},
   "source": [
    "### Make a mask that has data in most gene maps"
   ]
  },
  {
   "cell_type": "code",
   "execution_count": 73,
   "metadata": {
    "collapsed": true
   },
   "outputs": [],
   "source": [
    "ids = list(df['id'])\n",
    "gene_mask = np.zeros(mask.shape)\n",
    "n_maps = 0\n",
    "miss = []\n",
    "for n in range(len(ids)):\n",
    "    try:\n",
    "        # load and save as nifti\n",
    "        gene = np.swapaxes(io.imread('/home/julia/data/gradients/genes/energy/%s/energy.mhd'% ids[n],\n",
    "                                      plugin='simpleitk'), \n",
    "                            0,2)[:-1,:-1,:-1]\n",
    "        nb.save(nb.Nifti1Image(gene, aff, hdr), '/home/julia/data/gradients/genes/energy/%s/energy.nii.gz'% ids[n])\n",
    "        \n",
    "        # create a mask that has data in all maps\n",
    "        gene_mask[np.where(gene >= 1)] += 1\n",
    "        \n",
    "        n_maps += 1\n",
    "\n",
    "    except RuntimeError:\n",
    "        miss.append(ids[n])\n",
    "        pass\n",
    "\n",
    "gene_mask[mask==0] = 0"
   ]
  },
  {
   "cell_type": "code",
   "execution_count": 101,
   "metadata": {
    "collapsed": true
   },
   "outputs": [],
   "source": [
    "# Drop entries that don't have a map from dataframe\n",
    "for m in miss:\n",
    "    df = df.drop(df[df['id']==m].index.values[0])\n",
    "df = df.reset_index(drop=True)"
   ]
  },
  {
   "cell_type": "code",
   "execution_count": 103,
   "metadata": {
    "collapsed": true
   },
   "outputs": [],
   "source": [
    "# Create a mask that is covered at least by half of the expression data\n",
    "gene_mask_thr = np.zeros(mask.shape)\n",
    "gene_mask_thr[gene_mask >= (n_maps/2)] = 1\n",
    "nb.save(nb.Nifti1Image(gene_mask_thr, aff, hdr), '/home/julia/data/gradients/genes/gene_mask.nii.gz')"
   ]
  },
  {
   "cell_type": "code",
   "execution_count": 121,
   "metadata": {
    "collapsed": true
   },
   "outputs": [],
   "source": [
    "cortex = np.where(gene_mask_thr==1)[0].shape[0]"
   ]
  },
  {
   "cell_type": "markdown",
   "metadata": {},
   "source": [
    "### Combine energy for experiments probing the same gene (entrez)"
   ]
  },
  {
   "cell_type": "code",
   "execution_count": 77,
   "metadata": {
    "collapsed": true
   },
   "outputs": [],
   "source": [
    "# Smooth while loading and compressing\n",
    "masker = NiftiMasker(mask_img=nb.Nifti1Image(gene_mask_thr, aff, hdr), \n",
    "                     standardize=False, smoothing_fwhm=0.45)"
   ]
  },
  {
   "cell_type": "code",
   "execution_count": 177,
   "metadata": {
    "collapsed": true,
    "scrolled": true
   },
   "outputs": [],
   "source": [
    "entrez = np.unique(df['entrez'])\n",
    "energy = np.zeros((cortex, entrez.shape[0]))\n",
    "\n",
    "for e in range(entrez.shape[0]):\n",
    "    # find all probes for that gene\n",
    "    probes = list(df[df['entrez']==entrez[e]]['id'])\n",
    "    \n",
    "    gene = np.zeros(mask.shape)\n",
    "    for p in probes:\n",
    "        # load nifti\n",
    "        gene += nb.load('/home/julia/data/gradients/genes/energy/%s/energy.nii.gz'% p).get_data()\n",
    "    gene = gene / len(probes)\n",
    "    \n",
    "    # smooth and add to gene matrix            \n",
    "    energy[:,e] = masker.fit_transform(nb.Nifti1Image(gene, aff, hdr))"
   ]
  },
  {
   "cell_type": "code",
   "execution_count": 180,
   "metadata": {
    "collapsed": true
   },
   "outputs": [],
   "source": [
    "np.save('/home/julia/data/gradients/genes/energy.npy', energy)"
   ]
  },
  {
   "cell_type": "code",
   "execution_count": 186,
   "metadata": {
    "collapsed": true
   },
   "outputs": [],
   "source": [
    "df_energy = pd.DataFrame(index=entrez, data=energy.T)\n",
    "df_energy.to_csv('/home/julia/data/gradients/genes/energy.csv')"
   ]
  },
  {
   "cell_type": "markdown",
   "metadata": {},
   "source": [
    "### Normalize gene expression data using sigmoid function and standard rescaling"
   ]
  },
  {
   "cell_type": "code",
   "execution_count": 5,
   "metadata": {
    "collapsed": true
   },
   "outputs": [],
   "source": [
    "energy = np.load('/home/julia/data/gradients/genes/energy.npy')"
   ]
  },
  {
   "cell_type": "code",
   "execution_count": 6,
   "metadata": {
    "collapsed": true
   },
   "outputs": [],
   "source": [
    "def sigmoid(energy):\n",
    "    X = (energy - np.mean(energy)) / np.std(energy)\n",
    "    sig = 1 / (1 + np.exp(-X))\n",
    "    return sig"
   ]
  },
  {
   "cell_type": "code",
   "execution_count": 8,
   "metadata": {},
   "outputs": [],
   "source": [
    "sigmoid_energy = np.zeros_like(energy)\n",
    "for e in range(energy.shape[1]):\n",
    "    sigmoid_energy[:,e] = sigmoid(energy[:,e])"
   ]
  },
  {
   "cell_type": "code",
   "execution_count": 9,
   "metadata": {},
   "outputs": [
    {
     "data": {
      "image/png": "[encoded data removed]",
      "text/plain": [
       "<Figure size 432x288 with 1 Axes>"
      ]
     },
     "metadata": {},
     "output_type": "display_data"
    }
   ],
   "source": [
    "plt.hist(sigmoid_energy.flatten());\n",
    "sns.despine()"
   ]
  },
  {
   "cell_type": "code",
   "execution_count": 10,
   "metadata": {
    "collapsed": true
   },
   "outputs": [],
   "source": [
    "# Standardizing the features\n",
    "standard_energy = StandardScaler().fit_transform(sigmoid_energy)"
   ]
  },
  {
   "cell_type": "code",
   "execution_count": 11,
   "metadata": {},
   "outputs": [
    {
     "data": {
      "image/png": "[encoded data removed]",
      "text/plain": [
       "<Figure size 432x288 with 1 Axes>"
      ]
     },
     "metadata": {},
     "output_type": "display_data"
    }
   ],
   "source": [
    "plt.hist(standard_energy.flatten(), bins=50);\n",
    "sns.despine()"
   ]
  },
  {
   "cell_type": "markdown",
   "metadata": {},
   "source": [
    "### Run PCA"
   ]
  },
  {
   "cell_type": "code",
   "execution_count": 35,
   "metadata": {
    "collapsed": true
   },
   "outputs": [],
   "source": [
    "pca = PCA(n_components=500)\n",
    "pcs = pca.fit_transform(standard_energy)"
   ]
  },
  {
   "cell_type": "code",
   "execution_count": 66,
   "metadata": {},
   "outputs": [],
   "source": [
    "comp05 = np.where(np.cumsum(pca.explained_variance_ratio_) > 0.5)[0][0]\n",
    "comp09 = np.where(np.cumsum(pca.explained_variance_ratio_) > 0.9)[0][0]"
   ]
  },
  {
   "cell_type": "code",
   "execution_count": 93,
   "metadata": {},
   "outputs": [
    {
     "data": {
      "image/png": "[encoded data removed]",
      "text/plain": [
       "<Figure size 1080x360 with 2 Axes>"
      ]
     },
     "metadata": {},
     "output_type": "display_data"
    }
   ],
   "source": [
    "#Plotting the Cumulative Summation of the Explained Variance\n",
    "sns.set_context(\"talk\")\n",
    "fig = plt.figure(figsize=(15,5))\n",
    "\n",
    "fig.add_subplot(121)\n",
    "plt.plot(np.cumsum(pca.explained_variance_ratio_)[:110])\n",
    "plt.xlabel('Number of Components')\n",
    "plt.ylabel('Cumulative variance') \n",
    "plt.xticks([comp05, 50, comp09])\n",
    "plt.yticks([0.1, 0.3, 0.5, 0.7, 0.9])\n",
    "plt.hlines(0.9, 0, comp09, color='darkgreen', linestyle=\"--\")\n",
    "plt.vlines(comp09, 0.1, 0.9, color='darkgreen', linestyle=\"--\")\n",
    "plt.hlines(0.5, 0, comp05, color='darkred', linestyle=\"--\")\n",
    "plt.vlines(comp05, 0.1, 0.5, color='darkred', linestyle=\"--\")\n",
    "sns.despine()\n",
    "\n",
    "fig.add_subplot(122)\n",
    "plt.plot(pca.explained_variance_ratio_[:8], 'o', linestyle=\"-\")\n",
    "plt.xticks([0,1,2,3,4,5,6,7])\n",
    "plt.xlabel('Component')\n",
    "plt.ylabel('Individual variance') \n",
    "sns.despine()"
   ]
  },
  {
   "cell_type": "code",
   "execution_count": 228,
   "metadata": {
    "collapsed": true
   },
   "outputs": [],
   "source": [
    "np.save('/home/julia/data/gradients/results/genes/pca_components.npy', pcs)"
   ]
  },
  {
   "cell_type": "markdown",
   "metadata": {},
   "source": [
    "### Correlate first 5 PCAs with first 6 Gradients"
   ]
  },
  {
   "cell_type": "code",
   "execution_count": 5,
   "metadata": {
    "collapsed": true
   },
   "outputs": [],
   "source": [
    "gene_mask_thr = nb.load('/home/julia/data/gradients/genes/gene_mask.nii.gz').get_data()\n",
    "pcs = np.load('/home/julia/data/gradients/results/genes/pca_components.npy')"
   ]
  },
  {
   "cell_type": "code",
   "execution_count": 6,
   "metadata": {},
   "outputs": [
    {
     "name": "stdout",
     "output_type": "stream",
     "text": [
      "Gradient 0, PCA 2: SpearmanrResult(correlation=0.5160266065339421, pvalue=0.0)\n",
      "Gradient 2, PCA 1: SpearmanrResult(correlation=-0.5286232351469956, pvalue=0.0)\n",
      "Gradient 2, PCA 2: SpearmanrResult(correlation=-0.6063153076234782, pvalue=0.0)\n",
      "Gradient 4, PCA 1: SpearmanrResult(correlation=0.6524845131589614, pvalue=0.0)\n"
     ]
    }
   ],
   "source": [
    "gradients = nb.load('/home/julia/data/gradients/results/embedding_vol/embed.nii.gz').get_data()\n",
    "for g in range(6):\n",
    "    gradient =  gradients[:,:,:,g]\n",
    "    for p in range(5):\n",
    "        r = stats.spearmanr(gradient[gene_mask_thr==1], pcs[:,p])\n",
    "        if np.abs(r[0]) > 0.5:\n",
    "            print('Gradient %i, PCA %i:' %(g,p), r)"
   ]
  },
  {
   "cell_type": "markdown",
   "metadata": {},
   "source": [
    "### Save first six PCAs as images"
   ]
  },
  {
   "cell_type": "code",
   "execution_count": 237,
   "metadata": {
    "collapsed": true
   },
   "outputs": [],
   "source": [
    "pca_img = np.zeros((mask.shape[0], mask.shape[1], mask.shape[2], 5))\n",
    "for p in range(5):\n",
    "    pca_img[:,:,:,p] = masker.inverse_transform(pcs[:,p]).get_data()\n",
    "nb.save(nb.Nifti1Image(pca_img, aff, hdr), '/home/julia/data/gradients/results/genes/pca_img.nii.gz')"
   ]
  },
  {
   "cell_type": "markdown",
   "metadata": {
    "collapsed": true
   },
   "source": [
    "### Correlate with cell density maps"
   ]
  },
  {
   "cell_type": "code",
   "execution_count": 9,
   "metadata": {
    "collapsed": true
   },
   "outputs": [],
   "source": [
    "cells = nb.load('/home/julia/data/gradients/atlas/epfl_cell_atlas/cortex_cells_200um_smooth045.nii.gz').get_data().squeeze()"
   ]
  },
  {
   "cell_type": "code",
   "execution_count": 11,
   "metadata": {},
   "outputs": [
    {
     "name": "stdout",
     "output_type": "stream",
     "text": [
      "Cells, PCA 0: SpearmanrResult(correlation=-0.12016773265207369, pvalue=3.047293569391102e-40)\n",
      "Cells, PCA 1: SpearmanrResult(correlation=-0.5592035950906552, pvalue=0.0)\n",
      "Cells, PCA 2: SpearmanrResult(correlation=0.2779096823269439, pvalue=6.332220677308019e-214)\n",
      "Cells, PCA 3: SpearmanrResult(correlation=-0.3934274015060571, pvalue=0.0)\n",
      "Cells, PCA 4: SpearmanrResult(correlation=0.25930669701176684, pvalue=1.5528169685066306e-185)\n"
     ]
    }
   ],
   "source": [
    "for p in range(5):\n",
    "    r = stats.spearmanr(cells[gene_mask_thr==1], pcs[:,p])\n",
    "    print('Cells, PCA %i:' %(p), r)"
   ]
  },
  {
   "cell_type": "code",
   "execution_count": null,
   "metadata": {
    "collapsed": true
   },
   "outputs": [],
   "source": []
  }
 ],
 "metadata": {
  "kernelspec": {
   "display_name": "Python 3",
   "language": "python",
   "name": "python3"
  },
  "language_info": {
   "codemirror_mode": {
    "name": "ipython",
    "version": 3
   },
   "file_extension": ".py",
   "mimetype": "text/x-python",
   "name": "python",
   "nbconvert_exporter": "python",
   "pygments_lexer": "ipython3",
   "version": "3.6.8"
  }
 },
 "nbformat": 4,
 "nbformat_minor": 2
}
