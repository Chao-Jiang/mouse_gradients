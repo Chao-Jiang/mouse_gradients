{
 "cells": [
  {
   "cell_type": "code",
   "execution_count": 1,
   "metadata": {
    "collapsed": true
   },
   "outputs": [],
   "source": [
    "%matplotlib inline"
   ]
  },
  {
   "cell_type": "code",
   "execution_count": 63,
   "metadata": {
    "collapsed": true
   },
   "outputs": [],
   "source": [
    "import os\n",
    "import pickle\n",
    "from glob import glob\n",
    "import pandas as pd\n",
    "import numpy as np\n",
    "import nibabel as nb\n",
    "from nighres.io import io_mesh\n",
    "import matplotlib.pyplot as plt\n",
    "import h5py\n",
    "from scipy.stats import stats\n",
    "import gdist\n",
    "import seaborn as sns\n",
    "from statsmodels.stats.multitest import multipletests"
   ]
  },
  {
   "cell_type": "code",
   "execution_count": 3,
   "metadata": {},
   "outputs": [
    {
     "name": "stderr",
     "output_type": "stream",
     "text": [
      "/home/julia/workspace/conda/anaconda3/lib/python3.6/site-packages/pandas/io/parsers.py:2455: FutureWarning: split() requires a non-empty pattern match.\n",
      "  yield pat.split(line.strip())\n",
      "/home/julia/workspace/conda/anaconda3/lib/python3.6/site-packages/pandas/io/parsers.py:2458: FutureWarning: split() requires a non-empty pattern match.\n",
      "  yield pat.split(line.strip())\n"
     ]
    }
   ],
   "source": [
    "mesh = io_mesh.load_mesh('/home/julia/data/gradients/atlas/allen_api/regions/annot_finest.vtk')\n",
    "cortex = np.where(mesh['data']!=0)[0]\n",
    "hpc_mesh = io_mesh.load_mesh(\"/home/julia/data/gradients/results/distance/hippocampus_sampled_mesh.vtk\")\n",
    "piri_mesh = io_mesh.load_mesh(\"/home/julia/data/gradients/results/distance/piriform_sampled_mesh.vtk\")\n",
    "gradients_mesh = io_mesh.load_mesh('/home/julia/data/gradients/results/embedding_vol/embed_sampled_mesh.vtk')"
   ]
  },
  {
   "cell_type": "markdown",
   "metadata": {},
   "source": [
    "### Distance from two origins"
   ]
  },
  {
   "cell_type": "code",
   "execution_count": 5,
   "metadata": {
    "collapsed": true
   },
   "outputs": [],
   "source": [
    "source = np.where(hpc_mesh['data']>0)[0]\n",
    "dist = gdist.compute_gdist(np.array(mesh['points'], dtype=np.float64), \n",
    "                           np.array(mesh['faces'], dtype=np.int32), \n",
    "                           source_indices=np.array(source, dtype=np.int32),\n",
    "                           target_indices=np.array(cortex, dtype=np.int32))\n",
    "dist[dist==np.inf] = 0\n",
    "dist_mesh = np.zeros_like(mesh['data'])\n",
    "dist_mesh[cortex] = dist[:,np.newaxis]\n",
    "io_mesh.save_mesh('/home/julia/data/gradients/results/distance/hippocampus_dist.vtk', \n",
    "             {'points':mesh['points'], 'faces':mesh['faces'], 'data':dist_mesh})"
   ]
  },
  {
   "cell_type": "code",
   "execution_count": 6,
   "metadata": {
    "collapsed": true
   },
   "outputs": [],
   "source": [
    "source = np.where(piri_mesh['data']>0)[0]\n",
    "dist = gdist.compute_gdist(np.array(mesh['points'], dtype=np.float64), \n",
    "                           np.array(mesh['faces'], dtype=np.int32), \n",
    "                           source_indices=np.array(source, dtype=np.int32),\n",
    "                           target_indices=np.array(cortex, dtype=np.int32))\n",
    "dist[dist==np.inf] = 0\n",
    "dist_mesh = np.zeros_like(mesh['data'])\n",
    "dist_mesh[cortex] = dist[:,np.newaxis]\n",
    "io_mesh.save_mesh('/home/julia/data/gradients/results/distance/piriform_dist.vtk', \n",
    "             {'points':mesh['points'], 'faces':mesh['faces'], 'data':dist_mesh})"
   ]
  },
  {
   "cell_type": "code",
   "execution_count": 7,
   "metadata": {
    "collapsed": true
   },
   "outputs": [],
   "source": [
    "hpc_dist = io_mesh.load_mesh('/home/julia/data/gradients/results/distance/hippocampus_dist.vtk')['data']\n",
    "piri_dist = io_mesh.load_mesh('/home/julia/data/gradients/results/distance/piriform_dist.vtk')['data']"
   ]
  },
  {
   "cell_type": "code",
   "execution_count": 17,
   "metadata": {
    "collapsed": true
   },
   "outputs": [],
   "source": [
    "dist_combined = np.zeros_like(mesh['data'])\n",
    "dist_combined[cortex] = - hpc_dist[cortex] + piri_dist[cortex]\n",
    "io_mesh.save_mesh('/home/julia/data/gradients/results/distance/combined_dist.vtk', \n",
    "             {'points':mesh['points'], 'faces':mesh['faces'], 'data':dist_combined})"
   ]
  },
  {
   "cell_type": "code",
   "execution_count": 7,
   "metadata": {},
   "outputs": [],
   "source": [
    "dist_combined=io_mesh.load_mesh('/home/julia/data/gradients/results/distance/combined_dist.vtk')['data']"
   ]
  },
  {
   "cell_type": "code",
   "execution_count": 10,
   "metadata": {},
   "outputs": [],
   "source": [
    "r_values = []\n",
    "p_values = []\n",
    "for g in range(6):\n",
    "    r, p = stats.spearmanr(dist_combined[cortex], gradients_mesh['data'][:,g][cortex])\n",
    "    r_values.append(r)\n",
    "    p_values.append(p)"
   ]
  },
  {
   "cell_type": "code",
   "execution_count": 12,
   "metadata": {},
   "outputs": [],
   "source": [
    "reject_0, p_corr, _, _ = multipletests(p_values, alpha=0.01, method='fdr_bh')"
   ]
  },
  {
   "cell_type": "code",
   "execution_count": 14,
   "metadata": {},
   "outputs": [
    {
     "name": "stdout",
     "output_type": "stream",
     "text": [
      "Gradient 0 r=0.812273 p_corr=0.000000\n",
      "Gradient 1 r=0.035297 p_corr=0.000145\n",
      "Gradient 2 r=-0.033269 p_corr=0.000291\n",
      "Gradient 3 r=-0.300303 p_corr=0.000000\n",
      "Gradient 4 r=-0.624844 p_corr=0.000000\n",
      "Gradient 5 r=0.111475 p_corr=0.000000\n"
     ]
    }
   ],
   "source": [
    "for g in range(6):\n",
    "    if reject_0[g] == True:\n",
    "        print('Gradient %i' %g, 'r=%f'%r_values[g], 'p_corr=%f'%p_corr[g])"
   ]
  },
  {
   "cell_type": "markdown",
   "metadata": {},
   "source": [
    "### Zones"
   ]
  },
  {
   "cell_type": "code",
   "execution_count": 13,
   "metadata": {
    "collapsed": true
   },
   "outputs": [],
   "source": [
    "zones_mesh = np.zeros_like(mesh['data'])\n",
    "zones_mesh[hpc_dist < piri_dist] = 1\n",
    "zones_mesh[hpc_dist > piri_dist] = -1\n",
    "io_mesh.save_mesh('/home/julia/data/gradients/results/distance/zones.vtk', \n",
    "             {'points':mesh['points'], 'faces':mesh['faces'], 'data':zones_mesh})\n"
   ]
  },
  {
   "cell_type": "code",
   "execution_count": 18,
   "metadata": {
    "collapsed": true
   },
   "outputs": [],
   "source": [
    "zones = io_mesh.load_mesh('/home/julia/data/gradients/results/distance/zones.vtk')\n",
    "masked_zones = np.squeeze(zones['data'][cortex])\n",
    "piri_zone = gradients_mesh['data'][:,0][cortex][masked_zones==-1]\n",
    "hpc_zone = gradients_mesh['data'][:,0][cortex][masked_zones==1]"
   ]
  },
  {
   "cell_type": "code",
   "execution_count": 16,
   "metadata": {},
   "outputs": [
    {
     "data": {
      "image/png": "[encoded data removed]",
      "text/plain": [
       "<Figure size 432x288 with 1 Axes>"
      ]
     },
     "metadata": {},
     "output_type": "display_data"
    }
   ],
   "source": [
    "data = pd.DataFrame()\n",
    "data['Gradient 1'] = np.concatenate((piri_zone, hpc_zone))\n",
    "data['Zone'] = piri_zone.shape[0] * ['Paleocortex'] + hpc_zone.shape[0] * ['Archicortex']\n",
    "pal = sns.color_palette([(1, 190/255, 187/255),\n",
    "                         (24/255, 85/255, 114/255)])\n",
    "\n",
    "fig = plt.figure()\n",
    "sns.set_style('ticks')\n",
    "sns.set_context('poster')\n",
    "sns.boxplot(x=\"Zone\", y=\"Gradient 1\",data=data, palette=pal, saturation=1)\n",
    "sns.despine()\n",
    "plt.tight_layout()\n",
    "plt.yticks([-0.1, -0.05, 0.0, 0.05])\n",
    "fig.savefig(\"/home/julia/data/gradients/pics/zones.svg\")"
   ]
  },
  {
   "cell_type": "markdown",
   "metadata": {},
   "source": [
    "### Statistical energy distance and permutation testing"
   ]
  },
  {
   "cell_type": "code",
   "execution_count": 59,
   "metadata": {},
   "outputs": [],
   "source": [
    "dist = stats.energy_distance(piri_zone, hpc_zone)"
   ]
  },
  {
   "cell_type": "code",
   "execution_count": 38,
   "metadata": {},
   "outputs": [],
   "source": [
    "pool = np.concatenate((piri_zone, hpc_zone))"
   ]
  },
  {
   "cell_type": "code",
   "execution_count": 57,
   "metadata": {},
   "outputs": [],
   "source": [
    "energies = []\n",
    "for i in range(1000):\n",
    "    new = np.random.permutation(pool)\n",
    "    energies.append(stats.energy_distance(new[:piri_zone.shape[0]],new[-hpc_zone.shape[0]:]))"
   ]
  },
  {
   "cell_type": "code",
   "execution_count": 79,
   "metadata": {
    "collapsed": true
   },
   "outputs": [],
   "source": [
    "t, p = stats.ttest_1samp(energies, dist, axis=0)"
   ]
  },
  {
   "cell_type": "code",
   "execution_count": 80,
   "metadata": {},
   "outputs": [
    {
     "name": "stdout",
     "output_type": "stream",
     "text": [
      "0.257915553209 -4833.92007771 0.0\n"
     ]
    }
   ],
   "source": [
    "print(dist, t, p)"
   ]
  },
  {
   "cell_type": "code",
   "execution_count": 77,
   "metadata": {},
   "outputs": [
    {
     "data": {
      "image/png": "[encoded data removed]",
      "text/plain": [
       "<Figure size 432x288 with 1 Axes>"
      ]
     },
     "metadata": {},
     "output_type": "display_data"
    }
   ],
   "source": [
    "plt.hist(energies)\n",
    "sns.despine()"
   ]
  },
  {
   "cell_type": "code",
   "execution_count": null,
   "metadata": {
    "collapsed": true
   },
   "outputs": [],
   "source": []
  }
 ],
 "metadata": {
  "kernelspec": {
   "display_name": "Python 3",
   "language": "python",
   "name": "python3"
  },
  "language_info": {
   "codemirror_mode": {
    "name": "ipython",
    "version": 3
   },
   "file_extension": ".py",
   "mimetype": "text/x-python",
   "name": "python",
   "nbconvert_exporter": "python",
   "pygments_lexer": "ipython3",
   "version": "3.6.10"
  }
 },
 "nbformat": 4,
 "nbformat_minor": 2
}
