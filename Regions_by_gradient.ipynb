{
 "cells": [
  {
   "cell_type": "code",
   "execution_count": 1,
   "metadata": {
    "collapsed": true
   },
   "outputs": [],
   "source": [
    "%matplotlib inline"
   ]
  },
  {
   "cell_type": "code",
   "execution_count": 2,
   "metadata": {
    "collapsed": true
   },
   "outputs": [],
   "source": [
    "import matplotlib.pyplot as plt\n",
    "import numpy as np\n",
    "import nibabel as nb\n",
    "import pandas as pd\n",
    "from allensdk.core.mouse_connectivity_cache import MouseConnectivityCache"
   ]
  },
  {
   "cell_type": "code",
   "execution_count": 3,
   "metadata": {
    "collapsed": true
   },
   "outputs": [],
   "source": [
    "def jo2allen_vol(data):\n",
    "    data = np.swapaxes(np.swapaxes(data, 0,1), 1,2)\n",
    "    data = np.flip(np.flip(data,1),0)\n",
    "    return data"
   ]
  },
  {
   "cell_type": "code",
   "execution_count": 4,
   "metadata": {
    "collapsed": true
   },
   "outputs": [],
   "source": [
    "annot = np.array(nb.load('/home/julia/data/gradients/atlas/allen_api/annotation.nii.gz').get_data(), dtype='float64')\n",
    "gradient = nb.load('/home/julia/data/gradients/results/gradient0000_highres.nii.gz').get_data()\n",
    "mask = nb.load('/home/julia/data/gradients/atlas/cortex/cortex_mask_25um.nii.gz').get_data()"
   ]
  },
  {
   "cell_type": "code",
   "execution_count": 5,
   "metadata": {
    "collapsed": true
   },
   "outputs": [],
   "source": [
    "mcc = MouseConnectivityCache(manifest_file=\n",
    "                             '/home/julia/data/gradients/atlas/allen_api/mouse_connectivity_manifest.json')\n",
    "structure_tree = mcc.get_structure_tree()\n",
    "structure_map = structure_tree.get_name_map()"
   ]
  },
  {
   "cell_type": "code",
   "execution_count": 6,
   "metadata": {
    "collapsed": true
   },
   "outputs": [],
   "source": [
    "gradient = jo2allen_vol(gradient)\n",
    "mask = jo2allen_vol(mask)\n",
    "gradient[mask==0] = np.nan\n",
    "annot[mask==0] = np.nan"
   ]
  },
  {
   "cell_type": "code",
   "execution_count": 8,
   "metadata": {
    "collapsed": true
   },
   "outputs": [],
   "source": [
    "unique_annot = np.unique(annot)\n",
    "unique_annot = unique_annot[np.isnan(unique_annot)==0]\n",
    "unique_annot = unique_annot[1:]"
   ]
  },
  {
   "cell_type": "code",
   "execution_count": 9,
   "metadata": {},
   "outputs": [],
   "source": [
    "region_means = []\n",
    "region_names=[]\n",
    "for region in range(unique_annot.shape[0]):\n",
    "    region_means.append(np.mean(gradient[annot==unique_annot[region]]))\n",
    "    region_names.append(structure_map[unique_annot[region]])"
   ]
  },
  {
   "cell_type": "code",
   "execution_count": 12,
   "metadata": {
    "collapsed": true
   },
   "outputs": [],
   "source": [
    "df = pd.DataFrame(data=zip(unique_annot, region_names, region_means), \n",
    "                  columns=['idx', 'name', 'mean'])"
   ]
  },
  {
   "cell_type": "code",
   "execution_count": 20,
   "metadata": {},
   "outputs": [],
   "source": [
    "df = df.sort_values(by=['mean'])"
   ]
  },
  {
   "cell_type": "code",
   "execution_count": 22,
   "metadata": {},
   "outputs": [],
   "source": [
    "df.to_csv('/home/julia/data/gradients/results/region_means_gradient0000.csv')"
   ]
  },
  {
   "cell_type": "code",
   "execution_count": null,
   "metadata": {
    "collapsed": true
   },
   "outputs": [],
   "source": [
    "ACC\n",
    "                    S1 trunk, lower limbs\n",
    "                                                Higher visual\n",
    "                                                                Higher auditory\n",
    "                    S1 barrel field\n",
    "                                                V1\n",
    "Temporal association\n",
    "Prelimbic\n",
    "Hippocampus\n",
    "                                                                A1\n",
    "                                                V1\n",
    "Infralimbic\n",
    "                                                                                        M2\n",
    "                    Olfactory bulb\n",
    "Frontal pole\n",
    "Agranular insula\n",
    "                                                                                        M1\n",
    "                    S1 nose, mouth\n",
    "                    Gustatory"
   ]
  },
  {
   "cell_type": "markdown",
   "metadata": {},
   "source": [
    "### Try broader region definitions"
   ]
  },
  {
   "cell_type": "code",
   "execution_count": 195,
   "metadata": {},
   "outputs": [],
   "source": [
    "parents = []\n",
    "unique_parents = set()\n",
    "for child in unique_annot:\n",
    "    parents.append(structure_tree.parent_ids([child])[0])\n",
    "    unique_parents.add(structure_tree.parent_ids([child])[0])\n",
    "unique_parents.remove(None)\n",
    "unique_parents = list(unique_parents)"
   ]
  },
  {
   "cell_type": "code",
   "execution_count": 196,
   "metadata": {
    "collapsed": true
   },
   "outputs": [],
   "source": [
    "parents=np.array(parents)\n",
    "region_means = np.array(region_means)"
   ]
  },
  {
   "cell_type": "code",
   "execution_count": 203,
   "metadata": {},
   "outputs": [],
   "source": [
    "parent_means = []\n",
    "parent_names = []\n",
    "for parent in unique_parents:\n",
    "    parent_means.append(np.mean(region_means[parents==parent]))\n",
    "    parent_names.append(structure_map[parent])"
   ]
  },
  {
   "cell_type": "code",
   "execution_count": 204,
   "metadata": {},
   "outputs": [],
   "source": [
    "df_broad = pd.DataFrame(data=zip(unique_parents, parent_names, parent_means), \n",
    "                        columns=['idx', 'name', 'mean'])"
   ]
  },
  {
   "cell_type": "code",
   "execution_count": 206,
   "metadata": {},
   "outputs": [],
   "source": [
    "df_broad = df_broad.sort_values(by=['mean'])"
   ]
  },
  {
   "cell_type": "code",
   "execution_count": 208,
   "metadata": {},
   "outputs": [],
   "source": [
    "df_broad.to_csv('/home/julia/data/gradients/results/parent_means_gradient0000.csv')"
   ]
  },
  {
   "cell_type": "code",
   "execution_count": null,
   "metadata": {
    "collapsed": true
   },
   "outputs": [],
   "source": []
  }
 ],
 "metadata": {
  "kernelspec": {
   "display_name": "Python 3",
   "language": "python",
   "name": "python3"
  },
  "language_info": {
   "codemirror_mode": {
    "name": "ipython",
    "version": 3
   },
   "file_extension": ".py",
   "mimetype": "text/x-python",
   "name": "python",
   "nbconvert_exporter": "python",
   "pygments_lexer": "ipython3",
   "version": "3.6.8"
  }
 },
 "nbformat": 4,
 "nbformat_minor": 2
}
