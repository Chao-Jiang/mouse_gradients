{
 "cells": [
  {
   "cell_type": "code",
   "execution_count": 1,
   "metadata": {
    "collapsed": true
   },
   "outputs": [],
   "source": [
    "%matplotlib inline"
   ]
  },
  {
   "cell_type": "code",
   "execution_count": 19,
   "metadata": {
    "collapsed": true
   },
   "outputs": [],
   "source": [
    "import matplotlib.pyplot as plt\n",
    "import numpy as np\n",
    "import pandas as pd\n",
    "from scipy.stats import stats\n",
    "import seaborn as sns"
   ]
  },
  {
   "cell_type": "code",
   "execution_count": 3,
   "metadata": {
    "collapsed": true
   },
   "outputs": [],
   "source": [
    "df_sg = pd.read_csv(\"/home/julia/data/gradients/atlas/interneurons/supragranular_regions.csv\")\n",
    "df_ig = pd.read_csv(\"/home/julia/data/gradients/atlas/interneurons/infragranular_regions.csv\")"
   ]
  },
  {
   "cell_type": "code",
   "execution_count": 5,
   "metadata": {},
   "outputs": [
    {
     "data": {
      "text/html": [
       "<div>\n",
       "<style scoped>\n",
       "    .dataframe tbody tr th:only-of-type {\n",
       "        vertical-align: middle;\n",
       "    }\n",
       "\n",
       "    .dataframe tbody tr th {\n",
       "        vertical-align: top;\n",
       "    }\n",
       "\n",
       "    .dataframe thead th {\n",
       "        text-align: right;\n",
       "    }\n",
       "</style>\n",
       "<table border=\"1\" class=\"dataframe\">\n",
       "  <thead>\n",
       "    <tr style=\"text-align: right;\">\n",
       "      <th></th>\n",
       "      <th>Unnamed: 0</th>\n",
       "      <th>ROI</th>\n",
       "      <th>PV avg</th>\n",
       "      <th>SST avg</th>\n",
       "      <th>VIP avg</th>\n",
       "      <th>id</th>\n",
       "      <th>g0</th>\n",
       "      <th>g1</th>\n",
       "      <th>g2</th>\n",
       "      <th>g3</th>\n",
       "      <th>g4</th>\n",
       "      <th>g5</th>\n",
       "      <th>PV/SST</th>\n",
       "      <th>cluster</th>\n",
       "    </tr>\n",
       "  </thead>\n",
       "  <tbody>\n",
       "    <tr>\n",
       "      <th>0</th>\n",
       "      <td>0</td>\n",
       "      <td>FRP2/3</td>\n",
       "      <td>316</td>\n",
       "      <td>393</td>\n",
       "      <td>484</td>\n",
       "      <td>667.0</td>\n",
       "      <td>-0.006705</td>\n",
       "      <td>0.019813</td>\n",
       "      <td>-0.005067</td>\n",
       "      <td>0.003184</td>\n",
       "      <td>0.010318</td>\n",
       "      <td>-0.008194</td>\n",
       "      <td>0.445698</td>\n",
       "      <td>prefrontal</td>\n",
       "    </tr>\n",
       "    <tr>\n",
       "      <th>1</th>\n",
       "      <td>1</td>\n",
       "      <td>MOp2/3</td>\n",
       "      <td>15358</td>\n",
       "      <td>13602</td>\n",
       "      <td>15778</td>\n",
       "      <td>943.0</td>\n",
       "      <td>-0.043036</td>\n",
       "      <td>-0.018165</td>\n",
       "      <td>0.014954</td>\n",
       "      <td>-0.009247</td>\n",
       "      <td>0.003744</td>\n",
       "      <td>0.008389</td>\n",
       "      <td>0.530318</td>\n",
       "      <td>motor</td>\n",
       "    </tr>\n",
       "    <tr>\n",
       "      <th>2</th>\n",
       "      <td>2</td>\n",
       "      <td>MOs2/3</td>\n",
       "      <td>10832</td>\n",
       "      <td>11053</td>\n",
       "      <td>12701</td>\n",
       "      <td>962.0</td>\n",
       "      <td>0.000832</td>\n",
       "      <td>-0.006248</td>\n",
       "      <td>0.008644</td>\n",
       "      <td>-0.009098</td>\n",
       "      <td>0.016700</td>\n",
       "      <td>0.006267</td>\n",
       "      <td>0.494951</td>\n",
       "      <td>motor</td>\n",
       "    </tr>\n",
       "    <tr>\n",
       "      <th>3</th>\n",
       "      <td>4</td>\n",
       "      <td>SSp-n2/3</td>\n",
       "      <td>2507</td>\n",
       "      <td>1411</td>\n",
       "      <td>1857</td>\n",
       "      <td>838.0</td>\n",
       "      <td>-0.048930</td>\n",
       "      <td>0.017112</td>\n",
       "      <td>0.019568</td>\n",
       "      <td>0.029283</td>\n",
       "      <td>-0.017675</td>\n",
       "      <td>-0.006263</td>\n",
       "      <td>0.639867</td>\n",
       "      <td>somatosensory</td>\n",
       "    </tr>\n",
       "    <tr>\n",
       "      <th>4</th>\n",
       "      <td>5</td>\n",
       "      <td>SSp-bfd2/3</td>\n",
       "      <td>13107</td>\n",
       "      <td>8583</td>\n",
       "      <td>12645</td>\n",
       "      <td>201.0</td>\n",
       "      <td>0.029488</td>\n",
       "      <td>0.007799</td>\n",
       "      <td>0.029171</td>\n",
       "      <td>0.033124</td>\n",
       "      <td>-0.006199</td>\n",
       "      <td>-0.009223</td>\n",
       "      <td>0.604288</td>\n",
       "      <td>somatosensory</td>\n",
       "    </tr>\n",
       "  </tbody>\n",
       "</table>\n",
       "</div>"
      ],
      "text/plain": [
       "   Unnamed: 0         ROI  PV avg  SST avg  VIP avg     id        g0  \\\n",
       "0           0      FRP2/3     316      393      484  667.0 -0.006705   \n",
       "1           1      MOp2/3   15358    13602    15778  943.0 -0.043036   \n",
       "2           2      MOs2/3   10832    11053    12701  962.0  0.000832   \n",
       "3           4    SSp-n2/3    2507     1411     1857  838.0 -0.048930   \n",
       "4           5  SSp-bfd2/3   13107     8583    12645  201.0  0.029488   \n",
       "\n",
       "         g1        g2        g3        g4        g5    PV/SST        cluster  \n",
       "0  0.019813 -0.005067  0.003184  0.010318 -0.008194  0.445698     prefrontal  \n",
       "1 -0.018165  0.014954 -0.009247  0.003744  0.008389  0.530318          motor  \n",
       "2 -0.006248  0.008644 -0.009098  0.016700  0.006267  0.494951          motor  \n",
       "3  0.017112  0.019568  0.029283 -0.017675 -0.006263  0.639867  somatosensory  \n",
       "4  0.007799  0.029171  0.033124 -0.006199 -0.009223  0.604288  somatosensory  "
      ]
     },
     "execution_count": 5,
     "metadata": {},
     "output_type": "execute_result"
    }
   ],
   "source": [
    "df_sg.head()"
   ]
  },
  {
   "cell_type": "code",
   "execution_count": 6,
   "metadata": {
    "collapsed": true
   },
   "outputs": [],
   "source": [
    "df_sg_ig = df_sg.drop(columns=['Unnamed: 0'])"
   ]
  },
  {
   "cell_type": "code",
   "execution_count": 10,
   "metadata": {},
   "outputs": [],
   "source": [
    "df_sg_ig[\"PV avg\"] = df_sg[\"PV avg\"] / df_ig[\"PV avg\"]\n",
    "df_sg_ig[\"SST avg\"] = df_sg[\"SST avg\"] / df_ig[\"SST avg\"]\n",
    "df_sg_ig[\"VIP avg\"] = df_sg[\"VIP avg\"] / df_ig[\"VIP avg\"]\n",
    "df_sg_ig[\"PV/SST\"] = df_sg[\"PV/SST\"] / df_ig[\"PV/SST\"]"
   ]
  },
  {
   "cell_type": "code",
   "execution_count": 15,
   "metadata": {},
   "outputs": [
    {
     "name": "stdout",
     "output_type": "stream",
     "text": [
      "Gradient 2, PV/SST: SpearmanrResult(correlation=0.36061776061776063, pvalue=0.030723499322388742)\n",
      "Gradient 4, SST avg: SpearmanrResult(correlation=0.35186615186615189, pvalue=0.035333518206069628)\n",
      "Gradient 4, PV/SST: SpearmanrResult(correlation=-0.29806949806949806, pvalue=0.077448943334139084)\n"
     ]
    }
   ],
   "source": [
    "for g in range(6):\n",
    "    for c in ['PV avg', 'SST avg', 'VIP avg', 'PV/SST']:\n",
    "        r = stats.spearmanr(df_sg_ig['g%i' %g], df_sg_ig[c])\n",
    "        if r[1]<0.1:\n",
    "            print('Gradient %i, %s:' %(g,c), r)"
   ]
  },
  {
   "cell_type": "code",
   "execution_count": 17,
   "metadata": {
    "collapsed": true
   },
   "outputs": [],
   "source": [
    "df_sg_ig.loc[df_sg_ig['ROI']=='MOp5', 'cluster'] = 'motor'\n",
    "df_sg_ig.loc[df_sg_ig['ROI']=='MOs5', 'cluster'] = 'motor'\n",
    "df_sg_ig.loc[df_sg_ig['ROI']=='MOp6a', 'cluster'] = 'motor'\n",
    "df_sg_ig.loc[df_sg_ig['ROI']=='MOs6a', 'cluster'] = 'motor'\n",
    "df_sg_ig.loc[df_sg_ig['cluster']=='somatomotor', 'cluster'] = 'somatosensory'"
   ]
  },
  {
   "cell_type": "code",
   "execution_count": 22,
   "metadata": {},
   "outputs": [
    {
     "data": {
      "image/png": "[encoded data removed]",
      "text/plain": [
       "<Figure size 360x360 with 1 Axes>"
      ]
     },
     "metadata": {},
     "output_type": "display_data"
    }
   ],
   "source": [
    "clusters = ['motor', 'somatosensory', 'prefrontal','lateral', 'medial', 'visual', 'auditory']\n",
    "colors = ['darkgreen', 'tab:orange', 'tab:red', 'gold', 'darkblue','cornflowerblue','slateblue']\n",
    "sns.set_context('talk')\n",
    "fig = plt.figure(figsize=(5,5))\n",
    "\n",
    "for c in range(len(clusters)):\n",
    "    regions = list(df_sg_ig.loc[df_sg_ig['cluster']==clusters[c], \"ROI\"])\n",
    "    for r in regions:\n",
    "        plt.scatter(df_sg_ig.loc[df_sg_ig['ROI']==r, 'PV avg'].values[0], \n",
    "                    df_sg_ig.loc[df_sg_ig['ROI']==r, 'SST avg'].values[0], \n",
    "                    color=colors[c], label=clusters[c])\n",
    "plt.xlabel('PV/SST')\n",
    "plt.ylabel('g2')\n",
    "plt.tight_layout()\n",
    "sns.despine()"
   ]
  },
  {
   "cell_type": "code",
   "execution_count": null,
   "metadata": {
    "collapsed": true
   },
   "outputs": [],
   "source": []
  }
 ],
 "metadata": {
  "kernelspec": {
   "display_name": "Python 3",
   "language": "python",
   "name": "python3"
  },
  "language_info": {
   "codemirror_mode": {
    "name": "ipython",
    "version": 3
   },
   "file_extension": ".py",
   "mimetype": "text/x-python",
   "name": "python",
   "nbconvert_exporter": "python",
   "pygments_lexer": "ipython3",
   "version": "3.6.10"
  }
 },
 "nbformat": 4,
 "nbformat_minor": 2
}
