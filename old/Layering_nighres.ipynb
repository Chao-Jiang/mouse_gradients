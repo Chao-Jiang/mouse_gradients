{
 "cells": [
  {
   "cell_type": "code",
   "execution_count": null,
   "metadata": {
    "collapsed": true
   },
   "outputs": [],
   "source": [
    "import nighres"
   ]
  },
  {
   "cell_type": "markdown",
   "metadata": {},
   "source": [
    "### Make levelsets"
   ]
  },
  {
   "cell_type": "code",
   "execution_count": null,
   "metadata": {
    "collapsed": true
   },
   "outputs": [],
   "source": [
    "gmlvl = nighres.surface.probability_to_levelset(\"/home/julia/data/gradients/atlas/cortex/wmgm_mask.nii.gz\",\n",
    "                                                save_data=True)"
   ]
  },
  {
   "cell_type": "code",
   "execution_count": null,
   "metadata": {
    "collapsed": true
   },
   "outputs": [],
   "source": [
    "wmlvl = nighres.surface.probability_to_levelset(\"/home/julia/data/gradients/atlas/cortex/wm_mask.nii.gz\",\n",
    "                                                save_data=True)"
   ]
  },
  {
   "cell_type": "markdown",
   "metadata": {},
   "source": [
    "### Layering"
   ]
  },
  {
   "cell_type": "markdown",
   "metadata": {
    "collapsed": true
   },
   "source": [
    "https://github.com/juhuntenburg/nighres/tree/allen_brain\n",
    "\n",
    "Volumetric layering with following changes in the code:\n",
    "* algo.setLayeringMethod(\"distance-preserving\")\n",
    "* algo.setCurvatureApproximationScale(5)\n",
    "* algo.setPresmoothCorticalSurfaces(True)"
   ]
  },
  {
   "cell_type": "code",
   "execution_count": null,
   "metadata": {
    "collapsed": true
   },
   "outputs": [],
   "source": [
    "lamina = nighres.laminar.volumetric_layering(inner_levelset=wmlvl['result'],\n",
    "                                             outer_levelset=gmlvl['result'],\n",
    "                                             n_layers=10,\n",
    "                                             save_data=True,\n",
    "                                             overwrite=True)"
   ]
  },
  {
   "cell_type": "markdown",
   "metadata": {},
   "source": [
    "### Profile sampling"
   ]
  },
  {
   "cell_type": "code",
   "execution_count": null,
   "metadata": {
    "collapsed": true
   },
   "outputs": [],
   "source": [
    "gradient1 = \"/home/julia/data/gradients/results/gradient_0000_highres.nii.gz\""
   ]
  },
  {
   "cell_type": "code",
   "execution_count": null,
   "metadata": {
    "collapsed": true
   },
   "outputs": [],
   "source": [
    "prof = nighres.laminar.profile_sampling(profile_surface_image=lamina['boundaries'],\n",
    "                                        intensity_image=gradient1,\n",
    "                                        save_data=True,\n",
    "                                        overwrite=True)"
   ]
  }
 ],
 "metadata": {
  "kernelspec": {
   "display_name": "Python 3",
   "language": "python",
   "name": "python3"
  },
  "language_info": {
   "codemirror_mode": {
    "name": "ipython",
    "version": 3
   },
   "file_extension": ".py",
   "mimetype": "text/x-python",
   "name": "python",
   "nbconvert_exporter": "python",
   "pygments_lexer": "ipython3",
   "version": "3.6.8"
  }
 },
 "nbformat": 4,
 "nbformat_minor": 2
}
