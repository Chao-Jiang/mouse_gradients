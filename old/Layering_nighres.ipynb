{
 "cells": [
  {
   "cell_type": "code",
   "execution_count": 9,
   "metadata": {
    "collapsed": true
   },
   "outputs": [],
   "source": [
    "import nighres\n",
    "import nibabel as nb\n",
    "import numpy as np\n",
    "from nipype.interfaces import fsl"
   ]
  },
  {
   "cell_type": "markdown",
   "metadata": {},
   "source": [
    "### Make levelsets"
   ]
  },
  {
   "cell_type": "code",
   "execution_count": 3,
   "metadata": {
    "collapsed": true
   },
   "outputs": [
    {
     "name": "stdout",
     "output_type": "stream",
     "text": [
      "\n",
      "Probability to Levelset\n",
      "\n",
      "Outputs will be saved to /home/julia/data/gradients/atlas/allen_api/\n",
      "\n",
      " The underlying Java code did not execute cleanly: \n",
      "<class 'nighresjava.JavaError'>\n"
     ]
    },
    {
     "ename": "JavaError",
     "evalue": "<super: <class 'JavaError'>, <JavaError object>>\n    Java stacktrace:\njava.lang.OutOfMemoryError: Java heap space\n\tat de.mpg.cbs.methods.InflateGdm$NarrowBand.<init>(InflateGdm.java:110)\n\tat de.mpg.cbs.methods.InflateGdm.evolveNarrowBand(InflateGdm.java:494)\n\tat de.mpg.cbs.core.surface.SurfaceProbabilityToLevelset.execute(SurfaceProbabilityToLevelset.java:98)\n",
     "output_type": "error",
     "traceback": [
      "\u001b[0;31m---------------------------------------------------------------------------\u001b[0m",
      "\u001b[0;31mJavaError\u001b[0m                                 Traceback (most recent call last)",
      "\u001b[0;32m<ipython-input-3-49d896b1a847>\u001b[0m in \u001b[0;36m<module>\u001b[0;34m\u001b[0m\n\u001b[1;32m      1\u001b[0m gmlvl = nighres.surface.probability_to_levelset(\"/home/julia/data/gradients/atlas/allen_api/cortex_mask_tight.nii.gz\",\n\u001b[0;32m----> 2\u001b[0;31m                                                 save_data=True)\n\u001b[0m",
      "\u001b[0;32m~/workspace/nighres/nighres/surface/probability_to_levelset.py\u001b[0m in \u001b[0;36mprobability_to_levelset\u001b[0;34m(probability_image, save_data, overwrite, output_dir, file_name)\u001b[0m\n\u001b[1;32m     95\u001b[0m     \u001b[0;31m# execute class\u001b[0m\u001b[0;34m\u001b[0m\u001b[0;34m\u001b[0m\u001b[0;34m\u001b[0m\u001b[0m\n\u001b[1;32m     96\u001b[0m     \u001b[0;32mtry\u001b[0m\u001b[0;34m:\u001b[0m\u001b[0;34m\u001b[0m\u001b[0;34m\u001b[0m\u001b[0m\n\u001b[0;32m---> 97\u001b[0;31m         \u001b[0mprob2level\u001b[0m\u001b[0;34m.\u001b[0m\u001b[0mexecute\u001b[0m\u001b[0;34m(\u001b[0m\u001b[0;34m)\u001b[0m\u001b[0;34m\u001b[0m\u001b[0;34m\u001b[0m\u001b[0m\n\u001b[0m\u001b[1;32m     98\u001b[0m \u001b[0;34m\u001b[0m\u001b[0m\n\u001b[1;32m     99\u001b[0m     \u001b[0;32mexcept\u001b[0m\u001b[0;34m:\u001b[0m\u001b[0;34m\u001b[0m\u001b[0;34m\u001b[0m\u001b[0m\n",
      "\u001b[0;31mJavaError\u001b[0m: <super: <class 'JavaError'>, <JavaError object>>\n    Java stacktrace:\njava.lang.OutOfMemoryError: Java heap space\n\tat de.mpg.cbs.methods.InflateGdm$NarrowBand.<init>(InflateGdm.java:110)\n\tat de.mpg.cbs.methods.InflateGdm.evolveNarrowBand(InflateGdm.java:494)\n\tat de.mpg.cbs.core.surface.SurfaceProbabilityToLevelset.execute(SurfaceProbabilityToLevelset.java:98)\n"
     ]
    }
   ],
   "source": [
    "gmlvl = nighres.surface.probability_to_levelset(\"/home/julia/data/gradients/atlas/allen_api/cortex_mask_tight.nii.gz\",\n",
    "                                                save_data=True)"
   ]
  },
  {
   "cell_type": "code",
   "execution_count": null,
   "metadata": {
    "collapsed": true
   },
   "outputs": [
    {
     "name": "stdout",
     "output_type": "stream",
     "text": [
      "\n",
      "Probability to Levelset\n",
      "\n",
      "Outputs will be saved to /home/julia/data/gradients/atlas/allen_api/layers/\n"
     ]
    }
   ],
   "source": [
    "# inner.nii.gz is the masks for layer6a and layer6b together\n",
    "wmlvl = nighres.surface.probability_to_levelset(\"/home/julia/data/gradients/atlas/allen_api/profiles/inner_mask.nii.gz\",\n",
    "                                                save_data=True)"
   ]
  },
  {
   "cell_type": "markdown",
   "metadata": {},
   "source": [
    "### Layering"
   ]
  },
  {
   "cell_type": "markdown",
   "metadata": {
    "collapsed": true
   },
   "source": [
    "https://github.com/juhuntenburg/nighres/tree/allen_brain\n",
    "\n",
    "Volumetric layering with following changes in the code:\n",
    "* algo.setLayeringMethod(\"distance-preserving\")\n",
    "* algo.setCurvatureApproximationScale(5)\n",
    "* algo.setPresmoothCorticalSurfaces(True)"
   ]
  },
  {
   "cell_type": "code",
   "execution_count": null,
   "metadata": {
    "collapsed": true
   },
   "outputs": [],
   "source": [
    "# Ran this on the cluster\n",
    "lamina = nighres.laminar.volumetric_layering(inner_levelset=wmlvl['result'],\n",
    "                                             outer_levelset=gmlvl['result'],\n",
    "                                             n_layers=5,\n",
    "                                             save_data=True,\n",
    "                                             overwrite=True)\n",
    "# Renamed outputs to profiles_lvl.nii.gz, profiles_depth.nii.gz, profiles_layers.nii.gz"
   ]
  },
  {
   "cell_type": "markdown",
   "metadata": {},
   "source": [
    "### Downsample levelset"
   ]
  },
  {
   "cell_type": "code",
   "execution_count": 10,
   "metadata": {
    "collapsed": true
   },
   "outputs": [
    {
     "name": "stdout",
     "output_type": "stream",
     "text": [
      "191209-17:27:58,392 interface INFO:\n",
      "\t stderr 2019-12-09T17:27:58.391597:Image Exception : #99 :: Out of memory\n",
      "191209-17:27:58,630 interface INFO:\n",
      "\t stderr 2019-12-09T17:27:58.630819:Out of memory\n"
     ]
    },
    {
     "ename": "TraitError",
     "evalue": "The trait 'out_file' of a FLIRTOutputSpec instance is an existing file name, but the path  '/home/julia/data/gradients/atlas/allen_api/layers/inner_p2l-surf_layering-boundaries_200um.nii.gz' does not exist.",
     "output_type": "error",
     "traceback": [
      "\u001b[0;31m---------------------------------------------------------------------------\u001b[0m",
      "\u001b[0;31mTraitError\u001b[0m                                Traceback (most recent call last)",
      "\u001b[0;32m<ipython-input-10-225a04beed51>\u001b[0m in \u001b[0;36m<module>\u001b[0;34m\u001b[0m\n\u001b[1;32m      4\u001b[0m                    \u001b[0minterp\u001b[0m\u001b[0;34m=\u001b[0m\u001b[0;34m\"spline\"\u001b[0m\u001b[0;34m,\u001b[0m\u001b[0;34m\u001b[0m\u001b[0;34m\u001b[0m\u001b[0m\n\u001b[1;32m      5\u001b[0m                    out_file=\"/home/julia/data/gradients/atlas/allen_api/layers/inner_p2l-surf_layering-boundaries_200um.nii.gz\")\n\u001b[0;32m----> 6\u001b[0;31m \u001b[0mresamp\u001b[0m\u001b[0;34m.\u001b[0m\u001b[0mrun\u001b[0m\u001b[0;34m(\u001b[0m\u001b[0;34m)\u001b[0m\u001b[0;34m\u001b[0m\u001b[0;34m\u001b[0m\u001b[0m\n\u001b[0m",
      "\u001b[0;32m~/workspace/conda/anaconda3/lib/python3.6/site-packages/nipype/interfaces/base/core.py\u001b[0m in \u001b[0;36mrun\u001b[0;34m(self, cwd, **inputs)\u001b[0m\n\u001b[1;32m    514\u001b[0m         \u001b[0;32mtry\u001b[0m\u001b[0;34m:\u001b[0m\u001b[0;34m\u001b[0m\u001b[0;34m\u001b[0m\u001b[0m\n\u001b[1;32m    515\u001b[0m             \u001b[0mruntime\u001b[0m \u001b[0;34m=\u001b[0m \u001b[0mself\u001b[0m\u001b[0;34m.\u001b[0m\u001b[0m_run_interface\u001b[0m\u001b[0;34m(\u001b[0m\u001b[0mruntime\u001b[0m\u001b[0;34m)\u001b[0m\u001b[0;34m\u001b[0m\u001b[0;34m\u001b[0m\u001b[0m\n\u001b[0;32m--> 516\u001b[0;31m             \u001b[0moutputs\u001b[0m \u001b[0;34m=\u001b[0m \u001b[0mself\u001b[0m\u001b[0;34m.\u001b[0m\u001b[0maggregate_outputs\u001b[0m\u001b[0;34m(\u001b[0m\u001b[0mruntime\u001b[0m\u001b[0;34m)\u001b[0m\u001b[0;34m\u001b[0m\u001b[0;34m\u001b[0m\u001b[0m\n\u001b[0m\u001b[1;32m    517\u001b[0m         \u001b[0;32mexcept\u001b[0m \u001b[0mException\u001b[0m \u001b[0;32mas\u001b[0m \u001b[0me\u001b[0m\u001b[0;34m:\u001b[0m\u001b[0;34m\u001b[0m\u001b[0;34m\u001b[0m\u001b[0m\n\u001b[1;32m    518\u001b[0m             \u001b[0;32mimport\u001b[0m \u001b[0mtraceback\u001b[0m\u001b[0;34m\u001b[0m\u001b[0;34m\u001b[0m\u001b[0m\n",
      "\u001b[0;32m~/workspace/conda/anaconda3/lib/python3.6/site-packages/nipype/interfaces/fsl/preprocess.py\u001b[0m in \u001b[0;36maggregate_outputs\u001b[0;34m(self, runtime, needed_outputs)\u001b[0m\n\u001b[1;32m    670\u001b[0m     \u001b[0;32mdef\u001b[0m \u001b[0maggregate_outputs\u001b[0m\u001b[0;34m(\u001b[0m\u001b[0mself\u001b[0m\u001b[0;34m,\u001b[0m \u001b[0mruntime\u001b[0m\u001b[0;34m=\u001b[0m\u001b[0;32mNone\u001b[0m\u001b[0;34m,\u001b[0m \u001b[0mneeded_outputs\u001b[0m\u001b[0;34m=\u001b[0m\u001b[0;32mNone\u001b[0m\u001b[0;34m)\u001b[0m\u001b[0;34m:\u001b[0m\u001b[0;34m\u001b[0m\u001b[0;34m\u001b[0m\u001b[0m\n\u001b[1;32m    671\u001b[0m         outputs = super(FLIRT, self).aggregate_outputs(\n\u001b[0;32m--> 672\u001b[0;31m             runtime=runtime, needed_outputs=needed_outputs)\n\u001b[0m\u001b[1;32m    673\u001b[0m         \u001b[0;32mif\u001b[0m \u001b[0mself\u001b[0m\u001b[0;34m.\u001b[0m\u001b[0minputs\u001b[0m\u001b[0;34m.\u001b[0m\u001b[0msave_log\u001b[0m \u001b[0;32mand\u001b[0m \u001b[0;32mnot\u001b[0m \u001b[0mself\u001b[0m\u001b[0;34m.\u001b[0m\u001b[0m_log_written\u001b[0m\u001b[0;34m:\u001b[0m\u001b[0;34m\u001b[0m\u001b[0;34m\u001b[0m\u001b[0m\n\u001b[1;32m    674\u001b[0m             \u001b[0;32mwith\u001b[0m \u001b[0mopen\u001b[0m\u001b[0;34m(\u001b[0m\u001b[0moutputs\u001b[0m\u001b[0;34m.\u001b[0m\u001b[0mout_log\u001b[0m\u001b[0;34m,\u001b[0m \u001b[0;34m\"a\"\u001b[0m\u001b[0;34m)\u001b[0m \u001b[0;32mas\u001b[0m \u001b[0mtext_file\u001b[0m\u001b[0;34m:\u001b[0m\u001b[0;34m\u001b[0m\u001b[0;34m\u001b[0m\u001b[0m\n",
      "\u001b[0;32m~/workspace/conda/anaconda3/lib/python3.6/site-packages/nipype/interfaces/base/core.py\u001b[0m in \u001b[0;36maggregate_outputs\u001b[0;34m(self, runtime, needed_outputs)\u001b[0m\n\u001b[1;32m    611\u001b[0m                                \"'%s'.\" % (val, self.__class__.__name__, key))\n\u001b[1;32m    612\u001b[0m                         \u001b[0;32mraise\u001b[0m \u001b[0mFileNotFoundError\u001b[0m\u001b[0;34m(\u001b[0m\u001b[0mmsg\u001b[0m\u001b[0;34m)\u001b[0m\u001b[0;34m\u001b[0m\u001b[0;34m\u001b[0m\u001b[0m\n\u001b[0;32m--> 613\u001b[0;31m                     \u001b[0;32mraise\u001b[0m \u001b[0merror\u001b[0m\u001b[0;34m\u001b[0m\u001b[0;34m\u001b[0m\u001b[0m\n\u001b[0m\u001b[1;32m    614\u001b[0m \u001b[0;34m\u001b[0m\u001b[0m\n\u001b[1;32m    615\u001b[0m         \u001b[0;32mreturn\u001b[0m \u001b[0moutputs\u001b[0m\u001b[0;34m\u001b[0m\u001b[0;34m\u001b[0m\u001b[0m\n",
      "\u001b[0;32m~/workspace/conda/anaconda3/lib/python3.6/site-packages/nipype/interfaces/base/core.py\u001b[0m in \u001b[0;36maggregate_outputs\u001b[0;34m(self, runtime, needed_outputs)\u001b[0m\n\u001b[1;32m    604\u001b[0m                                                       self.__class__.__name__))\n\u001b[1;32m    605\u001b[0m                 \u001b[0;32mtry\u001b[0m\u001b[0;34m:\u001b[0m\u001b[0;34m\u001b[0m\u001b[0;34m\u001b[0m\u001b[0m\n\u001b[0;32m--> 606\u001b[0;31m                     \u001b[0msetattr\u001b[0m\u001b[0;34m(\u001b[0m\u001b[0moutputs\u001b[0m\u001b[0;34m,\u001b[0m \u001b[0mkey\u001b[0m\u001b[0;34m,\u001b[0m \u001b[0mval\u001b[0m\u001b[0;34m)\u001b[0m\u001b[0;34m\u001b[0m\u001b[0;34m\u001b[0m\u001b[0m\n\u001b[0m\u001b[1;32m    607\u001b[0m                 \u001b[0;32mexcept\u001b[0m \u001b[0mTraitError\u001b[0m \u001b[0;32mas\u001b[0m \u001b[0merror\u001b[0m\u001b[0;34m:\u001b[0m\u001b[0;34m\u001b[0m\u001b[0;34m\u001b[0m\u001b[0m\n\u001b[1;32m    608\u001b[0m                     if getattr(error, 'info',\n",
      "\u001b[0;32m~/workspace/conda/anaconda3/lib/python3.6/site-packages/nipype/interfaces/base/traits_extension.py\u001b[0m in \u001b[0;36mvalidate\u001b[0;34m(self, object, name, value)\u001b[0m\n\u001b[1;32m    110\u001b[0m                 \u001b[0margs\u001b[0m\u001b[0;34m=\u001b[0m\u001b[0;34m'The trait \\'{}\\' of {} instance is {}, but the path '\u001b[0m\u001b[0;34m\u001b[0m\u001b[0;34m\u001b[0m\u001b[0m\n\u001b[1;32m    111\u001b[0m                 ' \\'{}\\' does not exist.'.format(name, class_of(object),\n\u001b[0;32m--> 112\u001b[0;31m                                                  self.info_text, value))\n\u001b[0m\u001b[1;32m    113\u001b[0m \u001b[0;34m\u001b[0m\u001b[0m\n\u001b[1;32m    114\u001b[0m         \u001b[0mself\u001b[0m\u001b[0;34m.\u001b[0m\u001b[0merror\u001b[0m\u001b[0;34m(\u001b[0m\u001b[0mobject\u001b[0m\u001b[0;34m,\u001b[0m \u001b[0mname\u001b[0m\u001b[0;34m,\u001b[0m \u001b[0mvalue\u001b[0m\u001b[0;34m)\u001b[0m\u001b[0;34m\u001b[0m\u001b[0;34m\u001b[0m\u001b[0m\n",
      "\u001b[0;31mTraitError\u001b[0m: The trait 'out_file' of a FLIRTOutputSpec instance is an existing file name, but the path  '/home/julia/data/gradients/atlas/allen_api/layers/inner_p2l-surf_layering-boundaries_200um.nii.gz' does not exist."
     ]
    }
   ],
   "source": [
    "resamp = fsl.FLIRT(in_file=\"/home/julia/data/gradients/atlas/allen_api/profiles/profiles_lvl.nii.gz\",\n",
    "                   reference=\"/home/julia/data/gradients/atlas/allen_api/layers/profiles_lvl.nii.gz\",\n",
    "                   apply_isoxfm=0.2,\n",
    "                   interp=\"spline\",\n",
    "                   out_file=\"/home/julia/data/gradients/atlas/allen_api/layers/profiles_lvl_200um.nii.gz\")\n",
    "resamp.run()"
   ]
  },
  {
   "cell_type": "markdown",
   "metadata": {},
   "source": [
    "### Sample annotation in high resolution space"
   ]
  },
  {
   "cell_type": "code",
   "execution_count": 8,
   "metadata": {
    "collapsed": true
   },
   "outputs": [],
   "source": [
    "# Ran this on the cluster\n",
    "nighres.laminar.profile_sampling(profile_surface_image='profiles_lvl.nii.gz',\n",
    "                                 intensity_image='annotation.nii.gz',\n",
    "                                 save_data=True, overwrite=True)\n",
    "# Rename output to annotation_profile_sampling.nii.gz \n",
    "# Split into annotation_profile_0.nii.gz to annotation_profile_5.nii.gz"
   ]
  }
 ],
 "metadata": {
  "kernelspec": {
   "display_name": "Python 3",
   "language": "python",
   "name": "python3"
  },
  "language_info": {
   "codemirror_mode": {
    "name": "ipython",
    "version": 3
   },
   "file_extension": ".py",
   "mimetype": "text/x-python",
   "name": "python",
   "nbconvert_exporter": "python",
   "pygments_lexer": "ipython3",
   "version": "3.6.10"
  }
 },
 "nbformat": 4,
 "nbformat_minor": 2
}
