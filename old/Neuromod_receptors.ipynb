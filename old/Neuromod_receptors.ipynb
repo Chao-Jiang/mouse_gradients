{
 "cells": [
  {
   "cell_type": "code",
   "execution_count": 123,
   "metadata": {
    "collapsed": true
   },
   "outputs": [],
   "source": [
    "%matplotlib inline"
   ]
  },
  {
   "cell_type": "code",
   "execution_count": 124,
   "metadata": {
    "collapsed": true
   },
   "outputs": [],
   "source": [
    "import numpy as np\n",
    "import nibabel as nb\n",
    "import numpy as np\n",
    "import matplotlib.pyplot as plt\n",
    "import pandas as pd\n",
    "from nilearn.input_data import NiftiMasker\n",
    "from scipy.stats import stats"
   ]
  },
  {
   "cell_type": "code",
   "execution_count": 125,
   "metadata": {
    "collapsed": true
   },
   "outputs": [],
   "source": [
    "def sigmoid(energy):\n",
    "    X = (energy - np.nanmean(energy)) / np.nanstd(energy)\n",
    "    sig = 1 / (1 + np.exp(-X))\n",
    "    return sig"
   ]
  },
  {
   "cell_type": "code",
   "execution_count": 126,
   "metadata": {
    "collapsed": true
   },
   "outputs": [],
   "source": [
    "df = pd.read_csv(\"/home/julia/data/gradients/genes/gene_list_full.csv\")\n",
    "df = df[df['acronym']!=\"FALSE\"]\n",
    "df = df[np.isnan(df['entrez'])==False]\n",
    "df = df.reset_index(drop=True)"
   ]
  },
  {
   "cell_type": "code",
   "execution_count": 127,
   "metadata": {
    "collapsed": true
   },
   "outputs": [],
   "source": [
    "df_energy = pd.read_csv('/home/julia/data/gradients/genes/energy.csv', index_col=0)"
   ]
  },
  {
   "cell_type": "code",
   "execution_count": 128,
   "metadata": {
    "collapsed": true
   },
   "outputs": [],
   "source": [
    "mod = []\n",
    "for a in df['acronym']:\n",
    "    if ('Ht' in a):\n",
    "        mod.append(a)\n",
    "    elif  ('Drd' in a):\n",
    "        mod.append(a)\n",
    "    elif ('Chrn' in a) or ('Chrm' in a):\n",
    "        mod.append(a)\n",
    "    elif ('Adra' in a) or ('Adrb' in a):\n",
    "        mod.append(a)"
   ]
  },
  {
   "cell_type": "code",
   "execution_count": 155,
   "metadata": {
    "collapsed": true
   },
   "outputs": [],
   "source": [
    "mask_img = nb.load('/home/julia/data/gradients/atlas/allen_api/cortex_mask_tight_200um.nii.gz')\n",
    "mask = mask_img.get_data()\n",
    "aff = mask_img.affine\n",
    "hdr = mask_img.header"
   ]
  },
  {
   "cell_type": "code",
   "execution_count": 130,
   "metadata": {
    "collapsed": true
   },
   "outputs": [],
   "source": [
    "cortex = np.where(mask==1)[0].shape[0]"
   ]
  },
  {
   "cell_type": "code",
   "execution_count": 131,
   "metadata": {
    "collapsed": true
   },
   "outputs": [],
   "source": [
    "masker = NiftiMasker(mask_img=mask_img, standardize=False, smoothing_fwhm=0.45)"
   ]
  },
  {
   "cell_type": "code",
   "execution_count": 132,
   "metadata": {
    "collapsed": true
   },
   "outputs": [],
   "source": [
    "energy = np.zeros((cortex, len(mod)))\n",
    "\n",
    "for a in range(len(mod)): \n",
    "    idcs = df.loc[df['acronym']==mod[a], 'id'].values\n",
    "    \n",
    "    for i in idcs:\n",
    "        gene = np.zeros(mask.shape)\n",
    "        gene += nb.load('/home/julia/data/gradients/genes/energy/%s/energy.nii.gz'%i).get_data()\n",
    "        #gene = sigmoid(gene)\n",
    "\n",
    "    gene = gene / len(idcs) \n",
    "    energy[:,a] = gene[mask==1]\n",
    "    energy[:,a][energy[:,a]==-1]=np.nan\n",
    "    #masker.fit_transform(nb.Nifti1Image(gene, aff, hdr))"
   ]
  },
  {
   "cell_type": "code",
   "execution_count": 152,
   "metadata": {
    "collapsed": true
   },
   "outputs": [],
   "source": [
    "pcas = nb.load('/home/julia/data/gradients/results/genes/pca_img.nii.gz').get_data()"
   ]
  },
  {
   "cell_type": "code",
   "execution_count": 165,
   "metadata": {},
   "outputs": [
    {
     "name": "stdout",
     "output_type": "stream",
     "text": [
      "10 1 (0.28349330777928067, 4.2276825507387616e-228)\n",
      "12 1 (0.21927810222381783, 4.6879598727496785e-149)\n",
      "14 1 (0.2580408749075597, 4.698889727782286e-233)\n",
      "21 1 (0.44301897117840067, 0.0)\n",
      "22 0 (0.22387253701292423, 3.881933666092581e-174)\n",
      "24 1 (0.3720455525286698, 0.0)\n",
      "25 1 (0.2940891316002039, 4.375972125169218e-305)\n",
      "29 1 (0.33547802544027105, 0.0)\n",
      "30 1 (0.3085611684929892, 0.0)\n",
      "31 0 (0.2812665220248364, 7.393557441401504e-270)\n",
      "31 1 (0.2182271236931492, 1.2682578084923352e-160)\n"
     ]
    }
   ],
   "source": [
    "for e in range(energy.shape[1]):\n",
    "    for p in range(2):\n",
    "        pca_masked = pcas[:,:,:,p][mask==1]\n",
    "        e_data = np.where(np.isnan(energy[:,e])==False)\n",
    "        r = stats.pearsonr(pca_masked[e_data], energy[:,e][e_data])\n",
    "        if r[0] > 0.2:\n",
    "            print(e,p,r)"
   ]
  },
  {
   "cell_type": "code",
   "execution_count": null,
   "metadata": {
    "collapsed": true
   },
   "outputs": [],
   "source": []
  }
 ],
 "metadata": {
  "kernelspec": {
   "display_name": "Python 3",
   "language": "python",
   "name": "python3"
  },
  "language_info": {
   "codemirror_mode": {
    "name": "ipython",
    "version": 3
   },
   "file_extension": ".py",
   "mimetype": "text/x-python",
   "name": "python",
   "nbconvert_exporter": "python",
   "pygments_lexer": "ipython3",
   "version": "3.6.10"
  }
 },
 "nbformat": 4,
 "nbformat_minor": 2
}
