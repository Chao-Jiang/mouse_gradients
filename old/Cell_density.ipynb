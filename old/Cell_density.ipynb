{
 "cells": [
  {
   "cell_type": "code",
   "execution_count": 1,
   "metadata": {
    "collapsed": true
   },
   "outputs": [],
   "source": [
    "%matplotlib inline"
   ]
  },
  {
   "cell_type": "code",
   "execution_count": 2,
   "metadata": {
    "collapsed": true
   },
   "outputs": [],
   "source": [
    "import numpy as np\n",
    "import nibabel as nb\n",
    "import scipy.stats as stats\n",
    "import matplotlib.pyplot as plt\n",
    "from nilearn.input_data import NiftiMasker\n",
    "import seaborn as sns"
   ]
  },
  {
   "cell_type": "markdown",
   "metadata": {},
   "source": [
    "### Load gradients and cell data"
   ]
  },
  {
   "cell_type": "code",
   "execution_count": 3,
   "metadata": {
    "collapsed": true
   },
   "outputs": [],
   "source": [
    "img = nb.load('/home/julia/data/gradients/atlas/allen_api/cortex_mask_tight_200um.nii.gz')\n",
    "mask = img.get_data()\n",
    "aff = img.affine\n",
    "hdr = img.header"
   ]
  },
  {
   "cell_type": "code",
   "execution_count": 5,
   "metadata": {
    "collapsed": true
   },
   "outputs": [],
   "source": [
    "x = np.load('/home/julia/data/gradients/atlas/epfl_cell_atlas/x2vol_200.npy')\n",
    "y = np.load('/home/julia/data/gradients/atlas/epfl_cell_atlas/y2vol_200.npy')\n",
    "z = np.load('/home/julia/data/gradients/atlas/epfl_cell_atlas/z2vol_200.npy')\n",
    "types = np.load('/home/julia/data/gradients/atlas/epfl_cell_atlas/types.npy')"
   ]
  },
  {
   "cell_type": "markdown",
   "metadata": {},
   "source": [
    "Types probably:\n",
    "0 - excitatory neurons;\n",
    "1 - inhibitory neurons;\n",
    "2 - oligodendrocytes;\n",
    "3 - astrocytes;\n",
    "4 - microglia;"
   ]
  },
  {
   "cell_type": "markdown",
   "metadata": {},
   "source": [
    "### Make a cell density map"
   ]
  },
  {
   "cell_type": "code",
   "execution_count": 6,
   "metadata": {
    "collapsed": true
   },
   "outputs": [],
   "source": [
    "cell_density = np.zeros_like(mask)\n",
    "for c in range(len(x)):\n",
    "    voxel = (int(np.floor(x[c])), int(np.floor(y[c])), int(np.floor(z[c])))\n",
    "    if not mask[voxel] == 0:\n",
    "        cell_density[voxel] +=  1"
   ]
  },
  {
   "cell_type": "code",
   "execution_count": 8,
   "metadata": {
    "collapsed": true
   },
   "outputs": [],
   "source": [
    "nb.save(nb.Nifti1Image(cell_density, aff, hdr), \n",
    "        '/home/julia/data/gradients/atlas/epfl_cell_atlas/cortex_cells_200um.nii.gz')"
   ]
  },
  {
   "cell_type": "markdown",
   "metadata": {},
   "source": [
    "### Apply sigmoid normalization"
   ]
  },
  {
   "cell_type": "code",
   "execution_count": 4,
   "metadata": {
    "collapsed": true
   },
   "outputs": [],
   "source": [
    "cell_density = nb.load('/home/julia/data/gradients/atlas/epfl_cell_atlas/cortex_cells_200um.nii.gz').get_data()"
   ]
  },
  {
   "cell_type": "code",
   "execution_count": 5,
   "metadata": {
    "collapsed": true
   },
   "outputs": [],
   "source": [
    "def sigmoid(energy):\n",
    "    X = (energy - np.mean(energy)) / np.std(energy)\n",
    "    sig = 1 / (1 + np.exp(-X))\n",
    "    return sig"
   ]
  },
  {
   "cell_type": "code",
   "execution_count": 8,
   "metadata": {},
   "outputs": [
    {
     "data": {
      "text/plain": [
       "(array([ 732., 1086., 6129., 6069., 1324.,   37.,   16.,   10.,    7.,\n",
       "          12.]),\n",
       " array([   0. ,  421.5,  843. , 1264.5, 1686. , 2107.5, 2529. , 2950.5,\n",
       "        3372. , 3793.5, 4215. ], dtype=float32),\n",
       " <a list of 10 Patch objects>)"
      ]
     },
     "execution_count": 8,
     "metadata": {},
     "output_type": "execute_result"
    },
    {
     "data": {
      "image/png": "[encoded data removed]",
      "text/plain": [
       "<Figure size 432x288 with 1 Axes>"
      ]
     },
     "metadata": {},
     "output_type": "display_data"
    }
   ],
   "source": [
    "plt.hist(cell_density[mask==1])"
   ]
  },
  {
   "cell_type": "code",
   "execution_count": 10,
   "metadata": {},
   "outputs": [
    {
     "data": {
      "text/plain": [
       "(array([ 909.,  652.,  983., 2355., 3232., 2279., 2602., 1840.,  493.,\n",
       "          77.]),\n",
       " array([0.04160001, 0.13738483, 0.23316966, 0.3289545 , 0.4247393 ,\n",
       "        0.52052414, 0.6163089 , 0.7120938 , 0.8078786 , 0.9036634 ,\n",
       "        0.99944824], dtype=float32),\n",
       " <a list of 10 Patch objects>)"
      ]
     },
     "execution_count": 10,
     "metadata": {},
     "output_type": "execute_result"
    },
    {
     "data": {
      "image/png": "[encoded data removed]",
      "text/plain": [
       "<Figure size 432x288 with 1 Axes>"
      ]
     },
     "metadata": {},
     "output_type": "display_data"
    }
   ],
   "source": [
    "plt.hist(sigmoid(cell_density[mask==1]))"
   ]
  },
  {
   "cell_type": "code",
   "execution_count": 15,
   "metadata": {
    "collapsed": true
   },
   "outputs": [],
   "source": [
    "sig_density = np.zeros_like(cell_density)\n",
    "sig_density[mask==1] = sigmoid(cell_density[mask==1])\n",
    "nb.save(nb.Nifti1Image(sig_density, aff, hdr), \n",
    "        '/home/julia/data/gradients/atlas/epfl_cell_atlas/cortex_cells_sig_200um.nii.gz')"
   ]
  },
  {
   "cell_type": "markdown",
   "metadata": {},
   "source": [
    "### Smooth cell density map with same kernel as gradient"
   ]
  },
  {
   "cell_type": "code",
   "execution_count": 17,
   "metadata": {},
   "outputs": [],
   "source": [
    "from nilearn.input_data import NiftiMasker\n",
    "masker = NiftiMasker(mask_img=img, standardize=False, smoothing_fwhm=0.45)\n",
    "smoothed_trans = masker.fit_transform('/home/julia/data/gradients/atlas/epfl_cell_atlas/cortex_cells_sig_200um.nii.gz')"
   ]
  },
  {
   "cell_type": "code",
   "execution_count": 18,
   "metadata": {
    "collapsed": true
   },
   "outputs": [],
   "source": [
    "smoothed = masker.inverse_transform(smoothed_trans)\n",
    "smoothed.to_filename('/home/julia/data/gradients/atlas/epfl_cell_atlas/cortex_cells_sig_200um_smooth045.nii.gz')\n",
    "cell_density = smoothed.get_data().squeeze()"
   ]
  },
  {
   "cell_type": "markdown",
   "metadata": {},
   "source": [
    "### Calcluate Spearman correlation to gradients"
   ]
  },
  {
   "cell_type": "code",
   "execution_count": 19,
   "metadata": {},
   "outputs": [
    {
     "name": "stdout",
     "output_type": "stream",
     "text": [
      "Gradient 0: SpearmanrResult(correlation=0.4133536134638217, pvalue=0.0)\n",
      "Gradient 1: SpearmanrResult(correlation=-0.16091226981972953, pvalue=5.734026319963923e-90)\n",
      "Gradient 2: SpearmanrResult(correlation=0.13171641994043953, pvalue=1.2149074095901342e-60)\n",
      "Gradient 3: SpearmanrResult(correlation=0.10250583629724629, pvalue=2.6615698384981902e-37)\n",
      "Gradient 4: SpearmanrResult(correlation=-0.39757415877784075, pvalue=0.0)\n",
      "Gradient 5: SpearmanrResult(correlation=0.08582792404327717, pvalue=1.2984015981157744e-26)\n"
     ]
    }
   ],
   "source": [
    "gradients = nb.load('/home/julia/data/gradients/results/embedding_vol/embed.nii.gz').get_data()\n",
    "for g in range(6):\n",
    "    gradient =  gradients[:,:,:,g]\n",
    "    print('Gradient %i:' %g, stats.spearmanr(cell_density[mask==1], gradient[mask==1]))"
   ]
  },
  {
   "cell_type": "markdown",
   "metadata": {},
   "source": [
    "### Plot"
   ]
  },
  {
   "cell_type": "code",
   "execution_count": 20,
   "metadata": {
    "collapsed": true
   },
   "outputs": [],
   "source": [
    "gradients = nb.load('/home/julia/data/gradients/results/embedding_vol/embed.nii.gz').get_data()\n",
    "template = nb.load('/home/julia/data/gradients/atlas/allen_api/template_200.nii.gz').get_data()\n",
    "cell_density = nb.load('/home/julia/data/gradients/atlas/epfl_cell_atlas/cortex_cells_sig_200um_smooth045.nii.gz').get_data().squeeze()\n",
    "mask = nb.load('/home/julia/data/gradients/atlas/allen_api/cortex_mask_tight_200um.nii.gz').get_data()"
   ]
  },
  {
   "cell_type": "code",
   "execution_count": 21,
   "metadata": {
    "collapsed": true
   },
   "outputs": [],
   "source": [
    "cell_density[mask==0] = np.nan\n",
    "gradient_0 = gradients[:,:,:,0]\n",
    "gradient_0[mask==0] = np.nan\n",
    "gradient_4 = gradients[:,:,:,4]\n",
    "gradient_4[mask==0] = np.nan"
   ]
  },
  {
   "cell_type": "code",
   "execution_count": 22,
   "metadata": {},
   "outputs": [
    {
     "data": {
      "image/png": "[encoded data removed]",
      "text/plain": [
       "<Figure size 1080x1080 with 3 Axes>"
      ]
     },
     "metadata": {},
     "output_type": "display_data"
    }
   ],
   "source": [
    "x=30\n",
    "y=10\n",
    "z=15\n",
    "\n",
    "\n",
    "fig = plt.figure(figsize=(15,15))\n",
    "\n",
    "vmin = -max(np.abs(np.nanmin(cell_density)), np.abs(np.nanmax(cell_density)))\n",
    "vmax = max(np.abs(np.nanmin(cell_density)), np.abs(np.nanmax(cell_density)))\n",
    "\n",
    "fig.add_subplot(3,3,1)\n",
    "plt.imshow(template[x,:,:],  cmap='Greys', aspect='equal');\n",
    "plt.imshow(cell_density[x,:,:],  cmap=\"coolwarm\", aspect='equal', vmin=vmin, vmax=vmax);\n",
    "plt.axis('off');\n",
    "\n",
    "fig.add_subplot(3,3,2)\n",
    "plt.imshow(template[:,y,:],  cmap='Greys', aspect='equal');\n",
    "plt.imshow(cell_density[:,y,:],  cmap=\"coolwarm\", aspect='equal', vmin=vmin, vmax=vmax);\n",
    "plt.axis('off');\n",
    "\n",
    "fig.add_subplot(3,3,3)\n",
    "plt.imshow(template[:,:,z].T,  cmap='Greys', aspect='equal');\n",
    "plt.imshow(cell_density[:,:,z].T,  cmap=\"coolwarm\", aspect='equal', vmin=vmin, vmax=vmax);\n",
    "plt.axis('off');\n",
    "\n",
    "# vmin = np.nanmin(gradient_0)\n",
    "# vmax = np.nanmax(gradient_0)\n",
    "\n",
    "# fig.add_subplot(3,3,4)\n",
    "# plt.imshow(template[x,:,:],  cmap='Greys', aspect='equal');\n",
    "# plt.imshow(gradient_0[x,:,:],  cmap=\"cubehelix\", aspect='equal', vmin=vmin, vmax=vmax);\n",
    "# plt.axis('off');\n",
    "\n",
    "# fig.add_subplot(3,3,5)\n",
    "# plt.imshow(template[:,y,:],  cmap='Greys', aspect='equal');\n",
    "# plt.imshow(gradient_0[:,y,:],  cmap=\"cubehelix\", aspect='equal', vmin=vmin, vmax=vmax);\n",
    "# plt.axis('off');\n",
    "\n",
    "# fig.add_subplot(3,3,6)\n",
    "# plt.imshow(template[:,:,z].T,  cmap='Greys', aspect='equal');\n",
    "# plt.imshow(gradient_0[:,:,z].T,  cmap=\"cubehelix\", aspect='equal', vmin=vmin, vmax=vmax);\n",
    "# plt.axis('off');\n",
    "\n",
    "# vmin = np.nanmin(gradient_4)\n",
    "# vmax = np.nanmax(gradient_4)\n",
    "\n",
    "# fig.add_subplot(3,3,7)\n",
    "# plt.imshow(template[x,:,:],  cmap='Greys', aspect='equal');\n",
    "# plt.imshow(gradient_4[x,:,:],  cmap=\"cubehelix\", aspect='equal', vmin=vmin, vmax=vmax);\n",
    "# plt.axis('off');\n",
    "\n",
    "# fig.add_subplot(3,3,8)\n",
    "# plt.imshow(template[:,y,:],  cmap='Greys', aspect='equal');\n",
    "# plt.imshow(gradient_4[:,y,:],  cmap=\"cubehelix\", aspect='equal', vmin=vmin, vmax=vmax);\n",
    "# plt.axis('off');\n",
    "\n",
    "# fig.add_subplot(3,3,9)\n",
    "# plt.imshow(template[:,:,z].T,  cmap='Greys', aspect='equal');\n",
    "# plt.imshow(gradient_4[:,:,z].T,  cmap=\"cubehelix\", aspect='equal', vmin=vmin, vmax=vmax);\n",
    "# plt.axis('off');\n",
    "\n",
    "plt.tight_layout()"
   ]
  },
  {
   "cell_type": "code",
   "execution_count": null,
   "metadata": {
    "collapsed": true
   },
   "outputs": [],
   "source": []
  }
 ],
 "metadata": {
  "kernelspec": {
   "display_name": "Python 3",
   "language": "python",
   "name": "python3"
  },
  "language_info": {
   "codemirror_mode": {
    "name": "ipython",
    "version": 3
   },
   "file_extension": ".py",
   "mimetype": "text/x-python",
   "name": "python",
   "nbconvert_exporter": "python",
   "pygments_lexer": "ipython3",
   "version": "3.6.8"
  }
 },
 "nbformat": 4,
 "nbformat_minor": 2
}
