{
 "cells": [
  {
   "cell_type": "code",
   "execution_count": 1,
   "metadata": {
    "collapsed": true
   },
   "outputs": [],
   "source": [
    "%matplotlib inline"
   ]
  },
  {
   "cell_type": "code",
   "execution_count": 2,
   "metadata": {
    "collapsed": true
   },
   "outputs": [],
   "source": [
    "import pandas as pd\n",
    "import numpy as np\n",
    "from scipy.stats import stats\n",
    "from sklearn.preprocessing import StandardScaler, MinMaxScaler\n",
    "from sklearn.decomposition import PCA\n",
    "import matplotlib.pyplot as plt\n",
    "import seaborn as sns\n",
    "import nibabel as nb\n",
    "from allensdk.core.mouse_connectivity_cache import MouseConnectivityCache\n",
    "import re"
   ]
  },
  {
   "cell_type": "code",
   "execution_count": 3,
   "metadata": {
    "collapsed": true
   },
   "outputs": [],
   "source": [
    "df_kim = pd.read_csv(\"/home/julia/workspace/rodent_gradients/interneurons.csv\", header=1)"
   ]
  },
  {
   "cell_type": "code",
   "execution_count": 4,
   "metadata": {
    "collapsed": true
   },
   "outputs": [],
   "source": [
    "mcc = MouseConnectivityCache(manifest_file=\n",
    "                             '/home/julia/data/gradients/atlas/allen_api/mouse_connectivity_manifest.json')\n",
    "structure_tree = mcc.get_structure_tree()\n",
    "iso_structs = structure_tree.descendants([315])[0]"
   ]
  },
  {
   "cell_type": "markdown",
   "metadata": {},
   "source": [
    "### Make a dataframe with only the layer 4 to 6 structures"
   ]
  },
  {
   "cell_type": "code",
   "execution_count": 6,
   "metadata": {},
   "outputs": [],
   "source": [
    "l4_6 = []\n",
    "for i in range(len(iso_structs)):\n",
    "#    if 'layer 4' in iso_structs[i]['name'].lower():\n",
    "#        l4_6.append(iso_structs[i])\n",
    "    if 'layer 5' in iso_structs[i]['name'].lower():\n",
    "        l4_6.append(iso_structs[i])\n",
    "    elif 'layer 6a' in iso_structs[i]['name'].lower():\n",
    "        l4_6.append(iso_structs[i])\n",
    "    elif 'layer 6b' in iso_structs[i]['name'].lower():\n",
    "        l4_6.append(iso_structs[i])\n",
    "df4_6 = pd.DataFrame()\n",
    "for r in l4_6:\n",
    "    df4_6 = df4_6.append(df_kim.loc[df_kim['ROI'] == r['acronym']], ignore_index=True)\n",
    "    \n",
    "df4_6['id']=np.nan\n",
    "for r in l4_6:\n",
    "    df4_6.loc[df4_6['ROI']==r['acronym'],'id'] = r['id']"
   ]
  },
  {
   "cell_type": "code",
   "execution_count": 7,
   "metadata": {
    "collapsed": true
   },
   "outputs": [],
   "source": [
    "df4_6['g0'] = np.nan\n",
    "df4_6['g1'] = np.nan\n",
    "df4_6['g2'] = np.nan\n",
    "df4_6['g3'] = np.nan\n",
    "df4_6['g4'] = np.nan\n",
    "df4_6['g5'] = np.nan"
   ]
  },
  {
   "cell_type": "code",
   "execution_count": 8,
   "metadata": {
    "collapsed": true
   },
   "outputs": [],
   "source": [
    "img = nb.load(\"/home/julia/data/gradients/atlas/allen_api/annotation/annotation_200um.nii.gz\")\n",
    "annot = img.get_data()\n",
    "gradients = nb.load('/home/julia/data/gradients/results/embedding_vol/embed.nii.gz').get_data()"
   ]
  },
  {
   "cell_type": "code",
   "execution_count": 9,
   "metadata": {},
   "outputs": [
    {
     "name": "stderr",
     "output_type": "stream",
     "text": [
      "/home/julia/workspace/conda/anaconda3/lib/python3.6/site-packages/ipykernel_launcher.py:3: RuntimeWarning: Mean of empty slice\n",
      "  This is separate from the ipykernel package so we can avoid doing imports until\n"
     ]
    }
   ],
   "source": [
    "for idx in df4_6['id']:\n",
    "    for g in range(6):\n",
    "        df4_6.loc[df4_6['id']==idx, 'g%s' %str(g)] = np.nanmean(gradients[:,:,:,g][annot==idx])"
   ]
  },
  {
   "cell_type": "code",
   "execution_count": 10,
   "metadata": {
    "collapsed": true
   },
   "outputs": [],
   "source": [
    "df4_6 = df4_6.dropna(axis=0)\n",
    "df4_6 = df4_6.drop(columns=['Full name', 'structureOrder', 'standard deviation', 'standard deviation.1',\n",
    "                           'standard deviation.2', 'standard deviation.3', 'standard deviation.4', \n",
    "                            'standard deviation.5', 'standard deviation.6', 'Average.3', 'Average.4',\n",
    "                           'Average.5', 'Average.6'])"
   ]
  },
  {
   "cell_type": "code",
   "execution_count": 11,
   "metadata": {
    "collapsed": true
   },
   "outputs": [],
   "source": [
    "df4_6 = df4_6.rename(columns={\"Average\": \"PV avg\", \"Average.1\": \"SST avg\",  \"Average.2\": \"VIP avg\"})"
   ]
  },
  {
   "cell_type": "code",
   "execution_count": 12,
   "metadata": {
    "collapsed": true
   },
   "outputs": [],
   "source": [
    "for a in df4_6[\"ROI\"]:\n",
    "    df4_6.loc[df4_6[\"ROI\"]==a, \"PV avg\"] = int(df4_6[df4_6[\"ROI\"]==a]['PV avg'].values[0].replace(u'\\xa0', u''))\n",
    "    df4_6.loc[df4_6[\"ROI\"]==a, \"SST avg\"] = int(df4_6[df4_6[\"ROI\"]==a]['SST avg'].values[0].replace(u'\\xa0', u''))\n",
    "    df4_6.loc[df4_6[\"ROI\"]==a, \"VIP avg\"] = int(df4_6[df4_6[\"ROI\"]==a]['VIP avg'].values[0].replace(u'\\xa0', u''))"
   ]
  },
  {
   "cell_type": "code",
   "execution_count": 27,
   "metadata": {
    "collapsed": true
   },
   "outputs": [],
   "source": [
    "df4_6[\"PV/SST\"] = df4_6['PV avg'] / (df4_6['PV avg']+df4_6['SST avg'])"
   ]
  },
  {
   "cell_type": "code",
   "execution_count": 44,
   "metadata": {
    "collapsed": true
   },
   "outputs": [],
   "source": [
    "df4_6.to_csv(\"/home/julia/data/gradients/atlas/interneurons/infragranular_regions.csv\")"
   ]
  },
  {
   "cell_type": "code",
   "execution_count": 50,
   "metadata": {},
   "outputs": [
    {
     "name": "stdout",
     "output_type": "stream",
     "text": [
      "Gradient 2, PV avg: SpearmanrResult(correlation=0.49254122770928715, pvalue=9.5829172661938265e-06)\n",
      "Gradient 4, PV/SST: SpearmanrResult(correlation=-0.58425891645069727, pvalue=5.7464231259109088e-08)\n"
     ]
    }
   ],
   "source": [
    "for g in range(6):\n",
    "    for c in ['PV avg', 'SST avg', 'VIP avg', 'PV/SST']:\n",
    "        r = stats.spearmanr(df4_6['g%i' %g], df4_6[c])\n",
    "        if r[1]*73*24<0.05:\n",
    "            print('Gradient %i, %s:' %(g,c), r)"
   ]
  },
  {
   "cell_type": "markdown",
   "metadata": {},
   "source": [
    "### Plotting"
   ]
  },
  {
   "cell_type": "code",
   "execution_count": 31,
   "metadata": {
    "collapsed": true
   },
   "outputs": [],
   "source": [
    "df_plotting = pd.read_csv('/home/julia/workspace/rodent_gradients/finest_regions.csv')"
   ]
  },
  {
   "cell_type": "code",
   "execution_count": 32,
   "metadata": {
    "collapsed": true
   },
   "outputs": [],
   "source": [
    "df4_6['cluster'] = np.nan"
   ]
  },
  {
   "cell_type": "code",
   "execution_count": 33,
   "metadata": {
    "collapsed": true
   },
   "outputs": [],
   "source": [
    "for a in df4_6[\"ROI\"]:\n",
    "    df4_6.loc[df4_6['ROI']==a, 'cluster'] = df_plotting.loc[df_plotting['acronym']==re.split(r'(\\d+)', a)[0], \n",
    "                                                            'cluster'].values[0]"
   ]
  },
  {
   "cell_type": "code",
   "execution_count": 34,
   "metadata": {
    "collapsed": true
   },
   "outputs": [],
   "source": [
    "df4_6.loc[df4_6['ROI']=='MOp5', 'cluster'] = 'motor'\n",
    "df4_6.loc[df4_6['ROI']=='MOs5', 'cluster'] = 'motor'\n",
    "df4_6.loc[df4_6['ROI']=='MOp6a', 'cluster'] = 'motor'\n",
    "df4_6.loc[df4_6['ROI']=='MOs6a', 'cluster'] = 'motor'\n",
    "df4_6.loc[df4_6['cluster']=='somatomotor', 'cluster'] = 'somatosensory'"
   ]
  },
  {
   "cell_type": "code",
   "execution_count": 36,
   "metadata": {},
   "outputs": [
    {
     "data": {
      "image/png": "[encoded data removed]",
      "text/plain": [
       "<Figure size 360x360 with 1 Axes>"
      ]
     },
     "metadata": {},
     "output_type": "display_data"
    }
   ],
   "source": [
    "clusters = ['motor', 'somatosensory', 'prefrontal','lateral', 'medial', 'visual', 'auditory']\n",
    "colors = ['darkgreen', 'tab:orange', 'tab:red', 'gold', 'darkblue','cornflowerblue','slateblue']\n",
    "sns.set_context('talk')\n",
    "fig = plt.figure(figsize=(5,5))\n",
    "\n",
    "pv_norm = np.mean(df4_6['PV avg'])\n",
    "sst_norm = np.mean(df4_6['SST avg'])\n",
    "\n",
    "for c in range(len(clusters)):\n",
    "    regions = list(df4_6.loc[df4_6['cluster']==clusters[c], \"ROI\"])\n",
    "    for r in regions:\n",
    "        plt.scatter(df4_6.loc[df4_6['ROI']==r, 'PV avg'].values[0] / pv_norm, \n",
    "                    df4_6.loc[df4_6['ROI']==r, 'SST avg'].values[0] / sst_norm, \n",
    "                    color=colors[c], label=clusters[c])\n",
    "plt.xlabel('PV norm L5_6')\n",
    "plt.ylabel('SST norm L5_6')\n",
    "plt.tight_layout()\n",
    "sns.despine()"
   ]
  },
  {
   "cell_type": "code",
   "execution_count": 51,
   "metadata": {},
   "outputs": [
    {
     "data": {
      "image/png": "[encoded data removed]",
      "text/plain": [
       "<Figure size 360x360 with 1 Axes>"
      ]
     },
     "metadata": {},
     "output_type": "display_data"
    }
   ],
   "source": [
    "clusters = ['motor', 'somatosensory', 'prefrontal','lateral', 'medial', 'visual', 'auditory']\n",
    "colors = ['darkgreen', 'tab:orange', 'tab:red', 'gold', 'darkblue','cornflowerblue','slateblue']\n",
    "sns.set_context('talk')\n",
    "fig = plt.figure(figsize=(5,5))\n",
    "\n",
    "pv_norm = np.mean(df4_6['PV avg'])\n",
    "sst_norm = np.mean(df4_6['SST avg'])\n",
    "\n",
    "for c in range(len(clusters)):\n",
    "    regions = list(df4_6.loc[df4_6['cluster']==clusters[c], \"ROI\"])\n",
    "    for r in regions:\n",
    "        plt.scatter(df4_6.loc[df4_6['ROI']==r, 'PV avg'].values[0], \n",
    "                    df4_6.loc[df4_6['ROI']==r, 'g2'].values[0], \n",
    "                    color=colors[c], label=clusters[c])\n",
    "plt.xlabel('PV infragranular')\n",
    "plt.ylabel('Gradient 2')\n",
    "plt.tight_layout()\n",
    "sns.despine()"
   ]
  },
  {
   "cell_type": "code",
   "execution_count": 53,
   "metadata": {},
   "outputs": [
    {
     "data": {
      "image/png": "[encoded data removed]",
      "text/plain": [
       "<Figure size 360x360 with 1 Axes>"
      ]
     },
     "metadata": {},
     "output_type": "display_data"
    }
   ],
   "source": [
    "clusters = ['motor', 'somatosensory', 'prefrontal','lateral', 'medial', 'visual', 'auditory']\n",
    "colors = ['darkgreen', 'tab:orange', 'tab:red', 'gold', 'darkblue','cornflowerblue','slateblue']\n",
    "sns.set_context('talk')\n",
    "fig = plt.figure(figsize=(5,5))\n",
    "\n",
    "pv_norm = np.mean(df4_6['PV avg'])\n",
    "sst_norm = np.mean(df4_6['SST avg'])\n",
    "\n",
    "for c in range(len(clusters)):\n",
    "    regions = list(df4_6.loc[df4_6['cluster']==clusters[c], \"ROI\"])\n",
    "    for r in regions:\n",
    "        plt.scatter(-df4_6.loc[df4_6['ROI']==r, 'PV/SST'].values[0], \n",
    "                    df4_6.loc[df4_6['ROI']==r, 'g4'].values[0], \n",
    "                    color=colors[c], label=clusters[c])\n",
    "plt.xlabel('-PV/SST infragranular')\n",
    "plt.ylabel('Gradient 4')\n",
    "plt.tight_layout()\n",
    "sns.despine()"
   ]
  },
  {
   "cell_type": "code",
   "execution_count": null,
   "metadata": {
    "collapsed": true
   },
   "outputs": [],
   "source": []
  }
 ],
 "metadata": {
  "kernelspec": {
   "display_name": "Python 3",
   "language": "python",
   "name": "python3"
  },
  "language_info": {
   "codemirror_mode": {
    "name": "ipython",
    "version": 3
   },
   "file_extension": ".py",
   "mimetype": "text/x-python",
   "name": "python",
   "nbconvert_exporter": "python",
   "pygments_lexer": "ipython3",
   "version": "3.6.10"
  }
 },
 "nbformat": 4,
 "nbformat_minor": 2
}
