{
 "cells": [
  {
   "cell_type": "code",
   "execution_count": 1,
   "metadata": {
    "collapsed": true
   },
   "outputs": [],
   "source": [
    "%matplotlib inline"
   ]
  },
  {
   "cell_type": "code",
   "execution_count": 2,
   "metadata": {
    "collapsed": true
   },
   "outputs": [],
   "source": [
    "import matplotlib.pyplot as plt\n",
    "import numpy as np\n",
    "import nibabel as nb\n",
    "import pandas as pd\n",
    "from allensdk.core.mouse_connectivity_cache import MouseConnectivityCache"
   ]
  },
  {
   "cell_type": "code",
   "execution_count": 3,
   "metadata": {},
   "outputs": [],
   "source": [
    "annot = np.array(nb.load('/home/julia/data/gradients/atlas/allen_api/annotation.nii.gz').get_data(), dtype='float64')\n",
    "gradient = nb.load('/home/julia/data/gradients/results/gradient0000_highres_allen.nii.gz').get_data()\n",
    "mask = nb.load('/home/julia/data/gradients/atlas/cortex/cortex_mask_25um_allen.nii.gz').get_data()"
   ]
  },
  {
   "cell_type": "code",
   "execution_count": 4,
   "metadata": {
    "collapsed": true
   },
   "outputs": [],
   "source": [
    "mcc = MouseConnectivityCache(manifest_file=\n",
    "                             '/home/julia/data/gradients/atlas/allen_api/mouse_connectivity_manifest.json')\n",
    "structure_tree = mcc.get_structure_tree()\n",
    "structure_map = structure_tree.get_name_map()"
   ]
  },
  {
   "cell_type": "code",
   "execution_count": 5,
   "metadata": {
    "collapsed": true
   },
   "outputs": [],
   "source": [
    "gradient[mask==0] = np.nan\n",
    "annot[mask==0] = np.nan"
   ]
  },
  {
   "cell_type": "code",
   "execution_count": 6,
   "metadata": {
    "collapsed": true
   },
   "outputs": [],
   "source": [
    "unique_annot = np.unique(annot)\n",
    "unique_annot = unique_annot[np.isnan(unique_annot)==0]\n",
    "unique_annot = unique_annot[1:]"
   ]
  },
  {
   "cell_type": "code",
   "execution_count": 7,
   "metadata": {
    "collapsed": true
   },
   "outputs": [],
   "source": [
    "region_means = []\n",
    "region_names=[]\n",
    "for region in range(unique_annot.shape[0]):\n",
    "    region_means.append(np.mean(gradient[annot==unique_annot[region]]))\n",
    "    region_names.append(structure_map[unique_annot[region]])"
   ]
  },
  {
   "cell_type": "code",
   "execution_count": 12,
   "metadata": {
    "collapsed": true
   },
   "outputs": [],
   "source": [
    "df = pd.DataFrame(data=zip(unique_annot, region_names, region_means), \n",
    "                  columns=['idx', 'name', 'mean'])"
   ]
  },
  {
   "cell_type": "code",
   "execution_count": 20,
   "metadata": {
    "collapsed": true
   },
   "outputs": [],
   "source": [
    "df = df.sort_values(by=['mean'])"
   ]
  },
  {
   "cell_type": "code",
   "execution_count": 22,
   "metadata": {
    "collapsed": true
   },
   "outputs": [],
   "source": [
    "df.to_csv('/home/julia/data/gradients/results/regions_by_gradient/region_means_gradient0000.csv')"
   ]
  },
  {
   "cell_type": "markdown",
   "metadata": {},
   "source": [
    "### Try broader region definitions"
   ]
  },
  {
   "cell_type": "code",
   "execution_count": 8,
   "metadata": {
    "collapsed": true
   },
   "outputs": [],
   "source": [
    "parents = []\n",
    "unique_parents = set()\n",
    "for child in unique_annot:\n",
    "    parents.append(structure_tree.parent_ids([child])[0])\n",
    "    unique_parents.add(structure_tree.parent_ids([child])[0])\n",
    "unique_parents.remove(None)\n",
    "unique_parents = list(unique_parents)"
   ]
  },
  {
   "cell_type": "code",
   "execution_count": 196,
   "metadata": {
    "collapsed": true
   },
   "outputs": [],
   "source": [
    "parents=np.array(parents)\n",
    "region_means = np.array(region_means)"
   ]
  },
  {
   "cell_type": "code",
   "execution_count": 203,
   "metadata": {
    "collapsed": true
   },
   "outputs": [],
   "source": [
    "parent_means = []\n",
    "parent_names = []\n",
    "for parent in unique_parents:\n",
    "    parent_means.append(np.mean(region_means[parents==parent]))\n",
    "    parent_names.append(structure_map[parent])"
   ]
  },
  {
   "cell_type": "code",
   "execution_count": 204,
   "metadata": {
    "collapsed": true
   },
   "outputs": [],
   "source": [
    "df_broad = pd.DataFrame(data=zip(unique_parents, parent_names, parent_means), \n",
    "                        columns=['idx', 'name', 'mean'])"
   ]
  },
  {
   "cell_type": "code",
   "execution_count": 206,
   "metadata": {
    "collapsed": true
   },
   "outputs": [],
   "source": [
    "df_broad = df_broad.sort_values(by=['mean'])"
   ]
  },
  {
   "cell_type": "code",
   "execution_count": 208,
   "metadata": {
    "collapsed": true
   },
   "outputs": [],
   "source": [
    "df_broad.to_csv('/home/julia/data/gradients/results/regions_by_gradient/parent_means_gradient0000.csv')"
   ]
  },
  {
   "cell_type": "markdown",
   "metadata": {},
   "source": [
    "### Curate parent list through grandparents"
   ]
  },
  {
   "cell_type": "code",
   "execution_count": 15,
   "metadata": {},
   "outputs": [],
   "source": [
    "grandparents = set()\n",
    "for parent in unique_parents:\n",
    "    grandparents.add(structure_map[structure_tree.parent_ids([parent])[0]])"
   ]
  },
  {
   "cell_type": "code",
   "execution_count": 16,
   "metadata": {},
   "outputs": [
    {
     "data": {
      "text/plain": [
       "{'Agranular insular area',\n",
       " 'Anterior cingulate area',\n",
       " 'Auditory areas',\n",
       " 'Cerebral cortex',\n",
       " 'Cerebrum',\n",
       " 'Cortical plate',\n",
       " 'Cortical subplate',\n",
       " 'Entorhinal area',\n",
       " 'Hippocampal formation',\n",
       " 'Isocortex',\n",
       " 'Midbrain, sensory related',\n",
       " 'Olfactory areas',\n",
       " 'Orbital area',\n",
       " 'Posterior parietal association areas',\n",
       " 'Primary somatosensory area',\n",
       " 'Retrosplenial area',\n",
       " 'Somatomotor areas',\n",
       " 'Somatosensory areas',\n",
       " 'Striatum',\n",
       " 'Visual areas',\n",
       " 'cerebrum related',\n",
       " 'corpus callosum',\n",
       " 'fiber tracts',\n",
       " 'lateral forebrain bundle system',\n",
       " 'medial forebrain bundle system',\n",
       " 'root'}"
      ]
     },
     "execution_count": 16,
     "metadata": {},
     "output_type": "execute_result"
    }
   ],
   "source": [
    "grandparents"
   ]
  },
  {
   "cell_type": "code",
   "execution_count": 37,
   "metadata": {
    "collapsed": true
   },
   "outputs": [],
   "source": [
    "curated_grandparents = grandparents.copy()\n",
    "curated_grandparents.remove('Cerebral cortex')\n",
    "curated_grandparents.remove('Cerebrum')\n",
    "curated_grandparents.remove('Cortical plate')\n",
    "curated_grandparents.remove('Cortical subplate')\n",
    "curated_grandparents.remove('Isocortex')\n",
    "curated_grandparents.remove('Striatum')\n",
    "curated_grandparents.remove('cerebrum related')\n",
    "curated_grandparents.remove('corpus callosum')\n",
    "curated_grandparents.remove('fiber tracts')\n",
    "curated_grandparents.remove('lateral forebrain bundle system')\n",
    "curated_grandparents.remove('medial forebrain bundle system')\n",
    "curated_grandparents.remove('root')\n",
    "curated_grandparents.remove('Midbrain, sensory related')"
   ]
  },
  {
   "cell_type": "code",
   "execution_count": 42,
   "metadata": {
    "collapsed": true
   },
   "outputs": [],
   "source": [
    "curated_parents = []\n",
    "for parent in unique_parents:\n",
    "    if structure_map[structure_tree.parent_ids([parent])[0]] in curated_grandparents:\n",
    "        curated_parents.append(parent)"
   ]
  },
  {
   "cell_type": "code",
   "execution_count": 58,
   "metadata": {
    "collapsed": true
   },
   "outputs": [],
   "source": [
    "parents=np.array(parents)\n",
    "region_means = np.array(region_means)"
   ]
  },
  {
   "cell_type": "code",
   "execution_count": 64,
   "metadata": {
    "collapsed": true
   },
   "outputs": [],
   "source": [
    "curated_parent_means = []\n",
    "curated_parent_names = []\n",
    "for parent in curated_parents:\n",
    "    curated_parent_means.append(np.mean(region_means[parents==parent]))\n",
    "    curated_parent_names.append(structure_map[parent])"
   ]
  },
  {
   "cell_type": "code",
   "execution_count": 65,
   "metadata": {
    "collapsed": true
   },
   "outputs": [],
   "source": [
    "df_curated = pd.DataFrame(data=zip(curated_parents, curated_parent_names, curated_parent_means), \n",
    "                          columns=['idx', 'name', 'mean'])"
   ]
  },
  {
   "cell_type": "code",
   "execution_count": 66,
   "metadata": {
    "collapsed": true
   },
   "outputs": [],
   "source": [
    "df_curated = df_curated.sort_values(by=['mean'])"
   ]
  },
  {
   "cell_type": "code",
   "execution_count": 67,
   "metadata": {
    "collapsed": true
   },
   "outputs": [],
   "source": [
    "df_curated.to_csv('/home/julia/data/gradients/results/regions_by_gradient/curated_means_gradient0000.csv')"
   ]
  },
  {
   "cell_type": "code",
   "execution_count": 70,
   "metadata": {},
   "outputs": [],
   "source": [
    "np.save('/home/julia/data/gradients/results/regions_by_gradient/curated_parents.npy', curated_parents)"
   ]
  },
  {
   "cell_type": "code",
   "execution_count": null,
   "metadata": {
    "collapsed": true
   },
   "outputs": [],
   "source": []
  }
 ],
 "metadata": {
  "kernelspec": {
   "display_name": "Python 3",
   "language": "python",
   "name": "python3"
  },
  "language_info": {
   "codemirror_mode": {
    "name": "ipython",
    "version": 3
   },
   "file_extension": ".py",
   "mimetype": "text/x-python",
   "name": "python",
   "nbconvert_exporter": "python",
   "pygments_lexer": "ipython3",
   "version": "3.6.8"
  }
 },
 "nbformat": 4,
 "nbformat_minor": 2
}
