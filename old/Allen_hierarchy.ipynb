{
 "cells": [
  {
   "cell_type": "code",
   "execution_count": 1,
   "metadata": {
    "collapsed": true
   },
   "outputs": [],
   "source": [
    "%matplotlib inline"
   ]
  },
  {
   "cell_type": "code",
   "execution_count": 2,
   "metadata": {
    "collapsed": true
   },
   "outputs": [],
   "source": [
    "import pandas as pd\n",
    "import numpy as np\n",
    "import matplotlib.pyplot as plt\n",
    "from scipy.stats import stats\n",
    "import seaborn as sns"
   ]
  },
  {
   "cell_type": "code",
   "execution_count": 7,
   "metadata": {
    "collapsed": true
   },
   "outputs": [],
   "source": [
    "df = pd.read_excel('/home/julia/data/gradients/atlas/allen_hierarchies/41586_2019_1716_MOESM10_ESM.xlsx',\n",
    "                  sheet_name='all area hr scores_Cre + WT')"
   ]
  },
  {
   "cell_type": "code",
   "execution_count": 4,
   "metadata": {
    "collapsed": true
   },
   "outputs": [],
   "source": [
    "df = df[['Area', 'Cre_conf CC', 'Cre_conf CC+TC', 'Cre_conf CC+TC+CT']][:37]"
   ]
  },
  {
   "cell_type": "code",
   "execution_count": 5,
   "metadata": {
    "collapsed": true
   },
   "outputs": [],
   "source": [
    "df_regions = pd.read_csv('/home/julia/data/gradients/results/regions/finest_regions.csv')\n",
    "df_regions = df_regions.drop(columns=['Unnamed: 0', 'comment'])"
   ]
  },
  {
   "cell_type": "code",
   "execution_count": 6,
   "metadata": {
    "collapsed": true
   },
   "outputs": [],
   "source": [
    "df_regions['Cre_conf CC'] = np.nan\n",
    "df_regions['Cre_conf CC+TC'] = np.nan\n",
    "df_regions['Cre_conf CC+TC+CT'] = np.nan"
   ]
  },
  {
   "cell_type": "code",
   "execution_count": 7,
   "metadata": {
    "collapsed": true
   },
   "outputs": [],
   "source": [
    "regions = [x.lower() for x in df_regions['acronym']]\n",
    "for a in df['Area']:\n",
    "    idx = regions.index(a.lower())\n",
    "    df_regions.loc[idx,'Cre_conf CC'] = df.loc[df[\"Area\"]==a, 'Cre_conf CC'].values[0]\n",
    "    df_regions.loc[idx,'Cre_conf CC+TC'] = df.loc[df[\"Area\"]==a, 'Cre_conf CC+TC'].values[0]\n",
    "    df_regions.loc[idx,'Cre_conf CC+TC+CT'] = df.loc[df[\"Area\"]==a, 'Cre_conf CC+TC+CT'].values[0]"
   ]
  },
  {
   "cell_type": "code",
   "execution_count": 8,
   "metadata": {
    "collapsed": true
   },
   "outputs": [],
   "source": [
    "df_analysis = df_regions.dropna(axis=0)"
   ]
  },
  {
   "cell_type": "code",
   "execution_count": 9,
   "metadata": {},
   "outputs": [
    {
     "name": "stdout",
     "output_type": "stream",
     "text": [
      "Gradient 1, Cre_conf CC+TC: SpearmanrResult(correlation=0.44145658263305326, pvalue=0.007936377273237233)\n",
      "Gradient 4, Cre_conf CC: SpearmanrResult(correlation=0.42969187675070025, pvalue=0.009991541630237084)\n",
      "Gradient 4, Cre_conf CC+TC: SpearmanrResult(correlation=0.538935574229692, pvalue=0.0008367791735488631)\n",
      "Gradient 4, Cre_conf CC+TC+CT: SpearmanrResult(correlation=0.49523809523809526, pvalue=0.0024881018866748806)\n"
     ]
    }
   ],
   "source": [
    "for g in range(6):\n",
    "    for c in ['Cre_conf CC', 'Cre_conf CC+TC', 'Cre_conf CC+TC+CT']:\n",
    "        r = stats.spearmanr(df_analysis['gradient %i' %g], df_analysis[c])\n",
    "        if np.abs(r[1]) < 0.01: \n",
    "            print('Gradient %i, %s:' %(g,c), r)"
   ]
  },
  {
   "cell_type": "code",
   "execution_count": null,
   "metadata": {
    "collapsed": true
   },
   "outputs": [],
   "source": []
  },
  {
   "cell_type": "code",
   "execution_count": null,
   "metadata": {
    "collapsed": true
   },
   "outputs": [],
   "source": []
  }
 ],
 "metadata": {
  "kernelspec": {
   "display_name": "Python 3",
   "language": "python",
   "name": "python3"
  },
  "language_info": {
   "codemirror_mode": {
    "name": "ipython",
    "version": 3
   },
   "file_extension": ".py",
   "mimetype": "text/x-python",
   "name": "python",
   "nbconvert_exporter": "python",
   "pygments_lexer": "ipython3",
   "version": "3.6.10"
  }
 },
 "nbformat": 4,
 "nbformat_minor": 2
}
