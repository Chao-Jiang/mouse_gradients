{
 "cells": [
  {
   "cell_type": "code",
   "execution_count": 1,
   "metadata": {
    "collapsed": true
   },
   "outputs": [],
   "source": [
    "import nighres\n",
    "import nibabel as nb\n",
    "import numpy as np"
   ]
  },
  {
   "cell_type": "markdown",
   "metadata": {},
   "source": [
    "### Make levelsets"
   ]
  },
  {
   "cell_type": "code",
   "execution_count": 2,
   "metadata": {},
   "outputs": [
    {
     "name": "stdout",
     "output_type": "stream",
     "text": [
      "\n",
      "Probability to Levelset\n",
      "\n",
      "Outputs will be saved to /home/julia/projects/gradients/atlas/cortex/\n"
     ]
    },
    {
     "ename": "FileNotFoundError",
     "evalue": "No such file: '/home/julia/projects/gradients/atlas/cortex/cortex_mask_25um_v2.nii.gz'",
     "output_type": "error",
     "traceback": [
      "\u001b[0;31m---------------------------------------------------------------------------\u001b[0m",
      "\u001b[0;31mFileNotFoundError\u001b[0m                         Traceback (most recent call last)",
      "\u001b[0;32m<ipython-input-2-6dbcb74a1a5e>\u001b[0m in \u001b[0;36m<module>\u001b[0;34m()\u001b[0m\n\u001b[1;32m      1\u001b[0m nighres.surface.probability_to_levelset(\"/home/julia/projects/gradients/atlas/cortex/cortex_mask_25um_v2.nii.gz\",\n\u001b[0;32m----> 2\u001b[0;31m                                         save_data=True)\n\u001b[0m",
      "\u001b[0;32m~/workspace/nighres/nighres/surface/probability_to_levelset.py\u001b[0m in \u001b[0;36mprobability_to_levelset\u001b[0;34m(probability_image, save_data, overwrite, output_dir, file_name)\u001b[0m\n\u001b[1;32m     76\u001b[0m \u001b[0;34m\u001b[0m\u001b[0m\n\u001b[1;32m     77\u001b[0m     \u001b[0;31m# load the data\u001b[0m\u001b[0;34m\u001b[0m\u001b[0;34m\u001b[0m\u001b[0;34m\u001b[0m\u001b[0m\n\u001b[0;32m---> 78\u001b[0;31m     \u001b[0mprob_img\u001b[0m \u001b[0;34m=\u001b[0m \u001b[0mload_volume\u001b[0m\u001b[0;34m(\u001b[0m\u001b[0mprobability_image\u001b[0m\u001b[0;34m)\u001b[0m\u001b[0;34m\u001b[0m\u001b[0;34m\u001b[0m\u001b[0m\n\u001b[0m\u001b[1;32m     79\u001b[0m     \u001b[0mprob_data\u001b[0m \u001b[0;34m=\u001b[0m \u001b[0mprob_img\u001b[0m\u001b[0;34m.\u001b[0m\u001b[0mget_data\u001b[0m\u001b[0;34m(\u001b[0m\u001b[0;34m)\u001b[0m\u001b[0;34m\u001b[0m\u001b[0;34m\u001b[0m\u001b[0m\n\u001b[1;32m     80\u001b[0m     \u001b[0mhdr\u001b[0m \u001b[0;34m=\u001b[0m \u001b[0mprob_img\u001b[0m\u001b[0;34m.\u001b[0m\u001b[0mheader\u001b[0m\u001b[0;34m\u001b[0m\u001b[0;34m\u001b[0m\u001b[0m\n",
      "\u001b[0;32m~/workspace/nighres/nighres/io/io_volume.py\u001b[0m in \u001b[0;36mload_volume\u001b[0;34m(volume)\u001b[0m\n\u001b[1;32m     33\u001b[0m     \u001b[0;32mif\u001b[0m \u001b[0misinstance\u001b[0m\u001b[0;34m(\u001b[0m\u001b[0mvolume\u001b[0m\u001b[0;34m,\u001b[0m \u001b[0mstr\u001b[0m\u001b[0;34m)\u001b[0m\u001b[0;34m:\u001b[0m\u001b[0;34m\u001b[0m\u001b[0;34m\u001b[0m\u001b[0m\n\u001b[1;32m     34\u001b[0m         \u001b[0;31m# importing nifti files\u001b[0m\u001b[0;34m\u001b[0m\u001b[0;34m\u001b[0m\u001b[0;34m\u001b[0m\u001b[0m\n\u001b[0;32m---> 35\u001b[0;31m         \u001b[0mimage\u001b[0m \u001b[0;34m=\u001b[0m \u001b[0mnb\u001b[0m\u001b[0;34m.\u001b[0m\u001b[0mload\u001b[0m\u001b[0;34m(\u001b[0m\u001b[0mvolume\u001b[0m\u001b[0;34m)\u001b[0m\u001b[0;34m\u001b[0m\u001b[0;34m\u001b[0m\u001b[0m\n\u001b[0m\u001b[1;32m     36\u001b[0m     \u001b[0;31m# if volume is already a nibabel object\u001b[0m\u001b[0;34m\u001b[0m\u001b[0;34m\u001b[0m\u001b[0;34m\u001b[0m\u001b[0m\n\u001b[1;32m     37\u001b[0m     \u001b[0;32melif\u001b[0m \u001b[0misinstance\u001b[0m\u001b[0;34m(\u001b[0m\u001b[0mvolume\u001b[0m\u001b[0;34m,\u001b[0m \u001b[0mnb\u001b[0m\u001b[0;34m.\u001b[0m\u001b[0mspatialimages\u001b[0m\u001b[0;34m.\u001b[0m\u001b[0mSpatialImage\u001b[0m\u001b[0;34m)\u001b[0m\u001b[0;34m:\u001b[0m\u001b[0;34m\u001b[0m\u001b[0;34m\u001b[0m\u001b[0m\n",
      "\u001b[0;32m~/workspace/conda/anaconda3/lib/python3.6/site-packages/nibabel/loadsave.py\u001b[0m in \u001b[0;36mload\u001b[0;34m(filename, **kwargs)\u001b[0m\n\u001b[1;32m     38\u001b[0m     '''\n\u001b[1;32m     39\u001b[0m     \u001b[0;32mif\u001b[0m \u001b[0;32mnot\u001b[0m \u001b[0mop\u001b[0m\u001b[0;34m.\u001b[0m\u001b[0mexists\u001b[0m\u001b[0;34m(\u001b[0m\u001b[0mfilename\u001b[0m\u001b[0;34m)\u001b[0m\u001b[0;34m:\u001b[0m\u001b[0;34m\u001b[0m\u001b[0;34m\u001b[0m\u001b[0m\n\u001b[0;32m---> 40\u001b[0;31m         \u001b[0;32mraise\u001b[0m \u001b[0mFileNotFoundError\u001b[0m\u001b[0;34m(\u001b[0m\u001b[0;34m\"No such file: '%s'\"\u001b[0m \u001b[0;34m%\u001b[0m \u001b[0mfilename\u001b[0m\u001b[0;34m)\u001b[0m\u001b[0;34m\u001b[0m\u001b[0;34m\u001b[0m\u001b[0m\n\u001b[0m\u001b[1;32m     41\u001b[0m     \u001b[0msniff\u001b[0m \u001b[0;34m=\u001b[0m \u001b[0;32mNone\u001b[0m\u001b[0;34m\u001b[0m\u001b[0;34m\u001b[0m\u001b[0m\n\u001b[1;32m     42\u001b[0m     \u001b[0;32mfor\u001b[0m \u001b[0mimage_klass\u001b[0m \u001b[0;32min\u001b[0m \u001b[0mall_image_classes\u001b[0m\u001b[0;34m:\u001b[0m\u001b[0;34m\u001b[0m\u001b[0;34m\u001b[0m\u001b[0m\n",
      "\u001b[0;31mFileNotFoundError\u001b[0m: No such file: '/home/julia/projects/gradients/atlas/cortex/cortex_mask_25um_v2.nii.gz'"
     ]
    }
   ],
   "source": [
    "nighres.surface.probability_to_levelset(\"/home/julia/projects/gradients/atlas/cortex/cortex_mask_25um_v2.nii.gz\",\n",
    "                                        save_data=True)"
   ]
  },
  {
   "cell_type": "code",
   "execution_count": 5,
   "metadata": {},
   "outputs": [
    {
     "name": "stdout",
     "output_type": "stream",
     "text": [
      "\n",
      "Probability to Levelset\n",
      "\n",
      "Outputs will be saved to /home/julia/projects/gradients/atlas/cortex/\n",
      "\n",
      "Saving /home/julia/projects/gradients/atlas/cortex/wm_fake_25um_v2_p2l-surf.nii.gz\n"
     ]
    },
    {
     "data": {
      "text/plain": [
       "{'result': <nibabel.nifti1.Nifti1Image at 0x7f1b19bd7160>}"
      ]
     },
     "execution_count": 5,
     "metadata": {},
     "output_type": "execute_result"
    }
   ],
   "source": [
    "nighres.surface.probability_to_levelset(\"/home/julia/projects/gradients/atlas/cortex/wm_fake_25um_v2.nii.gz\",\n",
    "                                        save_data=True)"
   ]
  },
  {
   "cell_type": "markdown",
   "metadata": {},
   "source": [
    "### Layering (on the server)"
   ]
  },
  {
   "cell_type": "raw",
   "metadata": {
    "collapsed": true
   },
   "source": [
    "Volumetric layering with following changes in the code:\n",
    "    algo.setLayeringMethod(\"distance-preserving\")\n",
    "    algo.setCurvatureApproximationScale(5)\n",
    "    algo.setPresmoothCorticalSurfaces(True)"
   ]
  },
  {
   "cell_type": "markdown",
   "metadata": {},
   "source": [
    "see https://github.com/juhuntenburg/nighres/tree/allen_brain"
   ]
  },
  {
   "cell_type": "code",
   "execution_count": 2,
   "metadata": {
    "collapsed": true
   },
   "outputs": [],
   "source": [
    "nighres.laminar.volumetric_layering(\"wm_fake_25um_v2_p2l-surf.nii.gz\", \n",
    "                                    \"cortex_mask_25um_v2_p2l-surf.nii.gz\",\n",
    "                                    n_layers=20)"
   ]
  },
  {
   "cell_type": "markdown",
   "metadata": {},
   "source": [
    "### Downsampling and reducing"
   ]
  },
  {
   "cell_type": "raw",
   "metadata": {},
   "source": [
    "Because the data is so big I cannot load the whole 21 levesets. Therefore, I open them in fsleyes (that works) and use the \"cropping\" tool to seperately save the following volumes:\n",
    "\n",
    "    0 -> wm_levelset.nii.gz\n",
    "    11 -> mid_levelset.nii.gz (between layer 11 and 12)\n",
    "    20 -> pial_levelset.nii.gz"
   ]
  },
  {
   "cell_type": "markdown",
   "metadata": {},
   "source": [
    "Downsampling to the resolution of the functional data"
   ]
  },
  {
   "cell_type": "code",
   "execution_count": null,
   "metadata": {
    "collapsed": true
   },
   "outputs": [],
   "source": [
    "!flirt -applyisoxfm 0.2 -in wm_levelset.nii.gz -ref gradient_0000.nii.gz -out wm_levelset_lowres.nii.gz\n",
    "!flirt -applyisoxfm 0.2 -in pial_levelset.nii.gz -ref gradient_0000.nii.gz -out pial_levelset_lowres.nii.gz\n",
    "!flirt -applyisoxfm 0.2 -in mid_levelset.nii.gz -ref gradient_0000.nii.gz -out mid_levelset_lowres.nii.gz"
   ]
  },
  {
   "cell_type": "markdown",
   "metadata": {},
   "source": [
    "Append all three layers into a 4D image"
   ]
  },
  {
   "cell_type": "code",
   "execution_count": null,
   "metadata": {
    "collapsed": true
   },
   "outputs": [],
   "source": [
    "!fslmerge -t three_levels_lowres.nii.gz wm_levelset_lowres.nii.gz mid_levelset_lowres.nii.gz pial_levelset_lowres.nii.gz"
   ]
  },
  {
   "cell_type": "markdown",
   "metadata": {},
   "source": [
    "### Profile sampling"
   ]
  },
  {
   "cell_type": "code",
   "execution_count": 2,
   "metadata": {
    "collapsed": true
   },
   "outputs": [],
   "source": [
    "levelsets = \"/home/julia/data/gradients/atlas/layering_25um/three_levels.nii.gz\"\n",
    "gradient1 = \"/home/julia/data/gradients/results/gradient_0000_highres.nii.gz\""
   ]
  },
  {
   "cell_type": "code",
   "execution_count": 3,
   "metadata": {},
   "outputs": [
    {
     "name": "stdout",
     "output_type": "stream",
     "text": [
      "\n",
      "Profile sampling\n",
      "\n",
      "Outputs will be saved to /home/julia/data/gradients/results/\n",
      "\n",
      " The underlying Java code did not execute cleanly: \n",
      "<class 'nighresjava.JavaError'>\n"
     ]
    },
    {
     "ename": "JavaError",
     "evalue": "<super: <class 'JavaError'>, <JavaError object>>\n    Java stacktrace:\njava.lang.OutOfMemoryError: Java heap space\n\tat de.mpg.cbs.core.laminar.LaminarProfileSampling.execute(LaminarProfileSampling.java:93)\n",
     "output_type": "error",
     "traceback": [
      "\u001b[0;31m---------------------------------------------------------------------------\u001b[0m",
      "\u001b[0;31mJavaError\u001b[0m                                 Traceback (most recent call last)",
      "\u001b[0;32m<ipython-input-3-a41d8d55db36>\u001b[0m in \u001b[0;36m<module>\u001b[0;34m()\u001b[0m\n\u001b[1;32m      1\u001b[0m nighres.laminar.profile_sampling(levelsets, gradient1, save_data=True,overwrite=True,\n\u001b[0;32m----> 2\u001b[0;31m                                  output_dir=\"/home/julia/data/gradients/results/\" )\n\u001b[0m",
      "\u001b[0;32m~/workspace/nighres/nighres/laminar/profile_sampling.py\u001b[0m in \u001b[0;36mprofile_sampling\u001b[0;34m(profile_surface_image, intensity_image, save_data, overwrite, output_dir, file_name)\u001b[0m\n\u001b[1;32m     96\u001b[0m     \u001b[0;31m# execute class\u001b[0m\u001b[0;34m\u001b[0m\u001b[0;34m\u001b[0m\u001b[0;34m\u001b[0m\u001b[0m\n\u001b[1;32m     97\u001b[0m     \u001b[0;32mtry\u001b[0m\u001b[0;34m:\u001b[0m\u001b[0;34m\u001b[0m\u001b[0;34m\u001b[0m\u001b[0m\n\u001b[0;32m---> 98\u001b[0;31m         \u001b[0msampler\u001b[0m\u001b[0;34m.\u001b[0m\u001b[0mexecute\u001b[0m\u001b[0;34m(\u001b[0m\u001b[0;34m)\u001b[0m\u001b[0;34m\u001b[0m\u001b[0;34m\u001b[0m\u001b[0m\n\u001b[0m\u001b[1;32m     99\u001b[0m \u001b[0;34m\u001b[0m\u001b[0m\n\u001b[1;32m    100\u001b[0m     \u001b[0;32mexcept\u001b[0m\u001b[0;34m:\u001b[0m\u001b[0;34m\u001b[0m\u001b[0;34m\u001b[0m\u001b[0m\n",
      "\u001b[0;31mJavaError\u001b[0m: <super: <class 'JavaError'>, <JavaError object>>\n    Java stacktrace:\njava.lang.OutOfMemoryError: Java heap space\n\tat de.mpg.cbs.core.laminar.LaminarProfileSampling.execute(LaminarProfileSampling.java:93)\n"
     ]
    }
   ],
   "source": [
    "nighres.laminar.profile_sampling(levelsets, gradient1, save_data=True,overwrite=True,\n",
    "                                 output_dir=\"/home/julia/data/gradients/results/\" )"
   ]
  },
  {
   "cell_type": "code",
   "execution_count": 7,
   "metadata": {},
   "outputs": [
    {
     "name": "stdout",
     "output_type": "stream",
     "text": [
      "\n",
      "Levelset to Probabilities\n",
      "\n",
      "Outputs will be saved to /home/julia/data/gradients/atlas/layering_25um/\n",
      "voxel spread: 24.9999996275\n",
      "\n",
      "Saving /home/julia/data/gradients/atlas/layering_25um/mid_levelset_lowres_l2p-proba.nii.gz\n"
     ]
    },
    {
     "data": {
      "text/plain": [
       "{'result': <nibabel.nifti1.Nifti1Image at 0x7f0d48ef6320>}"
      ]
     },
     "execution_count": 7,
     "metadata": {},
     "output_type": "execute_result"
    }
   ],
   "source": [
    "nighres.surface.levelset_to_probability(\"/home/julia/data/gradients/atlas/layering_25um/mid_levelset_lowres.nii.gz\", save_data=True)"
   ]
  },
  {
   "cell_type": "code",
   "execution_count": 8,
   "metadata": {
    "collapsed": true
   },
   "outputs": [],
   "source": [
    "nb.save(nb.Nifti1Image(\n",
    "    nb.load(\"/home/julia/data/gradients/atlas/layering_25um/mid_levelset_lowres.nii.gz\").get_data(),\n",
    "    nb.load(\"/home/julia/data/gradients/results/gradient_0000.nii.gz\").affine, \n",
    "    nb.load(\"/home/julia/data/gradients/results/gradient_0000.nii.gz\").header),\n",
    "        \"/home/julia/data/gradients/atlas/layering_25um/mid_levelset_lowres_cphdr.nii.gz\")"
   ]
  },
  {
   "cell_type": "code",
   "execution_count": 3,
   "metadata": {},
   "outputs": [
    {
     "name": "stdout",
     "output_type": "stream",
     "text": [
      "\n",
      "Profile sampling\n",
      "\n",
      "Outputs will be saved to /home/julia/data/gradients/results/\n",
      "\n",
      "Saving /home/julia/data/gradients/results/gradient_0000_lps-data.nii.gz\n"
     ]
    },
    {
     "data": {
      "text/plain": [
       "{'result': <nibabel.nifti1.Nifti1Image at 0x7fae54784f60>}"
      ]
     },
     "execution_count": 3,
     "metadata": {},
     "output_type": "execute_result"
    }
   ],
   "source": [
    "nighres.laminar.profile_sampling(\"/home/julia/data/gradients/atlas/layering_25um/mid_levelset_lowres_cphdr.nii.gz\",\n",
    "                                 gradient1, save_data=True, overwrite=True,\n",
    "                                 output_dir=\"/home/julia/data/gradients/results/\" )"
   ]
  },
  {
   "cell_type": "markdown",
   "metadata": {
    "collapsed": true
   },
   "source": [
    "### Surface mesh mapping"
   ]
  },
  {
   "cell_type": "code",
   "execution_count": 3,
   "metadata": {},
   "outputs": [
    {
     "name": "stdout",
     "output_type": "stream",
     "text": [
      "\n",
      "Surface mesh mapping\n",
      "\n",
      "Outputs will be saved to /home/julia/data/gradients/results/\n"
     ]
    },
    {
     "name": "stderr",
     "output_type": "stream",
     "text": [
      "/home/julia/workspace/conda/anaconda3/lib/python3.6/site-packages/pandas/io/parsers.py:2138: FutureWarning: split() requires a non-empty pattern match.\n",
      "  yield pat.split(line.strip())\n",
      "/home/julia/workspace/conda/anaconda3/lib/python3.6/site-packages/pandas/io/parsers.py:2140: FutureWarning: split() requires a non-empty pattern match.\n",
      "  yield pat.split(line.strip())\n"
     ]
    }
   ],
   "source": [
    "x = nighres.surface.surface_mesh_mapping(\"/home/julia/data/gradients/results/gradient_0000_lps-data.nii.gz\", \n",
    "                                    \"/home/julia/data/gradients/atlas/brain_mask_25um_p2l-surf_l2m-mesh.vtk\", \n",
    "                                     save_data=True, overwrite=True)"
   ]
  },
  {
   "cell_type": "code",
   "execution_count": null,
   "metadata": {
    "collapsed": true
   },
   "outputs": [],
   "source": []
  }
 ],
 "metadata": {
  "kernelspec": {
   "display_name": "Python 3",
   "language": "python",
   "name": "python3"
  },
  "language_info": {
   "codemirror_mode": {
    "name": "ipython",
    "version": 3
   },
   "file_extension": ".py",
   "mimetype": "text/x-python",
   "name": "python",
   "nbconvert_exporter": "python",
   "pygments_lexer": "ipython3",
   "version": "3.6.8"
  }
 },
 "nbformat": 4,
 "nbformat_minor": 2
}
