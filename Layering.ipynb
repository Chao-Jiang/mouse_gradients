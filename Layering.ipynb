{
 "cells": [
  {
   "cell_type": "code",
   "execution_count": 1,
   "metadata": {},
   "outputs": [],
   "source": [
    "%matplotlib inline"
   ]
  },
  {
   "cell_type": "code",
   "execution_count": 2,
   "metadata": {},
   "outputs": [],
   "source": [
    "import nighres"
   ]
  },
  {
   "cell_type": "code",
   "execution_count": 4,
   "metadata": {},
   "outputs": [
    {
     "name": "stdout",
     "output_type": "stream",
     "text": [
      "\n",
      "Probability to Levelset\n",
      "\n",
      "Outputs will be saved to /home/julia/projects/gradients/atlas/cortex/\n",
      "\n",
      "Saving /home/julia/projects/gradients/atlas/cortex/cortex_mask_25um_v2_p2l-surf.nii.gz\n"
     ]
    },
    {
     "data": {
      "text/plain": [
       "{'result': <nibabel.nifti1.Nifti1Image at 0x7f1b19bd7470>}"
      ]
     },
     "execution_count": 4,
     "metadata": {},
     "output_type": "execute_result"
    }
   ],
   "source": [
    "nighres.surface.probability_to_levelset(\"/home/julia/projects/gradients/atlas/cortex/cortex_mask_25um_v2.nii.gz\",\n",
    "                                        save_data=True)"
   ]
  },
  {
   "cell_type": "code",
   "execution_count": 5,
   "metadata": {},
   "outputs": [
    {
     "name": "stdout",
     "output_type": "stream",
     "text": [
      "\n",
      "Probability to Levelset\n",
      "\n",
      "Outputs will be saved to /home/julia/projects/gradients/atlas/cortex/\n",
      "\n",
      "Saving /home/julia/projects/gradients/atlas/cortex/wm_fake_25um_v2_p2l-surf.nii.gz\n"
     ]
    },
    {
     "data": {
      "text/plain": [
       "{'result': <nibabel.nifti1.Nifti1Image at 0x7f1b19bd7160>}"
      ]
     },
     "execution_count": 5,
     "metadata": {},
     "output_type": "execute_result"
    }
   ],
   "source": [
    "nighres.surface.probability_to_levelset(\"/home/julia/projects/gradients/atlas/cortex/wm_fake_25um_v2.nii.gz\",\n",
    "                                        save_data=True)"
   ]
  },
  {
   "cell_type": "markdown",
   "metadata": {},
   "source": [
    "#### On the server"
   ]
  },
  {
   "cell_type": "code",
   "execution_count": null,
   "metadata": {},
   "outputs": [],
   "source": [
    "Volumetric layering with following changes in the code:\n",
    "    algo.setLayeringMethod(\"distance-preserving\")\n",
    "    algo.setCurvatureApproximationScale(5)\n",
    "    algo.setPresmoothCorticalSurfaces(True)"
   ]
  }
 ],
 "metadata": {
  "kernelspec": {
   "display_name": "Python 3",
   "language": "python",
   "name": "python3"
  },
  "language_info": {
   "codemirror_mode": {
    "name": "ipython",
    "version": 3
   },
   "file_extension": ".py",
   "mimetype": "text/x-python",
   "name": "python",
   "nbconvert_exporter": "python",
   "pygments_lexer": "ipython3",
   "version": "3.6.8"
  }
 },
 "nbformat": 4,
 "nbformat_minor": 2
}
