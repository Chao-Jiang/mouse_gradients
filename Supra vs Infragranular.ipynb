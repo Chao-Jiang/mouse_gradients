{
 "cells": [
  {
   "cell_type": "code",
   "execution_count": 1,
   "metadata": {
    "collapsed": true
   },
   "outputs": [],
   "source": [
    "%matplotlib inline"
   ]
  },
  {
   "cell_type": "code",
   "execution_count": 2,
   "metadata": {
    "collapsed": true
   },
   "outputs": [],
   "source": [
    "import nibabel as nb\n",
    "import numpy as np\n",
    "import matplotlib.pyplot as plt\n",
    "from scipy.stats import stats"
   ]
  },
  {
   "cell_type": "code",
   "execution_count": 3,
   "metadata": {
    "collapsed": true
   },
   "outputs": [],
   "source": [
    "sg = nb.load(\"/home/julia/data/gradients/atlas/allen_api/layers/supragranular_200.nii.gz\").get_data()\n",
    "ig = nb.load(\"/home/julia/data/gradients/atlas/allen_api/layers/infragranular_200.nii.gz\").get_data()\n",
    "gradients = nb.load(\"/home/julia/data/gradients/results/embedding_vol/embed.nii.gz\").get_data()[:,:,:,:6]\n",
    "pv = nb.load(\"/home/julia/data/gradients/atlas/interneurons/pv2allen.nii.gz\").get_data()\n",
    "sst = nb.load(\"/home/julia/data/gradients/atlas/interneurons/sst2allen.nii.gz\").get_data()\n",
    "vip = nb.load(\"/home/julia/data/gradients/atlas/interneurons/vip2allen.nii.gz\").get_data()\n",
    "pv_sst = nb.load(\"/home/julia/data/gradients/atlas/interneurons/pv_sst2allen.nii.gz\").get_data()"
   ]
  },
  {
   "cell_type": "markdown",
   "metadata": {},
   "source": [
    "### Checking distribution of gradients in supra- and infragranular layers"
   ]
  },
  {
   "cell_type": "code",
   "execution_count": 4,
   "metadata": {},
   "outputs": [
    {
     "data": {
      "image/png": "[encoded data removed]",
      "text/plain": [
       "<Figure size 720x720 with 6 Axes>"
      ]
     },
     "metadata": {},
     "output_type": "display_data"
    }
   ],
   "source": [
    "fig = plt.figure(figsize=(10,10))\n",
    "for g in range(6):\n",
    "    fig.add_subplot(3,2,g+1)\n",
    "    plt.hist(gradients[:,:,:,g][sg==1])\n",
    "    plt.hist(gradients[:,:,:,g][ig==1], alpha=0.5)"
   ]
  },
  {
   "cell_type": "markdown",
   "metadata": {},
   "source": [
    "Along the gradients, there doesn't seem to be a substantial difference between supra- and infragranular values. I.e. the gradients appear to run mostly orthogonal to the cortical depth dimension"
   ]
  },
  {
   "cell_type": "markdown",
   "metadata": {},
   "source": [
    "### Distribution of interneurons along gradients in supra- vs infragranular layers"
   ]
  },
  {
   "cell_type": "code",
   "execution_count": 26,
   "metadata": {},
   "outputs": [
    {
     "name": "stdout",
     "output_type": "stream",
     "text": [
      "Gradient 2, pv: SpearmanrResult(correlation=0.23417806766129351, pvalue=6.9319479517543238e-81)\n",
      "Gradient 2, pv_sst: SpearmanrResult(correlation=0.27917109311532934, pvalue=1.6005322852391082e-115)\n"
     ]
    }
   ],
   "source": [
    "names = [\"pv\", \"sst\", \"vip\", \"pv_sst\"]\n",
    "images = [pv, sst, vip, pv_sst]\n",
    "\n",
    "for g in range(6):\n",
    "    for i in range(len(images)):\n",
    "        r = stats.spearmanr(gradients[:,:,:,g][sg==1], images[i][sg==1])\n",
    "        if r[1]<0.05:\n",
    "            if r[0]>0.2:\n",
    "                print('Gradient %i, %s:' %(g, names[i]), r)"
   ]
  },
  {
   "cell_type": "code",
   "execution_count": 29,
   "metadata": {},
   "outputs": [
    {
     "name": "stdout",
     "output_type": "stream",
     "text": [
      "Gradient 0, vip: SpearmanrResult(correlation=0.27250423285228209, pvalue=1.5660220078549929e-135)\n",
      "Gradient 0, pv_sst: SpearmanrResult(correlation=0.20574450700192104, pvalue=7.9972476526090622e-77)\n",
      "Gradient 2, pv: SpearmanrResult(correlation=0.33070394805374675, pvalue=2.0509717516824387e-202)\n",
      "Gradient 2, pv_sst: SpearmanrResult(correlation=0.39678015848938142, pvalue=2.327730692596854e-298)\n",
      "Gradient 5, pv: SpearmanrResult(correlation=0.21435189685644732, pvalue=2.2334415407273742e-83)\n",
      "Gradient 5, pv_sst: SpearmanrResult(correlation=0.29850002099214928, pvalue=1.6824719442433575e-163)\n"
     ]
    }
   ],
   "source": [
    "names = [\"pv\", \"sst\", \"vip\", \"pv_sst\"]\n",
    "images = [pv, sst, vip, pv_sst]\n",
    "\n",
    "for g in range(6):\n",
    "    for i in range(len(images)):\n",
    "        r = stats.spearmanr(gradients[:,:,:,g][ig==1], images[i][ig==1])\n",
    "        if r[1]<0.05:\n",
    "            if r[0]>0.2:\n",
    "                print('Gradient %i, %s:' %(g, names[i]), r)"
   ]
  },
  {
   "cell_type": "markdown",
   "metadata": {
    "collapsed": true
   },
   "source": [
    "### In Layer 2/3"
   ]
  },
  {
   "cell_type": "code",
   "execution_count": 6,
   "metadata": {
    "collapsed": true
   },
   "outputs": [],
   "source": [
    "l23 = nb.load(\"/home/julia/data/gradients/atlas/allen_api/layers/l2_3_200.nii.gz\").get_data()\n"
   ]
  },
  {
   "cell_type": "code",
   "execution_count": 7,
   "metadata": {},
   "outputs": [
    {
     "name": "stdout",
     "output_type": "stream",
     "text": [
      "Gradient 0, vip: SpearmanrResult(correlation=0.35308530964918267, pvalue=7.0853160986048888e-113)\n",
      "Gradient 2, pv: SpearmanrResult(correlation=0.31336433291106963, pvalue=4.7249648417862069e-88)\n",
      "Gradient 2, pv_sst: SpearmanrResult(correlation=0.29741453350708902, pvalue=4.2724298621978674e-79)\n",
      "Gradient 4, sst: SpearmanrResult(correlation=0.22993201985726244, pvalue=3.8374187268430384e-47)\n"
     ]
    }
   ],
   "source": [
    "names = [\"pv\", \"sst\", \"vip\", \"pv_sst\"]\n",
    "images = [pv, sst, vip, pv_sst]\n",
    "\n",
    "for g in range(6):\n",
    "    for i in range(len(images)):\n",
    "        r = stats.spearmanr(gradients[:,:,:,g][l23==1], images[i][l23==1])\n",
    "        if r[1]<0.05:\n",
    "            if r[0]>0.2:\n",
    "                print('Gradient %i, %s:' %(g, names[i]), r)"
   ]
  },
  {
   "cell_type": "code",
   "execution_count": null,
   "metadata": {
    "collapsed": true
   },
   "outputs": [],
   "source": []
  }
 ],
 "metadata": {
  "kernelspec": {
   "display_name": "Python 3",
   "language": "python",
   "name": "python3"
  },
  "language_info": {
   "codemirror_mode": {
    "name": "ipython",
    "version": 3
   },
   "file_extension": ".py",
   "mimetype": "text/x-python",
   "name": "python",
   "nbconvert_exporter": "python",
   "pygments_lexer": "ipython3",
   "version": "3.6.10"
  }
 },
 "nbformat": 4,
 "nbformat_minor": 2
}
