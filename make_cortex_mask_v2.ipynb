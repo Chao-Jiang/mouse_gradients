{
 "cells": [
  {
   "cell_type": "code",
   "execution_count": 35,
   "metadata": {},
   "outputs": [],
   "source": [
    "%matplotlib inline"
   ]
  },
  {
   "cell_type": "code",
   "execution_count": 90,
   "metadata": {},
   "outputs": [],
   "source": [
    "import numpy as np\n",
    "import nibabel as nb\n",
    "import matplotlib.pyplot as plt\n",
    "import seaborn as sns\n",
    "from scipy import ndimage"
   ]
  },
  {
   "cell_type": "code",
   "execution_count": null,
   "metadata": {},
   "outputs": [],
   "source": [
    "# Making nice smooth cortex mask from the one of the previous notebook\n",
    "!fslmaths projects/gradients/atlas/cortex_mask_25um.nii.gz -s 0.2 -thr 0.4 -bin cortex_mask_25um_smooth.nii.gz"
   ]
  },
  {
   "cell_type": "code",
   "execution_count": null,
   "metadata": {},
   "outputs": [],
   "source": [
    "# Dilating this mask to create a fake white matter mask\n",
    "!fslmaths cortex_mask_25um_smooth.nii.gz -dilM -dilM cortex_mask_25um_smooth_dilM2.nii.gz"
   ]
  },
  {
   "cell_type": "code",
   "execution_count": 121,
   "metadata": {},
   "outputs": [],
   "source": [
    "# Improve the \"allmask\" from last notebook\n",
    "allmask = nb.load(\"/home/julia/projects/gradients/atlas/make_cortex/all_mask_25um.nii.gz\")\n",
    "atlas = nb.load(\"/home/julia/projects/gradients/atlas/ABI_atlas_25um.nii.gz\")"
   ]
  },
  {
   "cell_type": "code",
   "execution_count": 122,
   "metadata": {},
   "outputs": [],
   "source": [
    "allmask_new = allmask.get_data()\n",
    "new_labels = [61, 72, 73, 290, 301, 302]\n",
    "for l in new_labels: \n",
    "    allmask_new[np.where(atlas.get_data()==l)]=1"
   ]
  },
  {
   "cell_type": "code",
   "execution_count": 123,
   "metadata": {},
   "outputs": [],
   "source": [
    "nb.save(nb.Nifti1Image(allmask_new, allmask.affine, allmask.header), \n",
    "        \"/home/julia/projects/gradients/atlas/make_cortex/all_mask_25um_v2.nii.gz\")"
   ]
  },
  {
   "cell_type": "code",
   "execution_count": 124,
   "metadata": {},
   "outputs": [],
   "source": [
    "cortex = nb.load(\"/home/julia/projects/gradients/atlas/cortex_mask_25um_smooth.nii.gz\")\n",
    "cortex_dil = nb.load(\"/home/julia/projects/gradients/atlas/cortex_mask_25um_smooth_dilM2.nii.gz\")"
   ]
  },
  {
   "cell_type": "code",
   "execution_count": 125,
   "metadata": {},
   "outputs": [],
   "source": [
    "inside = allmask_new - cortex.get_data()\n",
    "inside[np.where(inside==-1)]=0"
   ]
  },
  {
   "cell_type": "code",
   "execution_count": 126,
   "metadata": {},
   "outputs": [],
   "source": [
    "nb.save(nb.Nifti1Image(inside, cortex.affine, cortex.header), \n",
    "        \"/home/julia/projects/gradients/atlas/make_cortex/inside_mask_25um_v2.nii.gz\")"
   ]
  },
  {
   "cell_type": "code",
   "execution_count": 127,
   "metadata": {},
   "outputs": [],
   "source": [
    "wm_fake = np.zeros(cortex.get_data().shape)\n",
    "wm_fake[np.where(inside>0)] = 1\n",
    "wm_fake[np.where(cortex.get_data()>0)] = 0\n",
    "wm_fake *= cortex_dil.get_data()"
   ]
  },
  {
   "cell_type": "code",
   "execution_count": 128,
   "metadata": {},
   "outputs": [],
   "source": [
    "nb.save(nb.Nifti1Image(wm_fake, cortex.affine, cortex.header), \n",
    "        \"/home/julia/projects/gradients/atlas/make_cortex/wm_fake_25um_v2.nii.gz\")"
   ]
  },
  {
   "cell_type": "code",
   "execution_count": null,
   "metadata": {},
   "outputs": [],
   "source": []
  }
 ],
 "metadata": {
  "kernelspec": {
   "display_name": "Python 3",
   "language": "python",
   "name": "python3"
  },
  "language_info": {
   "codemirror_mode": {
    "name": "ipython",
    "version": 3
   },
   "file_extension": ".py",
   "mimetype": "text/x-python",
   "name": "python",
   "nbconvert_exporter": "python",
   "pygments_lexer": "ipython3",
   "version": "3.6.8"
  }
 },
 "nbformat": 4,
 "nbformat_minor": 2
}
