{
 "cells": [
  {
   "cell_type": "code",
   "execution_count": 1,
   "metadata": {
    "collapsed": true
   },
   "outputs": [],
   "source": [
    "%matplotlib inline"
   ]
  },
  {
   "cell_type": "code",
   "execution_count": 2,
   "metadata": {
    "collapsed": true
   },
   "outputs": [],
   "source": [
    "import numpy as np\n",
    "import nibabel as nb\n",
    "import scipy.stats as stats\n",
    "import matplotlib.pyplot as plt"
   ]
  },
  {
   "cell_type": "code",
   "execution_count": 3,
   "metadata": {
    "collapsed": true
   },
   "outputs": [],
   "source": [
    "def jo2allen_vol(data):\n",
    "    data = np.swapaxes(np.swapaxes(data, 0,1), 1,2)\n",
    "    data = np.flip(np.flip(data,1),0)\n",
    "    return data"
   ]
  },
  {
   "cell_type": "markdown",
   "metadata": {},
   "source": [
    "### Load gradients and cell data"
   ]
  },
  {
   "cell_type": "code",
   "execution_count": 4,
   "metadata": {
    "collapsed": true
   },
   "outputs": [],
   "source": [
    "gradient = nb.load('/home/julia/data/gradients/results/gradient0000_highres.nii.gz').get_data()\n",
    "mask = nb.load('/home/julia/data/gradients/atlas/cortex/cortex_mask_25um.nii.gz').get_data()"
   ]
  },
  {
   "cell_type": "code",
   "execution_count": 5,
   "metadata": {
    "collapsed": true
   },
   "outputs": [],
   "source": [
    "template = nb.load('/home/julia/data/gradients/atlas/allen_api/template.nii.gz').get_data()"
   ]
  },
  {
   "cell_type": "code",
   "execution_count": 6,
   "metadata": {
    "collapsed": true
   },
   "outputs": [],
   "source": [
    "gradient = jo2allen_vol(gradient)\n",
    "mask = jo2allen_vol(mask)\n",
    "gradient[mask==0] = np.nan"
   ]
  },
  {
   "cell_type": "code",
   "execution_count": 7,
   "metadata": {
    "collapsed": true
   },
   "outputs": [],
   "source": [
    "x = np.load('/home/julia/data/gradients/atlas/epfl_cell_atlas/x2vol.npy')\n",
    "y = np.load('/home/julia/data/gradients/atlas/epfl_cell_atlas/y2vol.npy')\n",
    "z = np.load('/home/julia/data/gradients/atlas/epfl_cell_atlas/z2vol.npy')\n",
    "types = np.load('/home/julia/data/gradients/atlas/epfl_cell_atlas/types.npy')"
   ]
  },
  {
   "cell_type": "markdown",
   "metadata": {},
   "source": [
    "Types probably:\n",
    "0 - excitatory neurons;\n",
    "1 - inhibitory neurons;\n",
    "2 - oligodendrocytes;\n",
    "3 - astrocytes;\n",
    "4 - microglia;"
   ]
  },
  {
   "cell_type": "markdown",
   "metadata": {},
   "source": [
    "### Make a cell density map"
   ]
  },
  {
   "cell_type": "code",
   "execution_count": 8,
   "metadata": {},
   "outputs": [
    {
     "ename": "KeyboardInterrupt",
     "evalue": "",
     "output_type": "error",
     "traceback": [
      "\u001b[0;31m---------------------------------------------------------------------------\u001b[0m",
      "\u001b[0;31mKeyboardInterrupt\u001b[0m                         Traceback (most recent call last)",
      "\u001b[0;32m<ipython-input-8-cce09bfda4e3>\u001b[0m in \u001b[0;36m<module>\u001b[0;34m\u001b[0m\n\u001b[1;32m      3\u001b[0m     \u001b[0;32mif\u001b[0m \u001b[0mtypes\u001b[0m\u001b[0;34m[\u001b[0m\u001b[0mc\u001b[0m\u001b[0;34m]\u001b[0m\u001b[0;34m==\u001b[0m\u001b[0;36m0\u001b[0m\u001b[0;34m:\u001b[0m\u001b[0;34m\u001b[0m\u001b[0;34m\u001b[0m\u001b[0m\n\u001b[1;32m      4\u001b[0m         \u001b[0mvoxel\u001b[0m \u001b[0;34m=\u001b[0m \u001b[0;34m(\u001b[0m\u001b[0mint\u001b[0m\u001b[0;34m(\u001b[0m\u001b[0mnp\u001b[0m\u001b[0;34m.\u001b[0m\u001b[0mfloor\u001b[0m\u001b[0;34m(\u001b[0m\u001b[0mx\u001b[0m\u001b[0;34m[\u001b[0m\u001b[0mc\u001b[0m\u001b[0;34m]\u001b[0m\u001b[0;34m)\u001b[0m\u001b[0;34m)\u001b[0m\u001b[0;34m,\u001b[0m \u001b[0mint\u001b[0m\u001b[0;34m(\u001b[0m\u001b[0mnp\u001b[0m\u001b[0;34m.\u001b[0m\u001b[0mfloor\u001b[0m\u001b[0;34m(\u001b[0m\u001b[0my\u001b[0m\u001b[0;34m[\u001b[0m\u001b[0mc\u001b[0m\u001b[0;34m]\u001b[0m\u001b[0;34m)\u001b[0m\u001b[0;34m)\u001b[0m\u001b[0;34m,\u001b[0m \u001b[0mint\u001b[0m\u001b[0;34m(\u001b[0m\u001b[0mnp\u001b[0m\u001b[0;34m.\u001b[0m\u001b[0mfloor\u001b[0m\u001b[0;34m(\u001b[0m\u001b[0mz\u001b[0m\u001b[0;34m[\u001b[0m\u001b[0mc\u001b[0m\u001b[0;34m]\u001b[0m\u001b[0;34m)\u001b[0m\u001b[0;34m)\u001b[0m\u001b[0;34m)\u001b[0m\u001b[0;34m\u001b[0m\u001b[0;34m\u001b[0m\u001b[0m\n\u001b[0;32m----> 5\u001b[0;31m         \u001b[0;32mif\u001b[0m \u001b[0;32mnot\u001b[0m \u001b[0mnp\u001b[0m\u001b[0;34m.\u001b[0m\u001b[0misnan\u001b[0m\u001b[0;34m(\u001b[0m\u001b[0mgradient\u001b[0m\u001b[0;34m[\u001b[0m\u001b[0mvoxel\u001b[0m\u001b[0;34m]\u001b[0m\u001b[0;34m)\u001b[0m\u001b[0;34m:\u001b[0m\u001b[0;34m\u001b[0m\u001b[0;34m\u001b[0m\u001b[0m\n\u001b[0m\u001b[1;32m      6\u001b[0m             \u001b[0mcell_density\u001b[0m\u001b[0;34m[\u001b[0m\u001b[0mvoxel\u001b[0m\u001b[0;34m]\u001b[0m \u001b[0;34m+=\u001b[0m  \u001b[0;36m1\u001b[0m\u001b[0;34m\u001b[0m\u001b[0;34m\u001b[0m\u001b[0m\n",
      "\u001b[0;31mKeyboardInterrupt\u001b[0m: "
     ]
    }
   ],
   "source": [
    "cell_density = np.zeros_like(gradient)\n",
    "for c in range(len(x)):\n",
    "    if types[c]==0:\n",
    "        voxel = (int(np.floor(x[c])), int(np.floor(y[c])), int(np.floor(z[c])))\n",
    "        if not np.isnan(gradient[voxel]):\n",
    "            cell_density[voxel] +=  1"
   ]
  },
  {
   "cell_type": "code",
   "execution_count": null,
   "metadata": {
    "collapsed": true
   },
   "outputs": [],
   "source": [
    "nb.save(nb.Nifti1Image())"
   ]
  },
  {
   "cell_type": "markdown",
   "metadata": {},
   "source": [
    "### Smooth cell density map with same kernel as gradient"
   ]
  },
  {
   "cell_type": "code",
   "execution_count": null,
   "metadata": {
    "collapsed": true
   },
   "outputs": [],
   "source": [
    "cell_density[mask==0]=np.nan"
   ]
  },
  {
   "cell_type": "code",
   "execution_count": null,
   "metadata": {
    "collapsed": true
   },
   "outputs": [],
   "source": [
    "x=250\n",
    "y=100\n",
    "z=150\n",
    "vmin, vmax = np.nanmin(cell_density), np.nanmax(cell_density)\n",
    "\n",
    "fig = plt.figure(figsize=(15,10))\n",
    "\n",
    "fig.add_subplot(2,3,1)\n",
    "plt.imshow(template[x,:,:],  cmap='Greys', aspect='equal');\n",
    "plt.imshow(cell_density[x,:,:],  cmap=\"cubehelix\", aspect='equal');\n",
    "plt.axis('off');\n",
    "\n",
    "fig.add_subplot(2,3,2)\n",
    "plt.imshow(template[:,y,:],  cmap='Greys', aspect='equal');\n",
    "plt.imshow(cell_density[:,y,:],  cmap=\"cubehelix\", aspect='equal');\n",
    "plt.axis('off');\n",
    "\n",
    "fig.add_subplot(2,3,3)\n",
    "plt.imshow(template[:,:,z].T,  cmap='Greys', aspect='equal');\n",
    "plt.imshow(cell_density[:,:,z].T,  cmap=\"cubehelix\", aspect='equal');\n",
    "plt.axis('off');\n",
    "\n",
    "fig.add_subplot(2,3,4)\n",
    "plt.imshow(template[x,:,:],  cmap='Greys', aspect='equal');\n",
    "plt.imshow(gradient[x,:,:],  cmap=\"cubehelix\", aspect='equal');\n",
    "plt.axis('off');\n",
    "\n",
    "fig.add_subplot(2,3,5)\n",
    "plt.imshow(template[:,y,:],  cmap='Greys', aspect='equal');\n",
    "plt.imshow(gradient[:,y,:],  cmap=\"cubehelix\", aspect='equal');\n",
    "plt.axis('off');\n",
    "\n",
    "fig.add_subplot(2,3,6)\n",
    "plt.imshow(template[:,:,z].T,  cmap='Greys', aspect='equal');\n",
    "plt.imshow(gradient[:,:,z].T,  cmap=\"cubehelix\", aspect='equal');\n",
    "plt.axis('off');\n",
    "\n",
    "plt.tight_layout()"
   ]
  },
  {
   "cell_type": "code",
   "execution_count": null,
   "metadata": {
    "collapsed": true
   },
   "outputs": [],
   "source": [
    "stats.spearmanr(cell_density[mask==1], gradient[mask==1])"
   ]
  },
  {
   "cell_type": "code",
   "execution_count": null,
   "metadata": {
    "collapsed": true
   },
   "outputs": [],
   "source": []
  }
 ],
 "metadata": {
  "kernelspec": {
   "display_name": "Python 3",
   "language": "python",
   "name": "python3"
  },
  "language_info": {
   "codemirror_mode": {
    "name": "ipython",
    "version": 3
   },
   "file_extension": ".py",
   "mimetype": "text/x-python",
   "name": "python",
   "nbconvert_exporter": "python",
   "pygments_lexer": "ipython3",
   "version": "3.6.8"
  }
 },
 "nbformat": 4,
 "nbformat_minor": 2
}
