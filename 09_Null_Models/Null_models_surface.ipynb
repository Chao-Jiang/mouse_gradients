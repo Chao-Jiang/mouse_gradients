{
 "cells": [
  {
   "cell_type": "code",
   "execution_count": 1,
   "metadata": {
    "collapsed": true
   },
   "outputs": [],
   "source": [
    "%matplotlib inline"
   ]
  },
  {
   "cell_type": "code",
   "execution_count": 2,
   "metadata": {
    "collapsed": true
   },
   "outputs": [],
   "source": [
    "import numpy as np\n",
    "import nibabel as nb\n",
    "import matplotlib.pyplot as plt\n",
    "import seaborn as sns\n",
    "from nighres.io import io_mesh\n",
    "import gdist\n",
    "from brainsmash.mapgen.base import Base\n",
    "from brainsmash.mapgen.sampled import Sampled\n",
    "from brainsmash.mapgen.memmap import txt2memmap"
   ]
  },
  {
   "cell_type": "code",
   "execution_count": 3,
   "metadata": {
    "collapsed": true
   },
   "outputs": [],
   "source": [
    "data_dir = '/home/julia/data/gradients/'"
   ]
  },
  {
   "cell_type": "markdown",
   "metadata": {},
   "source": [
    "### Create Geodesic distance map inside cortex mask"
   ]
  },
  {
   "cell_type": "code",
   "execution_count": 16,
   "metadata": {
    "collapsed": true
   },
   "outputs": [],
   "source": [
    "mesh = io_mesh.load_mesh(data_dir+'results/embedding/embed_sampled_mesh.vtk')\n",
    "cortex = np.where(mesh['data'][:,0]!=0)[0]\n",
    "np.save(data_dir+'results/null_models/surface/cortex_mask.npy', cortex)\n",
    "np.save('/home/julia/data/gradients/results/null_models/surface/points.npy', mesh['points'])\n",
    "np.save('/home/julia/data/gradients/results/null_models/surface/faces.npy', mesh['faces'])"
   ]
  },
  {
   "cell_type": "code",
   "execution_count": 6,
   "metadata": {},
   "outputs": [],
   "source": [
    "cortex = np.load(data_dir+'results/null_models/surface/cortex_mask.npy')\n",
    "points = np.load(data_dir+'results/null_models/surface/points.npy')\n",
    "faces = np.load(data_dir+'results/null_models/surface/faces.npy')"
   ]
  },
  {
   "cell_type": "code",
   "execution_count": 7,
   "metadata": {},
   "outputs": [],
   "source": [
    "dist_matrix = np.zeros((500, cortex.shape[0]))"
   ]
  },
  {
   "cell_type": "code",
   "execution_count": null,
   "metadata": {},
   "outputs": [],
   "source": [
    "for c in range(500):\n",
    "    dist = gdist.compute_gdist(np.array(points, dtype=np.float64), \n",
    "                               np.array(faces, dtype=np.int32), \n",
    "                               source_indices=np.array([cortex[c+300]], dtype=np.int32),\n",
    "                               target_indices=np.array(cortex, dtype=np.int32))\n",
    "    dist[dist==np.inf] = 0\n",
    "    dist_matrix[c,:] = dist"
   ]
  },
  {
   "cell_type": "code",
   "execution_count": null,
   "metadata": {
    "collapsed": true
   },
   "outputs": [],
   "source": [
    "np.savetxt(data_dir + 'results/null_models/surface/cortex_geodesic_300_799.txt', dist_matrix)"
   ]
  },
  {
   "cell_type": "code",
   "execution_count": null,
   "metadata": {
    "collapsed": true
   },
   "outputs": [],
   "source": []
  },
  {
   "cell_type": "code",
   "execution_count": null,
   "metadata": {
    "collapsed": true
   },
   "outputs": [],
   "source": []
  },
  {
   "cell_type": "code",
   "execution_count": null,
   "metadata": {
    "collapsed": true
   },
   "outputs": [],
   "source": []
  },
  {
   "cell_type": "code",
   "execution_count": null,
   "metadata": {
    "collapsed": true
   },
   "outputs": [],
   "source": [
    "dist = gdist.local_gdist_matrix(np.array(mesh['points'], dtype=np.float64), \n",
    "                                np.array(mesh['faces'], dtype=np.int32))"
   ]
  },
  {
   "cell_type": "code",
   "execution_count": null,
   "metadata": {
    "collapsed": true
   },
   "outputs": [],
   "source": [
    "## Construct full matrix\n",
    "dist_full = np.zeros(shape=(mesh['points'].shape[0], mesh['points'].shape[0]))\n",
    "dist_full[np.triu_indices(mesh['points'].shape[0], k=1)] = dist\n",
    "dist_full += dist_full.T\n",
    "# Write to disk\n",
    "np.savetxt(data_dir + 'results/null_models/surface/cortex_geodesic.txt', dist_full)"
   ]
  },
  {
   "cell_type": "code",
   "execution_count": null,
   "metadata": {
    "collapsed": true
   },
   "outputs": [],
   "source": [
    "output_files = txt2memmap(data_dir+\"results/null_models/cortex_geodesic.txt\", \n",
    "                          data_dir+\"results/null_models\", \n",
    "                          maskfile=None, delimiter=' ')"
   ]
  }
 ],
 "metadata": {
  "kernelspec": {
   "display_name": "Python 3",
   "language": "python",
   "name": "python3"
  },
  "language_info": {
   "codemirror_mode": {
    "name": "ipython",
    "version": 3
   },
   "file_extension": ".py",
   "mimetype": "text/x-python",
   "name": "python",
   "nbconvert_exporter": "python",
   "pygments_lexer": "ipython3",
   "version": "3.6.10"
  }
 },
 "nbformat": 4,
 "nbformat_minor": 2
}
