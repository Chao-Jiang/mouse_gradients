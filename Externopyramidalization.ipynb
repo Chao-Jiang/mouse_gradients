{
 "cells": [
  {
   "cell_type": "code",
   "execution_count": 1,
   "metadata": {
    "collapsed": true
   },
   "outputs": [],
   "source": [
    "%matplotlib inline"
   ]
  },
  {
   "cell_type": "code",
   "execution_count": 2,
   "metadata": {
    "collapsed": true
   },
   "outputs": [],
   "source": [
    "import numpy as np\n",
    "import nibabel as nb\n",
    "import numpy as np\n",
    "import matplotlib.pyplot as plt\n",
    "import pandas as pd\n",
    "from nilearn.input_data import NiftiMasker\n",
    "from scipy.stats import stats"
   ]
  },
  {
   "cell_type": "code",
   "execution_count": 3,
   "metadata": {
    "collapsed": true
   },
   "outputs": [],
   "source": [
    "def sigmoid(energy):\n",
    "    X = (energy - np.nanmean(energy)) / np.nanstd(energy)\n",
    "    sig = 1 / (1 + np.exp(-X))\n",
    "    return sig"
   ]
  },
  {
   "cell_type": "code",
   "execution_count": 4,
   "metadata": {
    "collapsed": true
   },
   "outputs": [],
   "source": [
    "df = pd.read_csv(\"/home/julia/data/gradients/genes/gene_list_full.csv\")\n",
    "df = df[df['acronym']!=\"FALSE\"]\n",
    "df = df[np.isnan(df['entrez'])==False]\n",
    "df = df.reset_index(drop=True)"
   ]
  },
  {
   "cell_type": "code",
   "execution_count": 5,
   "metadata": {
    "collapsed": true
   },
   "outputs": [],
   "source": [
    "df_energy = pd.read_csv('/home/julia/data/gradients/genes/energy.csv', index_col=0)"
   ]
  },
  {
   "cell_type": "code",
   "execution_count": 6,
   "metadata": {
    "collapsed": true
   },
   "outputs": [],
   "source": [
    "mod = []\n",
    "for a in df['acronym']:\n",
    "    if ('Nef' in a):\n",
    "        mod.append(a)\n",
    "    elif  ('Pvalb' in a):\n",
    "        mod.append(a)"
   ]
  },
  {
   "cell_type": "code",
   "execution_count": 7,
   "metadata": {},
   "outputs": [
    {
     "data": {
      "text/plain": [
       "['Nefm', 'Nefh', 'Pvalb', 'Nefl']"
      ]
     },
     "execution_count": 7,
     "metadata": {},
     "output_type": "execute_result"
    }
   ],
   "source": [
    "mod"
   ]
  },
  {
   "cell_type": "code",
   "execution_count": 8,
   "metadata": {
    "collapsed": true
   },
   "outputs": [],
   "source": [
    "mask_img = nb.load('/home/julia/data/gradients/atlas/allen_api/cortex_mask_tight_200um.nii.gz')\n",
    "mask = mask_img.get_data()\n",
    "aff = mask_img.affine\n",
    "hdr = mask_img.header"
   ]
  },
  {
   "cell_type": "code",
   "execution_count": 9,
   "metadata": {
    "collapsed": true
   },
   "outputs": [],
   "source": [
    "cortex = np.where(mask==1)[0].shape[0]"
   ]
  },
  {
   "cell_type": "code",
   "execution_count": 10,
   "metadata": {
    "collapsed": true
   },
   "outputs": [],
   "source": [
    "masker = NiftiMasker(mask_img=mask_img, standardize=False, smoothing_fwhm=0.45)"
   ]
  },
  {
   "cell_type": "code",
   "execution_count": 12,
   "metadata": {
    "collapsed": true
   },
   "outputs": [],
   "source": [
    "energy = np.zeros((cortex, len(mod)))\n",
    "\n",
    "for a in range(len(mod)): \n",
    "    idcs = df.loc[df['acronym']==mod[a], 'id'].values\n",
    "    \n",
    "    for i in idcs:\n",
    "        gene = np.zeros(mask.shape)\n",
    "        gene += nb.load('/home/julia/data/gradients/genes/energy/%s/energy.nii.gz'%i).get_data()\n",
    "        #gene = sigmoid(gene)\n",
    "\n",
    "    gene = gene / len(idcs) \n",
    "    energy[:,a] = gene[mask==1]\n",
    "    energy[:,a][energy[:,a]==-1]=np.nan\n",
    "    #masker.fit_transform(nb.Nifti1Image(gene, aff, hdr))"
   ]
  },
  {
   "cell_type": "code",
   "execution_count": 25,
   "metadata": {},
   "outputs": [
    {
     "data": {
      "text/plain": [
       "['Nefm', 'Nefh', 'Pvalb', 'Nefl']"
      ]
     },
     "execution_count": 25,
     "metadata": {},
     "output_type": "execute_result"
    }
   ],
   "source": [
    "mod"
   ]
  },
  {
   "cell_type": "code",
   "execution_count": 32,
   "metadata": {},
   "outputs": [
    {
     "data": {
      "image/png": "[encoded data removed]",
      "text/plain": [
       "<Figure size 720x720 with 4 Axes>"
      ]
     },
     "metadata": {},
     "output_type": "display_data"
    }
   ],
   "source": [
    "fig = plt.figure(figsize=(10,10))\n",
    "for e in range(len(mod)):\n",
    "    energy_vol = np.zeros_like(mask)\n",
    "    energy_vol[mask==1] = energy[:,e]\n",
    "    fig.add_subplot(2,2,e+1)\n",
    "    plt.imshow(energy_vol[45,:,:])\n",
    "    plt.title(mod[e])"
   ]
  },
  {
   "cell_type": "code",
   "execution_count": 34,
   "metadata": {},
   "outputs": [
    {
     "data": {
      "text/plain": [
       "array([868])"
      ]
     },
     "execution_count": 34,
     "metadata": {},
     "output_type": "execute_result"
    }
   ],
   "source": [
    "df.loc[df['acronym']=='Pvalb', 'id'].values"
   ]
  },
  {
   "cell_type": "code",
   "execution_count": null,
   "metadata": {
    "collapsed": true
   },
   "outputs": [],
   "source": []
  }
 ],
 "metadata": {
  "kernelspec": {
   "display_name": "Python 3",
   "language": "python",
   "name": "python3"
  },
  "language_info": {
   "codemirror_mode": {
    "name": "ipython",
    "version": 3
   },
   "file_extension": ".py",
   "mimetype": "text/x-python",
   "name": "python",
   "nbconvert_exporter": "python",
   "pygments_lexer": "ipython3",
   "version": "3.6.10"
  }
 },
 "nbformat": 4,
 "nbformat_minor": 2
}
