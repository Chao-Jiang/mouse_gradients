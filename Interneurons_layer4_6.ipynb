{
 "cells": [
  {
   "cell_type": "code",
   "execution_count": 1,
   "metadata": {
    "collapsed": true
   },
   "outputs": [],
   "source": [
    "%matplotlib inline"
   ]
  },
  {
   "cell_type": "code",
   "execution_count": 28,
   "metadata": {
    "collapsed": true
   },
   "outputs": [],
   "source": [
    "import pandas as pd\n",
    "import numpy as np\n",
    "from scipy.stats import stats\n",
    "from sklearn.preprocessing import StandardScaler, MinMaxScaler\n",
    "from sklearn.decomposition import PCA\n",
    "import matplotlib.pyplot as plt\n",
    "import seaborn as sns\n",
    "import nibabel as nb\n",
    "from allensdk.core.mouse_connectivity_cache import MouseConnectivityCache\n",
    "import re"
   ]
  },
  {
   "cell_type": "code",
   "execution_count": 3,
   "metadata": {
    "collapsed": true
   },
   "outputs": [],
   "source": [
    "df_kim = pd.read_csv(\"/home/julia/workspace/rodent_gradients/interneurons.csv\", header=1)"
   ]
  },
  {
   "cell_type": "code",
   "execution_count": 4,
   "metadata": {
    "collapsed": true
   },
   "outputs": [],
   "source": [
    "mcc = MouseConnectivityCache(manifest_file=\n",
    "                             '/home/julia/data/gradients/atlas/allen_api/mouse_connectivity_manifest.json')\n",
    "structure_tree = mcc.get_structure_tree()\n",
    "iso_structs = structure_tree.descendants([315])[0]"
   ]
  },
  {
   "cell_type": "markdown",
   "metadata": {},
   "source": [
    "### Make a dataframe with only the layer 4 to 6 structures"
   ]
  },
  {
   "cell_type": "code",
   "execution_count": 6,
   "metadata": {},
   "outputs": [],
   "source": [
    "l4_6 = []\n",
    "for i in range(len(iso_structs)):\n",
    "    if 'layer 4' in iso_structs[i]['name'].lower():\n",
    "        l4_6.append(iso_structs[i])\n",
    "    elif 'layer 5' in iso_structs[i]['name'].lower():\n",
    "        l4_6.append(iso_structs[i])\n",
    "    elif 'layer 6a' in iso_structs[i]['name'].lower():\n",
    "        l4_6.append(iso_structs[i])\n",
    "    elif 'layer 6b' in iso_structs[i]['name'].lower():\n",
    "        l4_6.append(iso_structs[i])\n",
    "df4_6 = pd.DataFrame()\n",
    "for r in l4_6:\n",
    "    df4_6 = df4_6.append(df_kim.loc[df_kim['ROI'] == r['acronym']], ignore_index=True)\n",
    "    \n",
    "df4_6['id']=np.nan\n",
    "for r in l4_6:\n",
    "    df4_6.loc[df4_6['ROI']==r['acronym'],'id'] = r['id']"
   ]
  },
  {
   "cell_type": "code",
   "execution_count": 7,
   "metadata": {
    "collapsed": true
   },
   "outputs": [],
   "source": [
    "df4_6['g0'] = np.nan\n",
    "df4_6['g1'] = np.nan\n",
    "df4_6['g2'] = np.nan\n",
    "df4_6['g3'] = np.nan\n",
    "df4_6['g4'] = np.nan\n",
    "df4_6['g5'] = np.nan"
   ]
  },
  {
   "cell_type": "code",
   "execution_count": 9,
   "metadata": {
    "collapsed": true
   },
   "outputs": [],
   "source": [
    "img = nb.load(\"/home/julia/data/gradients/atlas/allen_api/annotation/annotation_200um.nii.gz\")\n",
    "annot = img.get_data()\n",
    "gradients = nb.load('/home/julia/data/gradients/results/embedding_vol/embed.nii.gz').get_data()"
   ]
  },
  {
   "cell_type": "code",
   "execution_count": 10,
   "metadata": {},
   "outputs": [
    {
     "name": "stderr",
     "output_type": "stream",
     "text": [
      "/home/julia/workspace/conda/anaconda3/lib/python3.6/site-packages/ipykernel_launcher.py:3: RuntimeWarning: Mean of empty slice\n",
      "  This is separate from the ipykernel package so we can avoid doing imports until\n"
     ]
    }
   ],
   "source": [
    "for idx in df4_6['id']:\n",
    "    for g in range(6):\n",
    "        df4_6.loc[df4_6['id']==idx, 'g%s' %str(g)] = np.nanmean(gradients[:,:,:,g][annot==idx])"
   ]
  },
  {
   "cell_type": "code",
   "execution_count": 11,
   "metadata": {
    "collapsed": true
   },
   "outputs": [],
   "source": [
    "df4_6 = df4_6.dropna(axis=0)\n",
    "df4_6 = df4_6.drop(columns=['Full name', 'structureOrder', 'standard deviation', 'standard deviation.1',\n",
    "                           'standard deviation.2', 'standard deviation.3', 'standard deviation.4', \n",
    "                            'standard deviation.5', 'standard deviation.6', 'Average.3', 'Average.4',\n",
    "                           'Average.5', 'Average.6'])"
   ]
  },
  {
   "cell_type": "code",
   "execution_count": 13,
   "metadata": {
    "collapsed": true
   },
   "outputs": [],
   "source": [
    "df4_6 = df4_6.rename(columns={\"Average\": \"PV avg\", \"Average.1\": \"SST avg\",  \"Average.2\": \"VIP avg\"})"
   ]
  },
  {
   "cell_type": "code",
   "execution_count": 14,
   "metadata": {},
   "outputs": [],
   "source": [
    "for a in df4_6[\"ROI\"]:\n",
    "    df4_6.loc[df4_6[\"ROI\"]==a, \"PV avg\"] = int(df4_6[df4_6[\"ROI\"]==a]['PV avg'].values[0].replace(u'\\xa0', u''))\n",
    "    df4_6.loc[df4_6[\"ROI\"]==a, \"SST avg\"] = int(df4_6[df4_6[\"ROI\"]==a]['SST avg'].values[0].replace(u'\\xa0', u''))\n",
    "    df4_6.loc[df4_6[\"ROI\"]==a, \"VIP avg\"] = int(df4_6[df4_6[\"ROI\"]==a]['VIP avg'].values[0].replace(u'\\xa0', u''))"
   ]
  },
  {
   "cell_type": "code",
   "execution_count": 40,
   "metadata": {},
   "outputs": [
    {
     "name": "stdout",
     "output_type": "stream",
     "text": [
      "Gradient 1, VIP avg: SpearmanrResult(correlation=-0.31793528943089855, pvalue=0.0018989882594544632)\n",
      "Gradient 2, PV avg: SpearmanrResult(correlation=0.5093235354777379, pvalue=1.8516418645749278e-07)\n",
      "Gradient 2, SST avg: SpearmanrResult(correlation=0.36086658112261638, pvalue=0.00038009356425476354)\n",
      "Gradient 2, VIP avg: SpearmanrResult(correlation=0.35502040391012046, pvalue=0.00047966356473578479)\n"
     ]
    }
   ],
   "source": [
    "for g in range(6):\n",
    "    for c in ['PV avg', 'SST avg', 'VIP avg']:\n",
    "        r = stats.spearmanr(df4_6['g%i' %g], df4_6[c])\n",
    "        if r[1]<0.005:\n",
    "            print('Gradient %i, %s:' %(g,c), r)"
   ]
  },
  {
   "cell_type": "code",
   "execution_count": 18,
   "metadata": {},
   "outputs": [
    {
     "name": "stdout",
     "output_type": "stream",
     "text": [
      "Gradient 0: SpearmanrResult(correlation=0.31613500044761417, pvalue=0.0020215824910983209)\n",
      "Gradient 2: SpearmanrResult(correlation=0.31391184984035087, pvalue=0.0021828037090547751)\n",
      "Gradient 4: SpearmanrResult(correlation=-0.61197815642624798, pvalue=7.1582043503227355e-11)\n"
     ]
    }
   ],
   "source": [
    "for g in range(6):\n",
    "    r = stats.spearmanr(df4_6['g%i' %g], df4_6['PV avg'] / (df4_6['PV avg']+df4_6['SST avg']))\n",
    "    if r[1]<0.005:\n",
    "        print('Gradient %i:' %(g), r)"
   ]
  },
  {
   "cell_type": "markdown",
   "metadata": {},
   "source": [
    "### Plotting"
   ]
  },
  {
   "cell_type": "code",
   "execution_count": 32,
   "metadata": {
    "collapsed": true
   },
   "outputs": [],
   "source": [
    "df_plotting = pd.read_csv('/home/julia/workspace/rodent_gradients/finest_regions.csv')"
   ]
  },
  {
   "cell_type": "code",
   "execution_count": 33,
   "metadata": {
    "collapsed": true
   },
   "outputs": [],
   "source": [
    "df4_6['cluster'] = np.nan"
   ]
  },
  {
   "cell_type": "code",
   "execution_count": 34,
   "metadata": {
    "collapsed": true
   },
   "outputs": [],
   "source": [
    "for a in df4_6[\"ROI\"]:\n",
    "    df4_6.loc[df4_6['ROI']==a, 'cluster'] = df_plotting.loc[df_plotting['acronym']==re.split(r'(\\d+)', a)[0], \n",
    "                                                            'cluster'].values[0]"
   ]
  },
  {
   "cell_type": "code",
   "execution_count": 37,
   "metadata": {
    "collapsed": true
   },
   "outputs": [],
   "source": [
    "df4_6.loc[df4_6['ROI']=='MOp5', 'cluster'] = 'motor'\n",
    "df4_6.loc[df4_6['ROI']=='MOs5', 'cluster'] = 'motor'\n",
    "df4_6.loc[df4_6['ROI']=='MOp6a', 'cluster'] = 'motor'\n",
    "df4_6.loc[df4_6['ROI']=='MOs6a', 'cluster'] = 'motor'\n",
    "df4_6.loc[df4_6['cluster']=='somatomotor', 'cluster'] = 'somatosensory'"
   ]
  },
  {
   "cell_type": "code",
   "execution_count": 39,
   "metadata": {},
   "outputs": [
    {
     "data": {
      "image/png": "[encoded data removed]",
      "text/plain": [
       "<Figure size 360x360 with 1 Axes>"
      ]
     },
     "metadata": {},
     "output_type": "display_data"
    }
   ],
   "source": [
    "clusters = ['motor', 'somatosensory', 'prefrontal','lateral', 'medial', 'visual', 'auditory']\n",
    "colors = ['darkgreen', 'tab:orange', 'tab:red', 'gold', 'darkblue','cornflowerblue','slateblue']\n",
    "sns.set_context('talk')\n",
    "fig = plt.figure(figsize=(5,5))\n",
    "\n",
    "pv_norm = np.mean(df4_6['PV avg'])\n",
    "sst_norm = np.mean(df4_6['SST avg'])\n",
    "\n",
    "for c in range(len(clusters)):\n",
    "    regions = list(df4_6.loc[df4_6['cluster']==clusters[c], \"ROI\"])\n",
    "    for r in regions:\n",
    "        plt.scatter(df4_6.loc[df4_6['ROI']==r, 'PV avg'].values[0] / pv_norm, \n",
    "                    df4_6.loc[df4_6['ROI']==r, 'SST avg'].values[0] / sst_norm, \n",
    "                    color=colors[c], label=clusters[c])\n",
    "plt.xlabel('PV norm L4_6')\n",
    "plt.ylabel('SST norm L4_6')\n",
    "plt.tight_layout()\n",
    "sns.despine()"
   ]
  },
  {
   "cell_type": "code",
   "execution_count": null,
   "metadata": {
    "collapsed": true
   },
   "outputs": [],
   "source": []
  }
 ],
 "metadata": {
  "kernelspec": {
   "display_name": "Python 3",
   "language": "python",
   "name": "python3"
  },
  "language_info": {
   "codemirror_mode": {
    "name": "ipython",
    "version": 3
   },
   "file_extension": ".py",
   "mimetype": "text/x-python",
   "name": "python",
   "nbconvert_exporter": "python",
   "pygments_lexer": "ipython3",
   "version": "3.6.10"
  }
 },
 "nbformat": 4,
 "nbformat_minor": 2
}
