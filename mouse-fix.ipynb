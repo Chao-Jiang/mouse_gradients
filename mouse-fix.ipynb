{
 "cells": [
  {
   "cell_type": "code",
   "execution_count": 2,
   "metadata": {
    "collapsed": true
   },
   "outputs": [],
   "source": [
    "import nighres"
   ]
  },
  {
   "cell_type": "code",
   "execution_count": 3,
   "metadata": {
    "collapsed": true
   },
   "outputs": [],
   "source": [
    "wm='/home/julia/Downloads/three_levels_lowres_wm_region.nii.gz'\n",
    "gm='/home/julia/Downloads/three_levels_lowres_wmgm_region.nii.gz'"
   ]
  },
  {
   "cell_type": "code",
   "execution_count": 4,
   "metadata": {},
   "outputs": [
    {
     "name": "stdout",
     "output_type": "stream",
     "text": [
      "\n",
      "Probability to Levelset\n",
      "\n",
      "Outputs will be saved to /home/julia/Downloads/\n",
      "\n",
      "Saving /home/julia/Downloads/three_levels_lowres_wm_region_p2l-surf.nii.gz\n",
      "\n",
      "Probability to Levelset\n",
      "\n",
      "Outputs will be saved to /home/julia/Downloads/\n",
      "\n",
      "Saving /home/julia/Downloads/three_levels_lowres_wmgm_region_p2l-surf.nii.gz\n"
     ]
    }
   ],
   "source": [
    "wmlvl = nighres.surface.probability_to_levelset(probability_image=wm,save_data=True)\n",
    "gmlvl = nighres.surface.probability_to_levelset(probability_image=gm,save_data=True)"
   ]
  },
  {
   "cell_type": "code",
   "execution_count": 5,
   "metadata": {},
   "outputs": [
    {
     "name": "stdout",
     "output_type": "stream",
     "text": [
      "\n",
      "Volumetric Layering\n",
      "\n",
      "Outputs will be saved to /home/julia/Downloads/\n",
      "\n",
      "Saving /home/julia/Downloads/three_levels_lowres_wm_region_p2l-surf_layering-depth.nii.gz\n",
      "\n",
      "Saving /home/julia/Downloads/three_levels_lowres_wm_region_p2l-surf_layering-layers.nii.gz\n",
      "\n",
      "Saving /home/julia/Downloads/three_levels_lowres_wm_region_p2l-surf_layering-boundaries.nii.gz\n"
     ]
    }
   ],
   "source": [
    "lamina = nighres.laminar.volumetric_layering(inner_levelset=wmlvl['result'].get_filename(),outer_levelset=gmlvl['result'].get_filename(),save_data=True,n_layers=4)"
   ]
  },
  {
   "cell_type": "code",
   "execution_count": 6,
   "metadata": {},
   "outputs": [
    {
     "name": "stdout",
     "output_type": "stream",
     "text": [
      "\n",
      "Profile sampling\n",
      "\n",
      "Outputs will be saved to /home/julia/data/gradients/results/\n",
      "\n",
      "Saving /home/julia/data/gradients/results/gradient_0000_lps-data.nii.gz\n"
     ]
    }
   ],
   "source": [
    "data='/home/julia/data/gradients/results/gradient_0000.nii.gz'\n",
    "prof = nighres.laminar.profile_sampling(profile_surface_image=lamina['boundaries'],intensity_image=data,save_data=True,overwrite=True)"
   ]
  },
  {
   "cell_type": "code",
   "execution_count": null,
   "metadata": {
    "collapsed": true
   },
   "outputs": [],
   "source": []
  }
 ],
 "metadata": {
  "kernelspec": {
   "display_name": "Python 3",
   "language": "python",
   "name": "python3"
  },
  "language_info": {
   "codemirror_mode": {
    "name": "ipython",
    "version": 3
   },
   "file_extension": ".py",
   "mimetype": "text/x-python",
   "name": "python",
   "nbconvert_exporter": "python",
   "pygments_lexer": "ipython3",
   "version": "3.6.8"
  }
 },
 "nbformat": 4,
 "nbformat_minor": 2
}
