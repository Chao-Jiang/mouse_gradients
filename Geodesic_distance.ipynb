{
 "cells": [
  {
   "cell_type": "code",
   "execution_count": 2,
   "metadata": {
    "collapsed": true
   },
   "outputs": [],
   "source": [
    "%matplotlib inline"
   ]
  },
  {
   "cell_type": "code",
   "execution_count": 3,
   "metadata": {
    "collapsed": true
   },
   "outputs": [],
   "source": [
    "import numpy as np\n",
    "from nighres import io\n",
    "import gdist\n",
    "import pandas as pd\n",
    "from allensdk.core.mouse_connectivity_cache import MouseConnectivityCache"
   ]
  },
  {
   "cell_type": "code",
   "execution_count": 4,
   "metadata": {
    "collapsed": true
   },
   "outputs": [],
   "source": [
    "mcc = MouseConnectivityCache(manifest_file=\n",
    "                             '/home/julia/data/gradients/atlas/allen_api/mouse_connectivity_manifest.json')"
   ]
  },
  {
   "cell_type": "code",
   "execution_count": 5,
   "metadata": {
    "collapsed": true
   },
   "outputs": [],
   "source": [
    "structure_tree = mcc.get_structure_tree()\n",
    "structures = structure_tree.get_structures_by_name(['Hippocampal region', 'Piriform area'])"
   ]
  },
  {
   "cell_type": "code",
   "execution_count": 6,
   "metadata": {},
   "outputs": [
    {
     "data": {
      "text/html": [
       "<div>\n",
       "<style scoped>\n",
       "    .dataframe tbody tr th:only-of-type {\n",
       "        vertical-align: middle;\n",
       "    }\n",
       "\n",
       "    .dataframe tbody tr th {\n",
       "        vertical-align: top;\n",
       "    }\n",
       "\n",
       "    .dataframe thead th {\n",
       "        text-align: right;\n",
       "    }\n",
       "</style>\n",
       "<table border=\"1\" class=\"dataframe\">\n",
       "  <thead>\n",
       "    <tr style=\"text-align: right;\">\n",
       "      <th></th>\n",
       "      <th>acronym</th>\n",
       "      <th>graph_id</th>\n",
       "      <th>graph_order</th>\n",
       "      <th>id</th>\n",
       "      <th>name</th>\n",
       "      <th>structure_id_path</th>\n",
       "      <th>structure_set_ids</th>\n",
       "      <th>rgb_triplet</th>\n",
       "    </tr>\n",
       "  </thead>\n",
       "  <tbody>\n",
       "    <tr>\n",
       "      <th>0</th>\n",
       "      <td>HIP</td>\n",
       "      <td>1</td>\n",
       "      <td>455</td>\n",
       "      <td>1080</td>\n",
       "      <td>Hippocampal region</td>\n",
       "      <td>[997, 8, 567, 688, 695, 1089, 1080]</td>\n",
       "      <td>[112905828, 691663206, 12, 184527634, 11290581...</td>\n",
       "      <td>[126, 208, 75]</td>\n",
       "    </tr>\n",
       "    <tr>\n",
       "      <th>1</th>\n",
       "      <td>PIR</td>\n",
       "      <td>1</td>\n",
       "      <td>416</td>\n",
       "      <td>961</td>\n",
       "      <td>Piriform area</td>\n",
       "      <td>[997, 8, 567, 688, 695, 698, 961]</td>\n",
       "      <td>[112905828, 691663206, 688152358, 687527945, 1...</td>\n",
       "      <td>[106, 203, 186]</td>\n",
       "    </tr>\n",
       "  </tbody>\n",
       "</table>\n",
       "</div>"
      ],
      "text/plain": [
       "  acronym  graph_id  graph_order    id                name  \\\n",
       "0     HIP         1          455  1080  Hippocampal region   \n",
       "1     PIR         1          416   961       Piriform area   \n",
       "\n",
       "                     structure_id_path  \\\n",
       "0  [997, 8, 567, 688, 695, 1089, 1080]   \n",
       "1    [997, 8, 567, 688, 695, 698, 961]   \n",
       "\n",
       "                                   structure_set_ids      rgb_triplet  \n",
       "0  [112905828, 691663206, 12, 184527634, 11290581...   [126, 208, 75]  \n",
       "1  [112905828, 691663206, 688152358, 687527945, 1...  [106, 203, 186]  "
      ]
     },
     "execution_count": 6,
     "metadata": {},
     "output_type": "execute_result"
    }
   ],
   "source": [
    "pd.DataFrame(structures)"
   ]
  },
  {
   "cell_type": "code",
   "execution_count": 7,
   "metadata": {},
   "outputs": [],
   "source": [
    "hip_mesh=mcc.get_structure_mesh(1080, '/home/julia/data/gradients/atlas/allen_api/hippocampus_mesh.obj')\n",
    "pir_mesh=mcc.get_structure_mesh(961, '/home/julia/data/gradients/atlas/allen_api/piriform_mesh.obj')"
   ]
  },
  {
   "cell_type": "code",
   "execution_count": 8,
   "metadata": {},
   "outputs": [
    {
     "name": "stdout",
     "output_type": "stream",
     "text": [
      "\n",
      "Saving /home/julia/data/gradients/atlas/allen_api/hippocampus_mesh.vtk\n",
      "\n",
      "Saving /home/julia/data/gradients/atlas/allen_api/piriform_mesh.vtk\n"
     ]
    }
   ],
   "source": [
    "io.save_mesh_geometry('/home/julia/data/gradients/atlas/allen_api/hippocampus_mesh.vtk',\n",
    "                      {\"points\":hip_mesh[0], \"faces\":hip_mesh[2]})\n",
    "io.save_mesh_geometry('/home/julia/data/gradients/atlas/allen_api/piriform_mesh.vtk',\n",
    "                      {\"points\":pir_mesh[0], \"faces\":pir_mesh[2]})"
   ]
  },
  {
   "cell_type": "code",
   "execution_count": 11,
   "metadata": {},
   "outputs": [
    {
     "name": "stderr",
     "output_type": "stream",
     "text": [
      "/home/julia/workspace/conda/anaconda3/lib/python3.6/site-packages/pandas/io/parsers.py:2444: FutureWarning: split() requires a non-empty pattern match.\n",
      "  yield pat.split(line.strip())\n",
      "/home/julia/workspace/conda/anaconda3/lib/python3.6/site-packages/pandas/io/parsers.py:2447: FutureWarning: split() requires a non-empty pattern match.\n",
      "  yield pat.split(line.strip())\n"
     ]
    }
   ],
   "source": [
    "brain_mesh = io.load_mesh_geometry('/home/julia/data/gradients/atlas/allen_api/brain_mesh.vtk')"
   ]
  },
  {
   "cell_type": "code",
   "execution_count": 29,
   "metadata": {},
   "outputs": [],
   "source": [
    "same_points = []\n",
    "for point in hip_mesh[0]:\n",
    "    for other_point in brain_mesh['points']:\n",
    "        if np.all(np.abs(point - other_point) < 1):\n",
    "            same_points.append((point, other_point))"
   ]
  },
  {
   "cell_type": "code",
   "execution_count": null,
   "metadata": {
    "collapsed": true
   },
   "outputs": [],
   "source": []
  }
 ],
 "metadata": {
  "kernelspec": {
   "display_name": "Python 3",
   "language": "python",
   "name": "python3"
  },
  "language_info": {
   "codemirror_mode": {
    "name": "ipython",
    "version": 3
   },
   "file_extension": ".py",
   "mimetype": "text/x-python",
   "name": "python",
   "nbconvert_exporter": "python",
   "pygments_lexer": "ipython3",
   "version": "3.6.8"
  }
 },
 "nbformat": 4,
 "nbformat_minor": 2
}
