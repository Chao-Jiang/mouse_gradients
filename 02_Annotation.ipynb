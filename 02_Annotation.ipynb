{
 "cells": [
  {
   "cell_type": "code",
   "execution_count": 1,
   "metadata": {
    "collapsed": true
   },
   "outputs": [],
   "source": [
    "%matplotlib inline"
   ]
  },
  {
   "cell_type": "markdown",
   "metadata": {},
   "source": [
    "http://alleninstitute.github.io/AllenSDK/_static/examples/nb/mouse_connectivity.html"
   ]
  },
  {
   "cell_type": "code",
   "execution_count": 2,
   "metadata": {
    "collapsed": true
   },
   "outputs": [],
   "source": [
    "import pandas as pd\n",
    "import numpy as np\n",
    "import nibabel as nb\n",
    "from allensdk.core.mouse_connectivity_cache import MouseConnectivityCache\n",
    "from nipype.interfaces import fsl"
   ]
  },
  {
   "cell_type": "markdown",
   "metadata": {},
   "source": [
    "### Download second level substructures of isocortex"
   ]
  },
  {
   "cell_type": "code",
   "execution_count": 3,
   "metadata": {
    "collapsed": true
   },
   "outputs": [],
   "source": [
    "mcc = MouseConnectivityCache(manifest_file='/home/julia/data/gradients/allen_atlas/allen_manifest.json')"
   ]
  },
  {
   "cell_type": "code",
   "execution_count": 4,
   "metadata": {
    "collapsed": true
   },
   "outputs": [],
   "source": [
    "structure_tree = mcc.get_structure_tree()"
   ]
  },
  {
   "cell_type": "code",
   "execution_count": 5,
   "metadata": {
    "collapsed": true
   },
   "outputs": [],
   "source": [
    "iso_id = structure_tree.get_structures_by_name(['Isocortex'])[0]['id']\n",
    "regions = structure_tree.children([iso_id])[0]"
   ]
  },
  {
   "cell_type": "code",
   "execution_count": 6,
   "metadata": {
    "collapsed": true
   },
   "outputs": [],
   "source": [
    "hdr = nb.load('/home/julia/data/gradients/allen_atlas/cortex_mask_tight.nii.gz').header\n",
    "aff = nb.load('/home/julia/data/gradients/allen_atlas/cortex_mask_tight.nii.gz').affine\n",
    "shape = nb.load('/home/julia/data/gradients/allen_atlas/cortex_mask_tight.nii.gz').shape"
   ]
  },
  {
   "cell_type": "code",
   "execution_count": 7,
   "metadata": {
    "collapsed": true
   },
   "outputs": [],
   "source": [
    "for region in regions:\n",
    "    children = structure_tree.children([region['id']])[0]\n",
    "    for child in children:\n",
    "        if \"layer\" in child['name'].lower():\n",
    "            pass\n",
    "        elif child['id'] == 738: #structure is missing in API\n",
    "            pass\n",
    "        else:\n",
    "            mask, _ = mcc.get_structure_mask(child['id'],'/tmp/%s.nrrd' % child['acronym'])\n",
    "            nb.Nifti1Image(mask, aff, hdr).to_filename('/home/julia/data/gradients/allen_atlas/regions/%s.nii.gz'\n",
    "                                               % child['acronym'])"
   ]
  },
  {
   "cell_type": "code",
   "execution_count": 8,
   "metadata": {
    "collapsed": true
   },
   "outputs": [],
   "source": [
    "# Start a list of subregions\n",
    "finest = []\n",
    "for region in regions:\n",
    "    children = structure_tree.children([region['id']])[0]\n",
    "    for child in children:\n",
    "        if \"layer\" in child['name'].lower():\n",
    "            pass\n",
    "        elif child['id'] == 738:\n",
    "            pass\n",
    "        else:\n",
    "            finest.append(child['acronym'])"
   ]
  },
  {
   "cell_type": "code",
   "execution_count": 9,
   "metadata": {
    "collapsed": true
   },
   "outputs": [],
   "source": [
    "# Add the level 1 regions that have no subregions\n",
    "for region in regions:\n",
    "    if True in [(region['acronym'] in f) for f in finest]:\n",
    "        pass\n",
    "    else:\n",
    "        finest.append(region['acronym'])\n",
    "        mask, _ = mcc.get_structure_mask(region['id'],'/tmp/%s.nrrd' % region['acronym'])\n",
    "        nb.Nifti1Image(mask, aff, hdr).to_filename('/home/julia/data/gradients/allen_atlas/regions/%s.nii.gz'\n",
    "                                               % region['acronym'])"
   ]
  },
  {
   "cell_type": "code",
   "execution_count": 10,
   "metadata": {
    "collapsed": true
   },
   "outputs": [],
   "source": [
    "# Add subregions of SSp\n",
    "for ss in structure_tree.children([322])[0]:\n",
    "    if \"layer\" in ss['name'].lower():\n",
    "        pass\n",
    "    else:\n",
    "        finest.append(ss['acronym'])\n",
    "        mask, _ = mcc.get_structure_mask(ss['id'], '/tmp/%s.nrrd' % ss['acronym'])\n",
    "        nb.Nifti1Image(mask, aff, hdr).to_filename('/home/julia/data/gradients/allen_atlas/regions/%s.nii.gz'\n",
    "                                            % ss['acronym'])\n",
    "finest.remove('SSp')"
   ]
  },
  {
   "cell_type": "code",
   "execution_count": 11,
   "metadata": {
    "collapsed": true
   },
   "outputs": [],
   "source": [
    "df = pd.DataFrame(data=zip(range(1,len(finest)+1),finest),\n",
    "                 columns=['id', 'acronym'])\n",
    "df.to_csv('/home/julia/workspace/mouse_gradients/regions.csv')"
   ]
  },
  {
   "cell_type": "markdown",
   "metadata": {},
   "source": [
    "### Make annotation volume"
   ]
  },
  {
   "cell_type": "code",
   "execution_count": 12,
   "metadata": {
    "collapsed": true
   },
   "outputs": [],
   "source": [
    "df = pd.read_csv('/home/julia/workspace/mouse_gradients/regions.csv')\n",
    "df = df.drop(columns=[\"Unnamed: 0\"])"
   ]
  },
  {
   "cell_type": "code",
   "execution_count": 13,
   "metadata": {
    "collapsed": true
   },
   "outputs": [],
   "source": [
    "# Make a single annotation volume\n",
    "annot_finest = np.zeros(shape)\n",
    "\n",
    "for a in range(len(df['acronym'])):\n",
    "    mask = nb.load(\"/home/julia/data/gradients/allen_atlas/regions/%s.nii.gz\" % df['acronym'][a]).get_data()\n",
    "    annot_finest[mask == 1] = df['id'][a]"
   ]
  },
  {
   "cell_type": "code",
   "execution_count": 14,
   "metadata": {
    "collapsed": true
   },
   "outputs": [],
   "source": [
    "nb.save(nb.Nifti1Image(np.round(annot_finest), aff, hdr), \"/home/julia/data/gradients/allen_atlas/annot_finest.nii.gz\")"
   ]
  },
  {
   "cell_type": "markdown",
   "metadata": {},
   "source": [
    "### Downsample annotation volume"
   ]
  },
  {
   "cell_type": "code",
   "execution_count": 15,
   "metadata": {},
   "outputs": [
    {
     "data": {
      "text/plain": [
       "<nipype.interfaces.base.support.InterfaceResult at 0x7ff5556d1320>"
      ]
     },
     "execution_count": 15,
     "metadata": {},
     "output_type": "execute_result"
    }
   ],
   "source": [
    "resamp = fsl.FLIRT(in_file=\"/home/julia/data/gradients/allen_atlas/annot_finest.nii.gz\",\n",
    "                   reference=\"/home/julia/data/gradients/allen_atlas/annot_finest.nii.gz\",\n",
    "                   apply_isoxfm=0.2,\n",
    "                   interp=\"nearestneighbour\",\n",
    "                   out_file=\"/home/julia/data/gradients/allen_atlas/annot_finest_200um.nii.gz\")\n",
    "resamp.run()"
   ]
  },
  {
   "cell_type": "code",
   "execution_count": 16,
   "metadata": {
    "collapsed": true
   },
   "outputs": [],
   "source": [
    "rounded = np.round(nb.load(\"/home/julia/data/gradients/allen_atlas/annot_finest_200um.nii.gz\").get_data())\n",
    "hdr_200 = nb.load(\"/home/julia/data/gradients/allen_atlas/annot_finest_200um.nii.gz\").header\n",
    "aff_200 = nb.load(\"/home/julia/data/gradients/allen_atlas/annot_finest_200um.nii.gz\").affine\n",
    "nb.save(nb.Nifti1Image(rounded, aff_200, hdr_200), \n",
    "        \"/home/julia/data/gradients/allen_atlas/annot_finest_200um.nii.gz\")"
   ]
  },
  {
   "cell_type": "code",
   "execution_count": null,
   "metadata": {
    "collapsed": true
   },
   "outputs": [],
   "source": []
  }
 ],
 "metadata": {
  "kernelspec": {
   "display_name": "Python 3",
   "language": "python",
   "name": "python3"
  },
  "language_info": {
   "codemirror_mode": {
    "name": "ipython",
    "version": 3
   },
   "file_extension": ".py",
   "mimetype": "text/x-python",
   "name": "python",
   "nbconvert_exporter": "python",
   "pygments_lexer": "ipython3",
   "version": "3.6.10"
  }
 },
 "nbformat": 4,
 "nbformat_minor": 2
}
