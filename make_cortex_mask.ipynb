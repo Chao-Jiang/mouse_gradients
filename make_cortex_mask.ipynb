{
 "cells": [
  {
   "cell_type": "code",
   "execution_count": 1,
   "metadata": {
    "collapsed": true
   },
   "outputs": [],
   "source": [
    "% matplotlib inline"
   ]
  },
  {
   "cell_type": "code",
   "execution_count": 2,
   "metadata": {},
   "outputs": [
    {
     "name": "stderr",
     "output_type": "stream",
     "text": [
      "/home/julia/workspace/conda/anaconda3/lib/python3.6/site-packages/h5py/__init__.py:34: FutureWarning: Conversion of the second argument of issubdtype from `float` to `np.floating` is deprecated. In future, it will be treated as `np.float64 == np.dtype(float).type`.\n",
      "  from ._conv import register_converters as _register_converters\n"
     ]
    }
   ],
   "source": [
    "import numpy as np\n",
    "import nibabel as nb\n",
    "import matplotlib.pyplot as plt\n",
    "import seaborn as sns"
   ]
  },
  {
   "cell_type": "code",
   "execution_count": 3,
   "metadata": {
    "collapsed": true
   },
   "outputs": [],
   "source": [
    "sns.set_context('poster')"
   ]
  },
  {
   "cell_type": "code",
   "execution_count": 4,
   "metadata": {
    "collapsed": true
   },
   "outputs": [],
   "source": [
    "labels = list(np.genfromtxt(\"/home/julia/projects/gradients/data_jo/atlas/cortex_idx.csv\"))"
   ]
  },
  {
   "cell_type": "code",
   "execution_count": 5,
   "metadata": {
    "collapsed": true
   },
   "outputs": [],
   "source": [
    "img = nb.load(\"/home/julia/projects/gradients/data_jo/atlas/ABI_atlas_reduced_25um.nii.gz\")"
   ]
  },
  {
   "cell_type": "code",
   "execution_count": 6,
   "metadata": {
    "collapsed": true
   },
   "outputs": [],
   "source": [
    "data = img.get_data()"
   ]
  },
  {
   "cell_type": "code",
   "execution_count": 6,
   "metadata": {
    "collapsed": true
   },
   "outputs": [],
   "source": [
    "mask = np.zeros(data.shape)"
   ]
  },
  {
   "cell_type": "code",
   "execution_count": 7,
   "metadata": {
    "collapsed": true
   },
   "outputs": [],
   "source": [
    "for l in labels: \n",
    "    mask[np.where(data==int(l))]=1"
   ]
  },
  {
   "cell_type": "code",
   "execution_count": 36,
   "metadata": {
    "collapsed": true
   },
   "outputs": [],
   "source": [
    "nb.save(nb.Nifti1Image(mask, img.affine, img.header), \"/home/julia/projects/gradients/data_jo/atlas/cortex_mask_25um.nii.gz\")"
   ]
  },
  {
   "cell_type": "raw",
   "metadata": {},
   "source": [
    "!fslmaths /home/julia/projects/gradients/data_jo/atlas/cortex_mask_25um.nii.gz -dilM -dilM -dilM /home/julia/projects/gradients/data_jo/atlas/cortex_mask_25um_dilM3.nii.gz"
   ]
  },
  {
   "cell_type": "code",
   "execution_count": 8,
   "metadata": {
    "collapsed": true
   },
   "outputs": [],
   "source": [
    "ven = nb.load(\"/home/julia/projects/gradients/data_jo/atlas/mask_VEN_bin_25um.nii.gz\")\n",
    "wm = nb.load(\"/home/julia/projects/gradients/data_jo/atlas/mask_WM_bin_25um.nii.gz\")\n",
    "atlas = nb.load(\"/home/julia/projects/gradients/data_jo/atlas/ABI_atlas_reduced_25um.nii.gz\")"
   ]
  },
  {
   "cell_type": "code",
   "execution_count": 9,
   "metadata": {
    "collapsed": true
   },
   "outputs": [],
   "source": [
    "allmask = np.zeros(ven.shape)"
   ]
  },
  {
   "cell_type": "code",
   "execution_count": 10,
   "metadata": {
    "collapsed": true
   },
   "outputs": [],
   "source": [
    "allmask[np.where(ven.get_data()!=0)] = 1\n",
    "allmask[np.where(wm.get_data()!=0)] = 1\n",
    "allmask[np.where(atlas.get_data()!=0)] = 1"
   ]
  },
  {
   "cell_type": "code",
   "execution_count": 48,
   "metadata": {
    "collapsed": true
   },
   "outputs": [],
   "source": [
    "nb.save(nb.Nifti1Image(allmask, ven.affine, ven.header), \"/home/julia/projects/gradients/data_jo/atlas/all_mask_25um.nii.gz\")"
   ]
  },
  {
   "cell_type": "raw",
   "metadata": {},
   "source": [
    "!fslmaths /home/julia/projects/gradients/data_jo/atlas/all_mask_25um.nii.gz -s 0.1 /home/julia/projects/gradients/data_jo/atlas/all_mask_25um_s01.nii.gz"
   ]
  },
  {
   "cell_type": "raw",
   "metadata": {},
   "source": [
    "!fslmaths /home/julia/projects/gradients/data_jo/atlas/all_mask_25um_s01.nii.gz -thr 0.6 /home/julia/projects/gradients/data_jo/atlas/all_mask_25um_s01_thr.nii.gz"
   ]
  },
  {
   "cell_type": "code",
   "execution_count": 7,
   "metadata": {
    "collapsed": true
   },
   "outputs": [],
   "source": [
    "from scipy import ndimage"
   ]
  },
  {
   "cell_type": "code",
   "execution_count": 8,
   "metadata": {
    "collapsed": true
   },
   "outputs": [],
   "source": [
    "x = nb.load(\"/home/julia/projects/gradients/data_jo/atlas/x_25um.nii.gz\").get_data()"
   ]
  },
  {
   "cell_type": "code",
   "execution_count": 9,
   "metadata": {
    "collapsed": true
   },
   "outputs": [],
   "source": [
    "y = ndimage.label(x)"
   ]
  },
  {
   "cell_type": "code",
   "execution_count": 14,
   "metadata": {
    "collapsed": true
   },
   "outputs": [],
   "source": [
    "nb.save(nb.Nifti1Image(y[0], img.affine, img.header), \"/home/julia/projects/gradients/data_jo/atlas/y_25um.nii.gz\")"
   ]
  },
  {
   "cell_type": "code",
   "execution_count": 15,
   "metadata": {},
   "outputs": [],
   "source": [
    "z = np.zeros(x.shape)\n",
    "z[np.where(y[0]==1)]=1\n",
    "z[np.where(y[0]==12)]=1"
   ]
  },
  {
   "cell_type": "code",
   "execution_count": 16,
   "metadata": {},
   "outputs": [],
   "source": [
    "nb.save(nb.Nifti1Image(z, img.affine, img.header), \"/home/julia/projects/gradients/data_jo/atlas/z_25um.nii.gz\")"
   ]
  },
  {
   "cell_type": "code",
   "execution_count": 23,
   "metadata": {
    "collapsed": true
   },
   "outputs": [],
   "source": [
    "z_new=nb.load(\"/home/julia/projects/gradients/data_jo/atlas/z_25um_copy.nii.gz\").get_data()"
   ]
  },
  {
   "cell_type": "code",
   "execution_count": 24,
   "metadata": {
    "collapsed": true
   },
   "outputs": [],
   "source": [
    "q = ndimage.label(z_new)"
   ]
  },
  {
   "cell_type": "code",
   "execution_count": 26,
   "metadata": {},
   "outputs": [],
   "source": [
    "nb.save(nb.Nifti1Image(q[0], img.affine, img.header), \"/home/julia/projects/gradients/data_jo/atlas/q_25um.nii.gz\")"
   ]
  },
  {
   "cell_type": "code",
   "execution_count": 27,
   "metadata": {},
   "outputs": [],
   "source": [
    "j = np.zeros(z.shape)\n",
    "j[np.where(q[0]==2)] = 1\n",
    "j[np.where(q[0]==10)] = 1"
   ]
  },
  {
   "cell_type": "code",
   "execution_count": null,
   "metadata": {
    "collapsed": true
   },
   "outputs": [],
   "source": [
    "nb.save(nb.Nifti1Image(j, img.affine, img.header), \"/home/julia/projects/gradients/data_jo/atlas/j_25um.nii.gz\")"
   ]
  },
  {
   "cell_type": "code",
   "execution_count": 31,
   "metadata": {},
   "outputs": [],
   "source": [
    "cortex=nb.load(\"/home/julia/projects/gradients/data_jo/atlas/cortex_mask_25um.nii.gz\").get_data()"
   ]
  },
  {
   "cell_type": "code",
   "execution_count": 35,
   "metadata": {
    "collapsed": true
   },
   "outputs": [],
   "source": [
    "cortex_fixed=np.zeros(j.shape)\n",
    "cortex_fixed[np.where(cortex>0)]=1\n",
    "cortex_fixed[np.where(j>0)]=1"
   ]
  },
  {
   "cell_type": "code",
   "execution_count": 38,
   "metadata": {
    "collapsed": true
   },
   "outputs": [],
   "source": [
    "nb.save(nb.Nifti1Image(cortex_fixed, img.affine, img.header), \"/home/julia/projects/gradients/data_jo/atlas/cortex_mask_fixed_25um.nii.gz\")"
   ]
  },
  {
   "cell_type": "code",
   "execution_count": 40,
   "metadata": {
    "collapsed": true
   },
   "outputs": [],
   "source": [
    "allmask_fixed = nb.load(\"/home/julia/projects/gradients/data_jo/atlas/all_mask_25um_s01_thr.nii.gz\")\n",
    "inmask = np.zeros(cortex_fixed.get_data().shape)\n",
    "inmask[np.where(allmask_fixed.get_data()>0)] = 1\n",
    "inmask[np.where(cortex_fixed.get_data()>0)] = 0\n",
    "nb.save(nb.Nifti1Image(inmask, img.affine, img.header), \"/home/julia/projects/gradients/data_jo/atlas/inside_mask_25um.nii.gz\")"
   ]
  },
  {
   "cell_type": "code",
   "execution_count": 43,
   "metadata": {
    "collapsed": true
   },
   "outputs": [],
   "source": [
    "wm_fake = inmask * nb.load(\"/home/julia/projects/gradients/data_jo/atlas/cortex_mask_25um_dilM3.nii.gz\").get_data()"
   ]
  },
  {
   "cell_type": "code",
   "execution_count": 44,
   "metadata": {
    "collapsed": true
   },
   "outputs": [],
   "source": [
    "nb.save(nb.Nifti1Image(wm_fake, img.affine, img.header), \"/home/julia/projects/gradients/data_jo/atlas/wm_fake_25um.nii.gz\")"
   ]
  },
  {
   "cell_type": "code",
   "execution_count": null,
   "metadata": {
    "collapsed": true
   },
   "outputs": [],
   "source": []
  }
 ],
 "metadata": {
  "kernelspec": {
   "display_name": "Python 3",
   "language": "python",
   "name": "python3"
  },
  "language_info": {
   "codemirror_mode": {
    "name": "ipython",
    "version": 3
   },
   "file_extension": ".py",
   "mimetype": "text/x-python",
   "name": "python",
   "nbconvert_exporter": "python",
   "pygments_lexer": "ipython3",
   "version": "3.6.8"
  }
 },
 "nbformat": 4,
 "nbformat_minor": 2
}
