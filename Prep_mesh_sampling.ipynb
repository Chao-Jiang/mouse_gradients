{
 "cells": [
  {
   "cell_type": "code",
   "execution_count": 1,
   "metadata": {
    "collapsed": true
   },
   "outputs": [],
   "source": [
    "%matplotlib inline"
   ]
  },
  {
   "cell_type": "code",
   "execution_count": 2,
   "metadata": {
    "collapsed": true
   },
   "outputs": [],
   "source": [
    "import numpy as np\n",
    "from nighres import io, surface\n",
    "import pandas as pd\n",
    "import nibabel as nb\n",
    "import matplotlib.pyplot as plt\n",
    "import pickle\n",
    "from nipype.interfaces import fsl\n",
    "from glob import glob\n",
    "import os"
   ]
  },
  {
   "cell_type": "code",
   "execution_count": 3,
   "metadata": {
    "collapsed": true
   },
   "outputs": [],
   "source": [
    "def jo2allen_vol(data):\n",
    "    data = np.swapaxes(np.swapaxes(data, 0,1), 1,2)\n",
    "    data = np.flip(np.flip(data,1),0)\n",
    "    return data"
   ]
  },
  {
   "cell_type": "markdown",
   "metadata": {},
   "source": [
    "#### Make levelset from tight cortex mask "
   ]
  },
  {
   "cell_type": "markdown",
   "metadata": {},
   "source": [
    "Cortex mask derived from layer masks, see notebook \"Allen_API\""
   ]
  },
  {
   "cell_type": "code",
   "execution_count": null,
   "metadata": {
    "collapsed": true
   },
   "outputs": [],
   "source": [
    "lvl=surface.probability_to_levelset(\"/home/julia/data/gradients/atlas/allen_api/cortex_mask_tight.nii.gz\")\n",
    "lvl['result'].to_filename(\"/home/julia/data/gradients/atlas/allen_api/cortex_mask_tight_lvl.nii.gz\")"
   ]
  },
  {
   "cell_type": "code",
   "execution_count": 4,
   "metadata": {
    "collapsed": true
   },
   "outputs": [],
   "source": [
    "lvl = nb.load(\"/home/julia/data/gradients/atlas/allen_api/cortex_mask_tight_lvl.nii.gz\")"
   ]
  },
  {
   "cell_type": "code",
   "execution_count": 11,
   "metadata": {
    "collapsed": true
   },
   "outputs": [],
   "source": [
    "nb.save(nb.Nifti1Image(np.asarray(lvl.get_data(), dtype='float32'), np.eye(4)), \n",
    "        \"/home/julia/data/gradients/atlas/allen_api/cortex_mask_tight_lvl.nii.gz\")"
   ]
  },
  {
   "cell_type": "markdown",
   "metadata": {},
   "source": [
    "#### Downsample mask, annotation volume and levelset to 200 um"
   ]
  },
  {
   "cell_type": "code",
   "execution_count": null,
   "metadata": {
    "collapsed": true
   },
   "outputs": [],
   "source": [
    "resamp = fsl.FLIRT(in_file=\"/home/julia/data/gradients/atlas/allen_api/cortex_mask_tight_lvl.nii.gz\",\n",
    "                   reference=\"/home/julia/data/gradients/atlas/allen_api/cortex_mask_tight_lvl.nii.gz\",\n",
    "                   apply_isoxfm=0.2,\n",
    "                   interp=\"spline\",\n",
    "                   out_file=\"/home/julia/data/gradients/atlas/allen_api/cortex_mask_tight_lvl_200um.nii.gz\")\n",
    "resamp.run()"
   ]
  },
  {
   "cell_type": "code",
   "execution_count": 5,
   "metadata": {},
   "outputs": [
    {
     "data": {
      "text/plain": [
       "'flirt -in /home/julia/data/gradients/atlas/allen_api/annotation.nii.gz -ref /home/julia/data/gradients/atlas/allen_api/annotation.nii.gz -out /home/julia/data/gradients/atlas/allen_api/annotation_200um.nii.gz -omat annotation_flirt.mat -applyisoxfm 0.200000 -interp nearestneighbour'"
      ]
     },
     "execution_count": 5,
     "metadata": {},
     "output_type": "execute_result"
    }
   ],
   "source": [
    "resamp = fsl.FLIRT(in_file=\"/home/julia/data/gradients/atlas/allen_api/annotation.nii.gz\",\n",
    "                   reference=\"/home/julia/data/gradients/atlas/allen_api/annotation.nii.gz\",\n",
    "                   apply_isoxfm=0.2,\n",
    "                   interp=\"nearestneighbour\",\n",
    "                   out_file=\"/home/julia/data/gradients/atlas/allen_api/annotation_200um.nii.gz\")\n",
    "resamp.cmdline"
   ]
  },
  {
   "cell_type": "code",
   "execution_count": 35,
   "metadata": {},
   "outputs": [
    {
     "data": {
      "text/plain": [
       "<nipype.interfaces.base.support.InterfaceResult at 0x7f19011a5080>"
      ]
     },
     "execution_count": 35,
     "metadata": {},
     "output_type": "execute_result"
    }
   ],
   "source": [
    "resamp = fsl.FLIRT(in_file=\"/home/julia/data/gradients/atlas/allen_api/cortex_mask_tight.nii.gz\",\n",
    "                   reference=\"/home/julia/data/gradients/atlas/allen_api/cortex_mask_tight.nii.gz\",\n",
    "                   apply_isoxfm=0.2,\n",
    "                   interp=\"nearestneighbour\",\n",
    "                   out_file=\"/home/julia/data/gradients/atlas/allen_api/cortex_mask_tight_200um.nii.gz\")\n",
    "resamp.run()"
   ]
  },
  {
   "cell_type": "markdown",
   "metadata": {},
   "source": [
    "#### Bring original data in 200 um into allen space"
   ]
  },
  {
   "cell_type": "code",
   "execution_count": 32,
   "metadata": {
    "collapsed": true
   },
   "outputs": [],
   "source": [
    "# extract info from example image\n",
    "img = nb.load(\"/home/julia/data/gradients/orig/sub-jgrAesMEDISOc11L_ses-1_task-rest_acq-EPI_run-1_bold.nii.gz\")\n",
    "data = img.get_data()\n",
    "shape_allen = jo2allen_vol(data[:,:,:,0]).shape\n",
    "num_vol = data.shape[3]\n",
    "\n",
    "aff = np.eye(4)*0.2\n",
    "aff[3,3]=1\n",
    "\n",
    "hdr = nb.Nifti1Header()\n",
    "hdr['dim']=np.array([4, shape_allen[0], shape_allen[1], shape_allen[2], num_vol, \n",
    "                     1, 1, 1], dtype='int16')\n",
    "hdr['pixdim']=img.header['pixdim']\n",
    "\n",
    "\n",
    "# load each image, transform and save\n",
    "func = glob(\"/home/julia/data/gradients/orig/*MEDISO*EPI*.nii.gz\")\n",
    "\n",
    "for f in func:\n",
    "    data_allen = np.zeros((shape_allen[0], shape_allen[1], shape_allen[2], num_vol))\n",
    "    data_jo = nb.load(f).get_data()\n",
    "    \n",
    "    for vol in range(num_vol):\n",
    "        data_allen[:,:,:,vol] = jo2allen_vol(data_jo[:,:,:,vol])\n",
    "\n",
    "    nb.save(nb.Nifti1Image(data_allen, aff, hdr),\n",
    "            \"/home/julia/data/gradients/orig_allen/%s_allen.nii.gz\" % os.path.basename(f).split(\".\")[0])"
   ]
  },
  {
   "cell_type": "markdown",
   "metadata": {},
   "source": [
    "#### Plot mesh and mask on data for qa"
   ]
  },
  {
   "cell_type": "code",
   "execution_count": 5,
   "metadata": {},
   "outputs": [
    {
     "name": "stderr",
     "output_type": "stream",
     "text": [
      "/home/julia/workspace/conda/anaconda3/lib/python3.6/site-packages/pandas/io/parsers.py:2444: FutureWarning: split() requires a non-empty pattern match.\n",
      "  yield pat.split(line.strip())\n",
      "/home/julia/workspace/conda/anaconda3/lib/python3.6/site-packages/pandas/io/parsers.py:2447: FutureWarning: split() requires a non-empty pattern match.\n",
      "  yield pat.split(line.strip())\n"
     ]
    }
   ],
   "source": [
    "mesh = io.load_mesh_geometry(\"/home/julia/data/gradients/atlas/allen_api/brain_mesh.vtk\")\n",
    "img = nb.load(\"/home/julia/data/gradients/orig_allen/sub-jgrAesMEDISOc11L_ses-1_task-rest_acq-EPI_run-1_bold.nii.gz\")\n",
    "data = img.get_data()\n",
    "mask = nb.load(\"/home/julia/data/gradients/atlas/allen_api/cortex_mask_tight_200um.nii.gz\").get_data()\n",
    "mask[mask==0]=np.nan"
   ]
  },
  {
   "cell_type": "code",
   "execution_count": 6,
   "metadata": {},
   "outputs": [
    {
     "data": {
      "text/plain": [
       "(-0.5, 56.5, 39.5, -0.5)"
      ]
     },
     "execution_count": 6,
     "metadata": {},
     "output_type": "execute_result"
    },
    {
     "data": {
      "image/png": "[encoded data removed]",
      "text/plain": [
       "<Figure size 360x360 with 1 Axes>"
      ]
     },
     "metadata": {},
     "output_type": "display_data"
    }
   ],
   "source": [
    "x = 30\n",
    "fig = plt.figure(figsize=(5,5))\n",
    "mesh_slice = np.floor(mesh['points'][(mesh['points'][:,0]-x*200)<1][:,1:]/200)\n",
    "plt.scatter(mesh_slice[:,1], mesh_slice[:,0], s=0.1, color='black');\n",
    "plt.imshow(data[x, :, :,0], cmap='Greys');\n",
    "plt.imshow(mask[x, :, :], cmap='Reds_r', alpha=0.6);\n",
    "plt.axis('off')"
   ]
  },
  {
   "cell_type": "markdown",
   "metadata": {},
   "source": [
    "Because of imperfect alignment the upper voxels seem to not be sampled exactly, we can fix that by using the first datapoints when sampling, even at places where the mask is 0"
   ]
  },
  {
   "cell_type": "code",
   "execution_count": null,
   "metadata": {
    "collapsed": true
   },
   "outputs": [],
   "source": []
  }
 ],
 "metadata": {
  "kernelspec": {
   "display_name": "Python 3",
   "language": "python",
   "name": "python3"
  },
  "language_info": {
   "codemirror_mode": {
    "name": "ipython",
    "version": 3
   },
   "file_extension": ".py",
   "mimetype": "text/x-python",
   "name": "python",
   "nbconvert_exporter": "python",
   "pygments_lexer": "ipython3",
   "version": "3.6.10"
  }
 },
 "nbformat": 4,
 "nbformat_minor": 2
}
