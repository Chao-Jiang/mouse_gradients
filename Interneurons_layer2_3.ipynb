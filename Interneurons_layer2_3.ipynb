{
 "cells": [
  {
   "cell_type": "code",
   "execution_count": 1,
   "metadata": {
    "collapsed": true
   },
   "outputs": [],
   "source": [
    "%matplotlib inline"
   ]
  },
  {
   "cell_type": "code",
   "execution_count": 2,
   "metadata": {
    "collapsed": true
   },
   "outputs": [],
   "source": [
    "import pandas as pd\n",
    "import numpy as np\n",
    "from scipy.stats import stats\n",
    "from sklearn.preprocessing import StandardScaler, MinMaxScaler\n",
    "from sklearn.decomposition import PCA\n",
    "import matplotlib.pyplot as plt\n",
    "import seaborn as sns\n",
    "import nibabel as nb\n",
    "from allensdk.core.mouse_connectivity_cache import MouseConnectivityCache"
   ]
  },
  {
   "cell_type": "code",
   "execution_count": 3,
   "metadata": {
    "collapsed": true
   },
   "outputs": [],
   "source": [
    "df_kim = pd.read_csv(\"/home/julia/workspace/rodent_gradients/interneurons.csv\", header=1)"
   ]
  },
  {
   "cell_type": "code",
   "execution_count": 4,
   "metadata": {},
   "outputs": [],
   "source": [
    "mcc = MouseConnectivityCache(manifest_file=\n",
    "                             '/home/julia/data/gradients/atlas/allen_api/mouse_connectivity_manifest.json')\n",
    "structure_tree = mcc.get_structure_tree()\n",
    "iso_structs = structure_tree.descendants([315])[0]"
   ]
  },
  {
   "cell_type": "markdown",
   "metadata": {},
   "source": [
    "### Make a dataframe with only the layer 2/3 structures"
   ]
  },
  {
   "cell_type": "code",
   "execution_count": 5,
   "metadata": {
    "collapsed": true
   },
   "outputs": [],
   "source": [
    "l2_3 = []\n",
    "for i in range(len(iso_structs)):\n",
    "    if 'layer 2/3' in iso_structs[i]['name'].lower():\n",
    "        l2_3.append(iso_structs[i])\n",
    "    elif 'layer 2' in iso_structs[i]['name'].lower():\n",
    "        l2_3.append(iso_structs[i])\n",
    "df2_3 = pd.DataFrame()\n",
    "for r in l2_3:\n",
    "    df2_3 = df2_3.append(df_kim.loc[df_kim['ROI'] == r['acronym']], ignore_index=True)\n",
    "    \n",
    "df2_3['id']=np.nan\n",
    "for r in l2_3:\n",
    "    df2_3.loc[df2_3['ROI']==r['acronym'],'id'] = r['id']"
   ]
  },
  {
   "cell_type": "code",
   "execution_count": 6,
   "metadata": {
    "collapsed": true
   },
   "outputs": [],
   "source": [
    "df2_3['g0'] = np.nan\n",
    "df2_3['g1'] = np.nan\n",
    "df2_3['g2'] = np.nan\n",
    "df2_3['g3'] = np.nan\n",
    "df2_3['g4'] = np.nan\n",
    "df2_3['g5'] = np.nan"
   ]
  },
  {
   "cell_type": "code",
   "execution_count": 7,
   "metadata": {},
   "outputs": [],
   "source": [
    "img = nb.load(\"/home/julia/data/gradients/atlas/allen_api/annotation/annotation_200um.nii.gz\")\n",
    "annot = img.get_data()\n",
    "gradients = nb.load('/home/julia/data/gradients/results/embedding_vol/embed.nii.gz').get_data()"
   ]
  },
  {
   "cell_type": "code",
   "execution_count": 8,
   "metadata": {},
   "outputs": [
    {
     "name": "stderr",
     "output_type": "stream",
     "text": [
      "/home/julia/workspace/conda/anaconda3/lib/python3.6/site-packages/ipykernel_launcher.py:3: RuntimeWarning: Mean of empty slice\n",
      "  This is separate from the ipykernel package so we can avoid doing imports until\n"
     ]
    }
   ],
   "source": [
    "for idx in df2_3['id']:\n",
    "    for g in range(6):\n",
    "        df2_3.loc[df2_3['id']==idx, 'g%s' %str(g)] = np.nanmean(gradients[:,:,:,g][annot==idx])"
   ]
  },
  {
   "cell_type": "code",
   "execution_count": 9,
   "metadata": {},
   "outputs": [],
   "source": [
    "df2_3 = df2_3.dropna(axis=0)\n",
    "df2_3 = df2_3.drop(columns=['Full name', 'structureOrder', 'standard deviation', 'standard deviation.1',\n",
    "                           'standard deviation.2', 'standard deviation.3', 'standard deviation.4', \n",
    "                            'standard deviation.5', 'standard deviation.6', 'Average.3', 'Average.4',\n",
    "                           'Average.5', 'Average.6'])"
   ]
  },
  {
   "cell_type": "code",
   "execution_count": 10,
   "metadata": {},
   "outputs": [],
   "source": [
    "df2_3 = df2_3.rename(columns={\"Average\": \"PV avg\", \"Average.1\": \"SST avg\",  \"Average.2\": \"VIP avg\"})"
   ]
  },
  {
   "cell_type": "code",
   "execution_count": 11,
   "metadata": {},
   "outputs": [],
   "source": [
    "for a in df2_3[\"ROI\"]:\n",
    "    df2_3.loc[df2_3[\"ROI\"]==a, \"PV avg\"] = int(df2_3[df2_3[\"ROI\"]==a]['PV avg'].values[0].replace(u'\\xa0', u''))\n",
    "    df2_3.loc[df2_3[\"ROI\"]==a, \"SST avg\"] = int(df2_3[df2_3[\"ROI\"]==a]['SST avg'].values[0].replace(u'\\xa0', u''))\n",
    "    df2_3.loc[df2_3[\"ROI\"]==a, \"VIP avg\"] = int(df2_3[df2_3[\"ROI\"]==a]['VIP avg'].values[0].replace(u'\\xa0', u''))"
   ]
  },
  {
   "cell_type": "code",
   "execution_count": 13,
   "metadata": {},
   "outputs": [
    {
     "name": "stdout",
     "output_type": "stream",
     "text": [
      "Gradient 1, VIP avg: SpearmanrResult(correlation=-0.42574002574002573, pvalue=0.0096315095984950885)\n",
      "Gradient 2, PV avg: SpearmanrResult(correlation=0.6108108108108109, pvalue=7.606390677812033e-05)\n",
      "Gradient 2, VIP avg: SpearmanrResult(correlation=0.45405405405405413, pvalue=0.0054084097757643524)\n"
     ]
    }
   ],
   "source": [
    "for g in range(6):\n",
    "    for c in ['PV avg', 'SST avg', 'VIP avg']:\n",
    "        r = stats.spearmanr(df2_3['g%i' %g], df2_3[c])\n",
    "        if r[1]<0.01:\n",
    "            print('Gradient %i, %s:' %(g,c), r)"
   ]
  },
  {
   "cell_type": "code",
   "execution_count": 15,
   "metadata": {},
   "outputs": [
    {
     "name": "stdout",
     "output_type": "stream",
     "text": [
      "Gradient 2: SpearmanrResult(correlation=0.6234234234234235, pvalue=4.8723706171386944e-05)\n",
      "Gradient 4: SpearmanrResult(correlation=-0.42368082368082366, pvalue=0.010025977879321291)\n"
     ]
    }
   ],
   "source": [
    "for g in range(6):\n",
    "    r = stats.spearmanr(df2_3['g%i' %g], df2_3['PV avg'] / (df2_3['PV avg']+df2_3['SST avg']))\n",
    "    if r[1]<0.05:\n",
    "        print('Gradient %i:' %(g), r)"
   ]
  },
  {
   "cell_type": "markdown",
   "metadata": {},
   "source": [
    "### Plotting"
   ]
  },
  {
   "cell_type": "code",
   "execution_count": 16,
   "metadata": {
    "collapsed": true
   },
   "outputs": [],
   "source": [
    "df_plotting = pd.read_csv('/home/julia/workspace/rodent_gradients/finest_regions.csv')"
   ]
  },
  {
   "cell_type": "code",
   "execution_count": 25,
   "metadata": {
    "collapsed": true
   },
   "outputs": [],
   "source": [
    "df2_3['cluster'] = np.nan"
   ]
  },
  {
   "cell_type": "code",
   "execution_count": 26,
   "metadata": {},
   "outputs": [],
   "source": [
    "for a in df2_3[\"ROI\"]:\n",
    "    df2_3.loc[df2_3['ROI']==a, 'cluster'] = df_plotting.loc[df_plotting['acronym']==a[:-3], 'cluster'].values[0]"
   ]
  },
  {
   "cell_type": "code",
   "execution_count": 29,
   "metadata": {
    "collapsed": true
   },
   "outputs": [],
   "source": [
    "df2_3.loc[df2_3['ROI']=='MOp2/3', 'cluster'] = 'motor'\n",
    "df2_3.loc[df2_3['ROI']=='MOs2/3', 'cluster'] = 'motor'\n",
    "df2_3.loc[df2_3['cluster']=='somatomotor', 'cluster'] = 'somatosensory'"
   ]
  },
  {
   "cell_type": "code",
   "execution_count": 45,
   "metadata": {},
   "outputs": [
    {
     "data": {
      "image/png": "[encoded data removed]",
      "text/plain": [
       "<Figure size 360x360 with 1 Axes>"
      ]
     },
     "metadata": {},
     "output_type": "display_data"
    }
   ],
   "source": [
    "clusters = ['motor', 'somatosensory', 'prefrontal','lateral', 'medial', 'visual', 'auditory']\n",
    "colors = ['darkgreen', 'tab:orange', 'tab:red', 'gold', 'darkblue','cornflowerblue','slateblue']\n",
    "sns.set_context('talk')\n",
    "fig = plt.figure(figsize=(5,5))\n",
    "\n",
    "pv_norm = np.mean(df2_3['PV avg'])\n",
    "sst_norm = np.mean(df2_3['SST avg'])\n",
    "\n",
    "for c in range(len(clusters)):\n",
    "    regions = list(df2_3.loc[df2_3['cluster']==clusters[c], \"ROI\"])\n",
    "    for r in regions:\n",
    "        plt.scatter(df2_3.loc[df2_3['ROI']==r, 'PV avg'].values[0] / pv_norm, \n",
    "                    df2_3.loc[df2_3['ROI']==r, 'SST avg'].values[0] / sst_norm, \n",
    "                    color=colors[c], label=clusters[c])\n",
    "plt.xlabel('PV norm L2/3')\n",
    "plt.ylabel('SST norm L2/3')\n",
    "plt.tight_layout()\n",
    "sns.despine()"
   ]
  },
  {
   "cell_type": "code",
   "execution_count": null,
   "metadata": {
    "collapsed": true
   },
   "outputs": [],
   "source": []
  }
 ],
 "metadata": {
  "kernelspec": {
   "display_name": "Python 3",
   "language": "python",
   "name": "python3"
  },
  "language_info": {
   "codemirror_mode": {
    "name": "ipython",
    "version": 3
   },
   "file_extension": ".py",
   "mimetype": "text/x-python",
   "name": "python",
   "nbconvert_exporter": "python",
   "pygments_lexer": "ipython3",
   "version": "3.6.10"
  }
 },
 "nbformat": 4,
 "nbformat_minor": 2
}
