{
 "cells": [
  {
   "cell_type": "code",
   "execution_count": 2,
   "metadata": {
    "collapsed": true
   },
   "outputs": [],
   "source": [
    "%matplotlib inline"
   ]
  },
  {
   "cell_type": "code",
   "execution_count": 3,
   "metadata": {
    "collapsed": true
   },
   "outputs": [],
   "source": [
    "import numpy as np\n",
    "import nibabel as nb\n",
    "import scipy.stats as stats\n",
    "import matplotlib.pyplot as plt\n",
    "from nilearn.input_data import NiftiMasker\n",
    "import seaborn as sns"
   ]
  },
  {
   "cell_type": "markdown",
   "metadata": {},
   "source": [
    "### Load gradients and cell data"
   ]
  },
  {
   "cell_type": "code",
   "execution_count": 4,
   "metadata": {
    "collapsed": true
   },
   "outputs": [],
   "source": [
    "img = nb.load('/home/julia/data/gradients/atlas/allen_api/cortex_mask_tight_200um.nii.gz')\n",
    "mask = img.get_data()\n",
    "aff = img.affine\n",
    "hdr = img.header"
   ]
  },
  {
   "cell_type": "code",
   "execution_count": 5,
   "metadata": {
    "collapsed": true
   },
   "outputs": [],
   "source": [
    "x = np.load('/home/julia/data/gradients/atlas/epfl_cell_atlas/x2vol_200.npy')\n",
    "y = np.load('/home/julia/data/gradients/atlas/epfl_cell_atlas/y2vol_200.npy')\n",
    "z = np.load('/home/julia/data/gradients/atlas/epfl_cell_atlas/z2vol_200.npy')\n",
    "types = np.load('/home/julia/data/gradients/atlas/epfl_cell_atlas/types.npy')"
   ]
  },
  {
   "cell_type": "markdown",
   "metadata": {},
   "source": [
    "Types probably:\n",
    "0 - excitatory neurons;\n",
    "1 - inhibitory neurons;\n",
    "2 - oligodendrocytes;\n",
    "3 - astrocytes;\n",
    "4 - microglia;"
   ]
  },
  {
   "cell_type": "markdown",
   "metadata": {},
   "source": [
    "### Make a cell density map"
   ]
  },
  {
   "cell_type": "code",
   "execution_count": 6,
   "metadata": {
    "collapsed": true
   },
   "outputs": [],
   "source": [
    "cell_density = np.zeros_like(mask)\n",
    "for c in range(len(x)):\n",
    "    voxel = (int(np.floor(x[c])), int(np.floor(y[c])), int(np.floor(z[c])))\n",
    "    if not mask[voxel] == 0:\n",
    "        cell_density[voxel] +=  1"
   ]
  },
  {
   "cell_type": "code",
   "execution_count": 8,
   "metadata": {
    "collapsed": true
   },
   "outputs": [],
   "source": [
    "nb.save(nb.Nifti1Image(cell_density, aff, hdr), \n",
    "        '/home/julia/data/gradients/atlas/epfl_cell_atlas/cortex_cells_200um.nii.gz')"
   ]
  },
  {
   "cell_type": "markdown",
   "metadata": {},
   "source": [
    "### Smooth cell density map with same kernel as gradient"
   ]
  },
  {
   "cell_type": "code",
   "execution_count": 9,
   "metadata": {},
   "outputs": [
    {
     "name": "stderr",
     "output_type": "stream",
     "text": [
      "/home/julia/workspace/nilearn/nilearn/signal.py:61: UserWarning: Standardization of 3D signal has been requested but would lead to zero values. Skipping.\n",
      "  warnings.warn('Standardization of 3D signal has been requested but '\n"
     ]
    }
   ],
   "source": [
    "from nilearn.input_data import NiftiMasker\n",
    "masker = NiftiMasker(mask_img=img, standardize=True, smoothing_fwhm=0.45)\n",
    "smoothed_trans = masker.fit_transform('/home/julia/data/gradients/atlas/epfl_cell_atlas/cortex_cells_200um.nii.gz')"
   ]
  },
  {
   "cell_type": "code",
   "execution_count": 10,
   "metadata": {
    "collapsed": true
   },
   "outputs": [],
   "source": [
    "smoothed = masker.inverse_transform(smoothed_trans)\n",
    "smoothed.to_filename('/home/julia/data/gradients/atlas/epfl_cell_atlas/cortex_cells_200um_smooth045.nii.gz')\n",
    "cell_density = smoothed.get_data().squeeze()"
   ]
  },
  {
   "cell_type": "markdown",
   "metadata": {},
   "source": [
    "### Calcluate Spearman correlation to gradients"
   ]
  },
  {
   "cell_type": "code",
   "execution_count": 13,
   "metadata": {},
   "outputs": [
    {
     "name": "stdout",
     "output_type": "stream",
     "text": [
      "Gradient 0: SpearmanrResult(correlation=0.35947376866556163, pvalue=0.0)\n",
      "Gradient 1: SpearmanrResult(correlation=-0.14260341427436848, pvalue=7.213482604128383e-71)\n",
      "Gradient 2: SpearmanrResult(correlation=0.15535066845250417, pvalue=6.52185892749864e-84)\n",
      "Gradient 3: SpearmanrResult(correlation=0.07619438831318912, pvalue=2.6616038765566323e-21)\n",
      "Gradient 4: SpearmanrResult(correlation=-0.3495301885713016, pvalue=0.0)\n",
      "Gradient 5: SpearmanrResult(correlation=0.0941083601074182, pvalue=1.1072908156051085e-31)\n"
     ]
    }
   ],
   "source": [
    "gradients = nb.load('/home/julia/data/gradients/results/embedding_vol/embed.nii.gz').get_data()\n",
    "for g in range(6):\n",
    "    gradient =  gradients[:,:,:,g]\n",
    "    print('Gradient %i:' %g, stats.spearmanr(cell_density[mask==1], gradient[mask==1]))"
   ]
  },
  {
   "cell_type": "markdown",
   "metadata": {},
   "source": [
    "### Plot"
   ]
  },
  {
   "cell_type": "code",
   "execution_count": 11,
   "metadata": {},
   "outputs": [],
   "source": [
    "gradients = nb.load('/home/julia/data/gradients/results/embedding_vol/embed.nii.gz').get_data()\n",
    "template = nb.load('/home/julia/data/gradients/atlas/allen_api/template_200.nii.gz').get_data()\n",
    "cell_density = nb.load('/home/julia/data/gradients/atlas/epfl_cell_atlas/cortex_cells_200um_smooth045.nii.gz').get_data().squeeze()\n",
    "mask = nb.load('/home/julia/data/gradients/atlas/allen_api/cortex_mask_tight_200um.nii.gz').get_data()"
   ]
  },
  {
   "cell_type": "code",
   "execution_count": 12,
   "metadata": {},
   "outputs": [],
   "source": [
    "cell_density[mask==0] = np.nan\n",
    "gradient_0 = gradients[:,:,:,0]\n",
    "gradient_0[mask==0] = np.nan\n",
    "gradient_4 = gradients[:,:,:,4]\n",
    "gradient_4[mask==0] = np.nan"
   ]
  },
  {
   "cell_type": "code",
   "execution_count": 24,
   "metadata": {},
   "outputs": [
    {
     "data": {
      "image/png": "[encoded data removed]",
      "text/plain": [
       "<Figure size 1080x1080 with 3 Axes>"
      ]
     },
     "metadata": {},
     "output_type": "display_data"
    }
   ],
   "source": [
    "x=30\n",
    "y=10\n",
    "z=15\n",
    "\n",
    "\n",
    "fig = plt.figure(figsize=(15,15))\n",
    "\n",
    "vmin = -max(np.abs(np.nanmin(cell_density)), np.abs(np.nanmax(cell_density)))\n",
    "vmax = max(np.abs(np.nanmin(cell_density)), np.abs(np.nanmax(cell_density)))\n",
    "\n",
    "fig.add_subplot(3,3,1)\n",
    "plt.imshow(template[x,:,:],  cmap='Greys', aspect='equal');\n",
    "plt.imshow(cell_density[x,:,:],  cmap=\"coolwarm\", aspect='equal', vmin=vmin, vmax=vmax);\n",
    "plt.axis('off');\n",
    "\n",
    "fig.add_subplot(3,3,2)\n",
    "plt.imshow(template[:,y,:],  cmap='Greys', aspect='equal');\n",
    "plt.imshow(cell_density[:,y,:],  cmap=\"coolwarm\", aspect='equal', vmin=vmin, vmax=vmax);\n",
    "plt.axis('off');\n",
    "\n",
    "fig.add_subplot(3,3,3)\n",
    "plt.imshow(template[:,:,z].T,  cmap='Greys', aspect='equal');\n",
    "plt.imshow(cell_density[:,:,z].T,  cmap=\"coolwarm\", aspect='equal', vmin=vmin, vmax=vmax);\n",
    "plt.axis('off');\n",
    "\n",
    "# vmin = np.nanmin(gradient_0)\n",
    "# vmax = np.nanmax(gradient_0)\n",
    "\n",
    "# fig.add_subplot(3,3,4)\n",
    "# plt.imshow(template[x,:,:],  cmap='Greys', aspect='equal');\n",
    "# plt.imshow(gradient_0[x,:,:],  cmap=\"cubehelix\", aspect='equal', vmin=vmin, vmax=vmax);\n",
    "# plt.axis('off');\n",
    "\n",
    "# fig.add_subplot(3,3,5)\n",
    "# plt.imshow(template[:,y,:],  cmap='Greys', aspect='equal');\n",
    "# plt.imshow(gradient_0[:,y,:],  cmap=\"cubehelix\", aspect='equal', vmin=vmin, vmax=vmax);\n",
    "# plt.axis('off');\n",
    "\n",
    "# fig.add_subplot(3,3,6)\n",
    "# plt.imshow(template[:,:,z].T,  cmap='Greys', aspect='equal');\n",
    "# plt.imshow(gradient_0[:,:,z].T,  cmap=\"cubehelix\", aspect='equal', vmin=vmin, vmax=vmax);\n",
    "# plt.axis('off');\n",
    "\n",
    "# vmin = np.nanmin(gradient_4)\n",
    "# vmax = np.nanmax(gradient_4)\n",
    "\n",
    "# fig.add_subplot(3,3,7)\n",
    "# plt.imshow(template[x,:,:],  cmap='Greys', aspect='equal');\n",
    "# plt.imshow(gradient_4[x,:,:],  cmap=\"cubehelix\", aspect='equal', vmin=vmin, vmax=vmax);\n",
    "# plt.axis('off');\n",
    "\n",
    "# fig.add_subplot(3,3,8)\n",
    "# plt.imshow(template[:,y,:],  cmap='Greys', aspect='equal');\n",
    "# plt.imshow(gradient_4[:,y,:],  cmap=\"cubehelix\", aspect='equal', vmin=vmin, vmax=vmax);\n",
    "# plt.axis('off');\n",
    "\n",
    "# fig.add_subplot(3,3,9)\n",
    "# plt.imshow(template[:,:,z].T,  cmap='Greys', aspect='equal');\n",
    "# plt.imshow(gradient_4[:,:,z].T,  cmap=\"cubehelix\", aspect='equal', vmin=vmin, vmax=vmax);\n",
    "# plt.axis('off');\n",
    "\n",
    "plt.tight_layout()"
   ]
  },
  {
   "cell_type": "code",
   "execution_count": null,
   "metadata": {
    "collapsed": true
   },
   "outputs": [],
   "source": []
  }
 ],
 "metadata": {
  "kernelspec": {
   "display_name": "Python 3",
   "language": "python",
   "name": "python3"
  },
  "language_info": {
   "codemirror_mode": {
    "name": "ipython",
    "version": 3
   },
   "file_extension": ".py",
   "mimetype": "text/x-python",
   "name": "python",
   "nbconvert_exporter": "python",
   "pygments_lexer": "ipython3",
   "version": "3.6.8"
  }
 },
 "nbformat": 4,
 "nbformat_minor": 2
}
