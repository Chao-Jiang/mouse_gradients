{
 "cells": [
  {
   "cell_type": "code",
   "execution_count": 1,
   "metadata": {
    "collapsed": true
   },
   "outputs": [],
   "source": [
    "%matplotlib inline"
   ]
  },
  {
   "cell_type": "code",
   "execution_count": 57,
   "metadata": {
    "collapsed": true
   },
   "outputs": [],
   "source": [
    "import pandas as pd\n",
    "import numpy as np\n",
    "from scipy.stats import stats\n",
    "from sklearn.preprocessing import StandardScaler, MinMaxScaler\n",
    "from sklearn.decomposition import PCA\n",
    "import matplotlib.pyplot as plt\n",
    "import seaborn as sns\n",
    "import nibabel as nb"
   ]
  },
  {
   "cell_type": "code",
   "execution_count": 3,
   "metadata": {
    "collapsed": true
   },
   "outputs": [],
   "source": [
    "df_kim = pd.read_csv(\"/home/julia/workspace/rodent_gradients/interneurons.csv\", header=1)"
   ]
  },
  {
   "cell_type": "code",
   "execution_count": 4,
   "metadata": {
    "collapsed": true
   },
   "outputs": [],
   "source": [
    "df_julia = pd.read_csv('/home/julia/workspace/rodent_gradients/finest_regions.csv')"
   ]
  },
  {
   "cell_type": "markdown",
   "metadata": {},
   "source": [
    "### Remove regions that are contained in others in Kim (should be cleaner eventually to combine)"
   ]
  },
  {
   "cell_type": "code",
   "execution_count": 5,
   "metadata": {
    "collapsed": true
   },
   "outputs": [],
   "source": [
    "regions = list(df_julia['acronym'])\n",
    "regions.remove('VISa')\n",
    "regions.remove('VISli')\n",
    "regions.remove('VISpor')\n",
    "regions.remove('VISrl')\n",
    "regions.remove('SSp-un')"
   ]
  },
  {
   "cell_type": "markdown",
   "metadata": {},
   "source": [
    "### Add interneuron values to my df"
   ]
  },
  {
   "cell_type": "code",
   "execution_count": 6,
   "metadata": {
    "collapsed": true
   },
   "outputs": [],
   "source": [
    "df_julia['PV avg'] = np.nan\n",
    "df_julia['PV sdv'] = np.nan\n",
    "df_julia['SST avg'] = np.nan\n",
    "df_julia['SST sdv'] = np.nan\n",
    "df_julia['VIP avg'] = np.nan\n",
    "df_julia['VIP sdv'] = np.nan"
   ]
  },
  {
   "cell_type": "code",
   "execution_count": 7,
   "metadata": {
    "collapsed": true
   },
   "outputs": [],
   "source": [
    "for r in regions:\n",
    "    df_julia.loc[df_julia[\"acronym\"]==r, 'PV avg'] = int(df_kim[df_kim[\"ROI\"]==r]['Average'].values[0].replace(u'\\xa0', u''))\n",
    "    df_julia.loc[df_julia[\"acronym\"]==r, 'PV sdv'] = int(df_kim[df_kim[\"ROI\"]==r]['standard deviation'].values[0].replace(u'\\xa0', u''))\n",
    "    df_julia.loc[df_julia[\"acronym\"]==r, 'SST avg'] = int(df_kim[df_kim[\"ROI\"]==r]['Average.1'].values[0].replace(u'\\xa0', u''))\n",
    "    df_julia.loc[df_julia[\"acronym\"]==r, 'SST sdv'] = int(df_kim[df_kim[\"ROI\"]==r]['standard deviation.1'].values[0].replace(u'\\xa0', u''))\n",
    "    df_julia.loc[df_julia[\"acronym\"]==r, 'VIP avg'] = int(df_kim[df_kim[\"ROI\"]==r]['Average.2'].values[0].replace(u'\\xa0', u''))\n",
    "    df_julia.loc[df_julia[\"acronym\"]==r, 'VIP sdv'] = int(df_kim[df_kim[\"ROI\"]==r]['standard deviation.2'].values[0].replace(u'\\xa0', u''))"
   ]
  },
  {
   "cell_type": "code",
   "execution_count": 8,
   "metadata": {},
   "outputs": [
    {
     "data": {
      "text/html": [
       "<div>\n",
       "<style scoped>\n",
       "    .dataframe tbody tr th:only-of-type {\n",
       "        vertical-align: middle;\n",
       "    }\n",
       "\n",
       "    .dataframe tbody tr th {\n",
       "        vertical-align: top;\n",
       "    }\n",
       "\n",
       "    .dataframe thead th {\n",
       "        text-align: right;\n",
       "    }\n",
       "</style>\n",
       "<table border=\"1\" class=\"dataframe\">\n",
       "  <thead>\n",
       "    <tr style=\"text-align: right;\">\n",
       "      <th></th>\n",
       "      <th>Unnamed: 0</th>\n",
       "      <th>id</th>\n",
       "      <th>acronym</th>\n",
       "      <th>cluster</th>\n",
       "      <th>type</th>\n",
       "      <th>comment</th>\n",
       "      <th>gradient 0</th>\n",
       "      <th>gradient 1</th>\n",
       "      <th>gradient 2</th>\n",
       "      <th>gradient 3</th>\n",
       "      <th>gradient 4</th>\n",
       "      <th>gradient 5</th>\n",
       "      <th>PV avg</th>\n",
       "      <th>PV sdv</th>\n",
       "      <th>SST avg</th>\n",
       "      <th>SST sdv</th>\n",
       "      <th>VIP avg</th>\n",
       "      <th>VIP sdv</th>\n",
       "    </tr>\n",
       "  </thead>\n",
       "  <tbody>\n",
       "    <tr>\n",
       "      <th>0</th>\n",
       "      <td>0</td>\n",
       "      <td>1</td>\n",
       "      <td>MOp</td>\n",
       "      <td>somatomotor</td>\n",
       "      <td>4.0</td>\n",
       "      <td>NaN</td>\n",
       "      <td>-0.035688</td>\n",
       "      <td>-0.015409</td>\n",
       "      <td>0.012742</td>\n",
       "      <td>-0.009173</td>\n",
       "      <td>0.005131</td>\n",
       "      <td>0.006942</td>\n",
       "      <td>47620.0</td>\n",
       "      <td>3819.0</td>\n",
       "      <td>53229.0</td>\n",
       "      <td>2635.0</td>\n",
       "      <td>25854.0</td>\n",
       "      <td>1481.0</td>\n",
       "    </tr>\n",
       "    <tr>\n",
       "      <th>1</th>\n",
       "      <td>1</td>\n",
       "      <td>2</td>\n",
       "      <td>MOs</td>\n",
       "      <td>somatomotor</td>\n",
       "      <td>3.0</td>\n",
       "      <td>NaN</td>\n",
       "      <td>0.002507</td>\n",
       "      <td>-0.003847</td>\n",
       "      <td>0.007450</td>\n",
       "      <td>-0.008521</td>\n",
       "      <td>0.016205</td>\n",
       "      <td>0.005453</td>\n",
       "      <td>33318.0</td>\n",
       "      <td>2638.0</td>\n",
       "      <td>37877.0</td>\n",
       "      <td>1967.0</td>\n",
       "      <td>21107.0</td>\n",
       "      <td>1337.0</td>\n",
       "    </tr>\n",
       "    <tr>\n",
       "      <th>2</th>\n",
       "      <td>2</td>\n",
       "      <td>3</td>\n",
       "      <td>SSs</td>\n",
       "      <td>somatomotor</td>\n",
       "      <td>3.0</td>\n",
       "      <td>NaN</td>\n",
       "      <td>-0.037188</td>\n",
       "      <td>0.004716</td>\n",
       "      <td>0.006545</td>\n",
       "      <td>0.006152</td>\n",
       "      <td>-0.005469</td>\n",
       "      <td>0.002474</td>\n",
       "      <td>30964.0</td>\n",
       "      <td>1926.0</td>\n",
       "      <td>30323.0</td>\n",
       "      <td>1681.0</td>\n",
       "      <td>12234.0</td>\n",
       "      <td>908.0</td>\n",
       "    </tr>\n",
       "    <tr>\n",
       "      <th>3</th>\n",
       "      <td>3</td>\n",
       "      <td>4</td>\n",
       "      <td>AUDd</td>\n",
       "      <td>auditory</td>\n",
       "      <td>3.0</td>\n",
       "      <td>NaN</td>\n",
       "      <td>0.027084</td>\n",
       "      <td>-0.008822</td>\n",
       "      <td>-0.010148</td>\n",
       "      <td>0.021375</td>\n",
       "      <td>-0.004731</td>\n",
       "      <td>0.020351</td>\n",
       "      <td>11776.0</td>\n",
       "      <td>833.0</td>\n",
       "      <td>11516.0</td>\n",
       "      <td>767.0</td>\n",
       "      <td>5456.0</td>\n",
       "      <td>460.0</td>\n",
       "    </tr>\n",
       "    <tr>\n",
       "      <th>4</th>\n",
       "      <td>4</td>\n",
       "      <td>5</td>\n",
       "      <td>AUDp</td>\n",
       "      <td>auditory</td>\n",
       "      <td>4.0</td>\n",
       "      <td>NaN</td>\n",
       "      <td>0.023691</td>\n",
       "      <td>-0.015741</td>\n",
       "      <td>-0.027671</td>\n",
       "      <td>0.022430</td>\n",
       "      <td>-0.004649</td>\n",
       "      <td>0.026404</td>\n",
       "      <td>13501.0</td>\n",
       "      <td>826.0</td>\n",
       "      <td>12566.0</td>\n",
       "      <td>691.0</td>\n",
       "      <td>5624.0</td>\n",
       "      <td>560.0</td>\n",
       "    </tr>\n",
       "  </tbody>\n",
       "</table>\n",
       "</div>"
      ],
      "text/plain": [
       "   Unnamed: 0  id acronym      cluster  type comment  gradient 0  gradient 1  \\\n",
       "0           0   1     MOp  somatomotor   4.0     NaN   -0.035688   -0.015409   \n",
       "1           1   2     MOs  somatomotor   3.0     NaN    0.002507   -0.003847   \n",
       "2           2   3     SSs  somatomotor   3.0     NaN   -0.037188    0.004716   \n",
       "3           3   4    AUDd     auditory   3.0     NaN    0.027084   -0.008822   \n",
       "4           4   5    AUDp     auditory   4.0     NaN    0.023691   -0.015741   \n",
       "\n",
       "   gradient 2  gradient 3  gradient 4  gradient 5   PV avg  PV sdv  SST avg  \\\n",
       "0    0.012742   -0.009173    0.005131    0.006942  47620.0  3819.0  53229.0   \n",
       "1    0.007450   -0.008521    0.016205    0.005453  33318.0  2638.0  37877.0   \n",
       "2    0.006545    0.006152   -0.005469    0.002474  30964.0  1926.0  30323.0   \n",
       "3   -0.010148    0.021375   -0.004731    0.020351  11776.0   833.0  11516.0   \n",
       "4   -0.027671    0.022430   -0.004649    0.026404  13501.0   826.0  12566.0   \n",
       "\n",
       "   SST sdv  VIP avg  VIP sdv  \n",
       "0   2635.0  25854.0   1481.0  \n",
       "1   1967.0  21107.0   1337.0  \n",
       "2   1681.0  12234.0    908.0  \n",
       "3    767.0   5456.0    460.0  \n",
       "4    691.0   5624.0    560.0  "
      ]
     },
     "execution_count": 8,
     "metadata": {},
     "output_type": "execute_result"
    }
   ],
   "source": [
    "df_julia.head()"
   ]
  },
  {
   "cell_type": "code",
   "execution_count": 9,
   "metadata": {
    "collapsed": true
   },
   "outputs": [],
   "source": [
    "df_analysis = df_julia.drop(columns=['Unnamed: 0', 'comment'])\n",
    "df_analysis = df_analysis.dropna(axis=0)"
   ]
  },
  {
   "cell_type": "code",
   "execution_count": 10,
   "metadata": {},
   "outputs": [
    {
     "name": "stdout",
     "output_type": "stream",
     "text": [
      "Gradient 2, PV avg: SpearmanrResult(correlation=0.5614399824926141, pvalue=0.00024508795150468993)\n",
      "Gradient 2, SST avg: SpearmanrResult(correlation=0.4290403764087975, pvalue=0.007192191167150476)\n",
      "Gradient 2, VIP avg: SpearmanrResult(correlation=0.446547762337236, pvalue=0.004948839708875168)\n"
     ]
    }
   ],
   "source": [
    "for g in range(6):\n",
    "    for c in ['PV avg', 'SST avg', 'VIP avg']:\n",
    "        r = stats.spearmanr(df_analysis['gradient %i' %g], df_analysis[c])\n",
    "        if r[1]<0.01:\n",
    "            print('Gradient %i, %s:' %(g,c), r)"
   ]
  },
  {
   "cell_type": "code",
   "execution_count": 11,
   "metadata": {},
   "outputs": [
    {
     "name": "stdout",
     "output_type": "stream",
     "text": [
      "Gradient 2: SpearmanrResult(correlation=0.4817813765182186, pvalue=0.0021938394583149575)\n",
      "Gradient 4: SpearmanrResult(correlation=-0.5793850530692637, pvalue=0.00013809463621733832)\n"
     ]
    }
   ],
   "source": [
    "for g in range(6):\n",
    "    r = stats.spearmanr(df_analysis['gradient %i' %g], df_analysis['PV avg'] / (df_analysis['PV avg']+df_analysis['SST avg']))\n",
    "    if r[1]<0.01:\n",
    "        print('Gradient %i:' %(g), r)"
   ]
  },
  {
   "cell_type": "markdown",
   "metadata": {
    "collapsed": true
   },
   "source": [
    "### PCA of interneurons"
   ]
  },
  {
   "cell_type": "code",
   "execution_count": 12,
   "metadata": {
    "collapsed": true
   },
   "outputs": [],
   "source": [
    "standard_inter = StandardScaler().fit_transform(np.vstack((df_analysis['PV avg'], df_analysis['SST avg'])).T)"
   ]
  },
  {
   "cell_type": "code",
   "execution_count": 13,
   "metadata": {
    "collapsed": true
   },
   "outputs": [],
   "source": [
    "pca = PCA(n_components=2)\n",
    "pcs = pca.fit_transform(standard_inter)"
   ]
  },
  {
   "cell_type": "code",
   "execution_count": 14,
   "metadata": {},
   "outputs": [
    {
     "data": {
      "text/plain": [
       "array([0.96876985, 0.03123015])"
      ]
     },
     "execution_count": 14,
     "metadata": {},
     "output_type": "execute_result"
    }
   ],
   "source": [
    "pca.explained_variance_ratio_[:]"
   ]
  },
  {
   "cell_type": "code",
   "execution_count": 15,
   "metadata": {},
   "outputs": [
    {
     "name": "stdout",
     "output_type": "stream",
     "text": [
      "Gradient 2: SpearmanrResult(correlation=0.49250465039938723, pvalue=0.001683138661308851)\n"
     ]
    }
   ],
   "source": [
    "for g in range(6):\n",
    "    r = stats.spearmanr(df_analysis['gradient %i' %g], pcs[:,0])\n",
    "    if r[1]<0.01:\n",
    "        print('Gradient %i:' %(g), r)"
   ]
  },
  {
   "cell_type": "code",
   "execution_count": 16,
   "metadata": {},
   "outputs": [
    {
     "name": "stdout",
     "output_type": "stream",
     "text": [
      "Gradient 4: SpearmanrResult(correlation=0.5518109202319729, pvalue=0.00032903328292198326)\n"
     ]
    }
   ],
   "source": [
    "for g in range(6):\n",
    "    r = stats.spearmanr(df_analysis['gradient %i' %g], pcs[:,1])\n",
    "    if r[1]<0.01:\n",
    "        print('Gradient %i:' %(g), r)"
   ]
  },
  {
   "cell_type": "code",
   "execution_count": 17,
   "metadata": {},
   "outputs": [
    {
     "data": {
      "text/plain": [
       "SpearmanrResult(correlation=-0.7513951198161725, pvalue=5.452128431154193e-08)"
      ]
     },
     "execution_count": 17,
     "metadata": {},
     "output_type": "execute_result"
    }
   ],
   "source": [
    "stats.spearmanr(pcs[:,1], (df_analysis['PV avg'] / (df_analysis['PV avg']+df_analysis['SST avg'])))"
   ]
  },
  {
   "cell_type": "code",
   "execution_count": 27,
   "metadata": {},
   "outputs": [],
   "source": [
    "df_analysis['PV_SST_PC0'] = pcs[:,0]\n",
    "df_analysis['PV_SST_PC1'] = pcs[:,1]"
   ]
  },
  {
   "cell_type": "code",
   "execution_count": 30,
   "metadata": {},
   "outputs": [],
   "source": [
    "df_analysis.to_csv(\"/home/julia/workspace/rodent_gradients/interneuron_analysis.csv\")"
   ]
  },
  {
   "cell_type": "code",
   "execution_count": 32,
   "metadata": {},
   "outputs": [
    {
     "data": {
      "text/html": [
       "<div>\n",
       "<style scoped>\n",
       "    .dataframe tbody tr th:only-of-type {\n",
       "        vertical-align: middle;\n",
       "    }\n",
       "\n",
       "    .dataframe tbody tr th {\n",
       "        vertical-align: top;\n",
       "    }\n",
       "\n",
       "    .dataframe thead th {\n",
       "        text-align: right;\n",
       "    }\n",
       "</style>\n",
       "<table border=\"1\" class=\"dataframe\">\n",
       "  <thead>\n",
       "    <tr style=\"text-align: right;\">\n",
       "      <th></th>\n",
       "      <th>id</th>\n",
       "      <th>acronym</th>\n",
       "      <th>cluster</th>\n",
       "      <th>type</th>\n",
       "      <th>gradient 0</th>\n",
       "      <th>gradient 1</th>\n",
       "      <th>gradient 2</th>\n",
       "      <th>gradient 3</th>\n",
       "      <th>gradient 4</th>\n",
       "      <th>gradient 5</th>\n",
       "      <th>PV avg</th>\n",
       "      <th>PV sdv</th>\n",
       "      <th>SST avg</th>\n",
       "      <th>SST sdv</th>\n",
       "      <th>VIP avg</th>\n",
       "      <th>VIP sdv</th>\n",
       "      <th>PV_SST_PC0</th>\n",
       "      <th>PV_SST_PC1</th>\n",
       "    </tr>\n",
       "  </thead>\n",
       "  <tbody>\n",
       "    <tr>\n",
       "      <th>0</th>\n",
       "      <td>1</td>\n",
       "      <td>MOp</td>\n",
       "      <td>somatomotor</td>\n",
       "      <td>4.0</td>\n",
       "      <td>-0.035688</td>\n",
       "      <td>-0.015409</td>\n",
       "      <td>0.012742</td>\n",
       "      <td>-0.009173</td>\n",
       "      <td>0.005131</td>\n",
       "      <td>0.006942</td>\n",
       "      <td>47620.0</td>\n",
       "      <td>3819.0</td>\n",
       "      <td>53229.0</td>\n",
       "      <td>2635.0</td>\n",
       "      <td>25854.0</td>\n",
       "      <td>1481.0</td>\n",
       "      <td>4.000020</td>\n",
       "      <td>0.549357</td>\n",
       "    </tr>\n",
       "    <tr>\n",
       "      <th>1</th>\n",
       "      <td>2</td>\n",
       "      <td>MOs</td>\n",
       "      <td>somatomotor</td>\n",
       "      <td>3.0</td>\n",
       "      <td>0.002507</td>\n",
       "      <td>-0.003847</td>\n",
       "      <td>0.007450</td>\n",
       "      <td>-0.008521</td>\n",
       "      <td>0.016205</td>\n",
       "      <td>0.005453</td>\n",
       "      <td>33318.0</td>\n",
       "      <td>2638.0</td>\n",
       "      <td>37877.0</td>\n",
       "      <td>1967.0</td>\n",
       "      <td>21107.0</td>\n",
       "      <td>1337.0</td>\n",
       "      <td>2.372539</td>\n",
       "      <td>0.357546</td>\n",
       "    </tr>\n",
       "    <tr>\n",
       "      <th>2</th>\n",
       "      <td>3</td>\n",
       "      <td>SSs</td>\n",
       "      <td>somatomotor</td>\n",
       "      <td>3.0</td>\n",
       "      <td>-0.037188</td>\n",
       "      <td>0.004716</td>\n",
       "      <td>0.006545</td>\n",
       "      <td>0.006152</td>\n",
       "      <td>-0.005469</td>\n",
       "      <td>0.002474</td>\n",
       "      <td>30964.0</td>\n",
       "      <td>1926.0</td>\n",
       "      <td>30323.0</td>\n",
       "      <td>1681.0</td>\n",
       "      <td>12234.0</td>\n",
       "      <td>908.0</td>\n",
       "      <td>1.806794</td>\n",
       "      <td>0.028101</td>\n",
       "    </tr>\n",
       "    <tr>\n",
       "      <th>3</th>\n",
       "      <td>4</td>\n",
       "      <td>AUDd</td>\n",
       "      <td>auditory</td>\n",
       "      <td>3.0</td>\n",
       "      <td>0.027084</td>\n",
       "      <td>-0.008822</td>\n",
       "      <td>-0.010148</td>\n",
       "      <td>0.021375</td>\n",
       "      <td>-0.004731</td>\n",
       "      <td>0.020351</td>\n",
       "      <td>11776.0</td>\n",
       "      <td>833.0</td>\n",
       "      <td>11516.0</td>\n",
       "      <td>767.0</td>\n",
       "      <td>5456.0</td>\n",
       "      <td>460.0</td>\n",
       "      <td>-0.270640</td>\n",
       "      <td>-0.123194</td>\n",
       "    </tr>\n",
       "    <tr>\n",
       "      <th>4</th>\n",
       "      <td>5</td>\n",
       "      <td>AUDp</td>\n",
       "      <td>auditory</td>\n",
       "      <td>4.0</td>\n",
       "      <td>0.023691</td>\n",
       "      <td>-0.015741</td>\n",
       "      <td>-0.027671</td>\n",
       "      <td>0.022430</td>\n",
       "      <td>-0.004649</td>\n",
       "      <td>0.026404</td>\n",
       "      <td>13501.0</td>\n",
       "      <td>826.0</td>\n",
       "      <td>12566.0</td>\n",
       "      <td>691.0</td>\n",
       "      <td>5624.0</td>\n",
       "      <td>560.0</td>\n",
       "      <td>-0.121845</td>\n",
       "      <td>-0.147558</td>\n",
       "    </tr>\n",
       "  </tbody>\n",
       "</table>\n",
       "</div>"
      ],
      "text/plain": [
       "   id acronym      cluster  type  gradient 0  gradient 1  gradient 2  \\\n",
       "0   1     MOp  somatomotor   4.0   -0.035688   -0.015409    0.012742   \n",
       "1   2     MOs  somatomotor   3.0    0.002507   -0.003847    0.007450   \n",
       "2   3     SSs  somatomotor   3.0   -0.037188    0.004716    0.006545   \n",
       "3   4    AUDd     auditory   3.0    0.027084   -0.008822   -0.010148   \n",
       "4   5    AUDp     auditory   4.0    0.023691   -0.015741   -0.027671   \n",
       "\n",
       "   gradient 3  gradient 4  gradient 5   PV avg  PV sdv  SST avg  SST sdv  \\\n",
       "0   -0.009173    0.005131    0.006942  47620.0  3819.0  53229.0   2635.0   \n",
       "1   -0.008521    0.016205    0.005453  33318.0  2638.0  37877.0   1967.0   \n",
       "2    0.006152   -0.005469    0.002474  30964.0  1926.0  30323.0   1681.0   \n",
       "3    0.021375   -0.004731    0.020351  11776.0   833.0  11516.0    767.0   \n",
       "4    0.022430   -0.004649    0.026404  13501.0   826.0  12566.0    691.0   \n",
       "\n",
       "   VIP avg  VIP sdv  PV_SST_PC0  PV_SST_PC1  \n",
       "0  25854.0   1481.0    4.000020    0.549357  \n",
       "1  21107.0   1337.0    2.372539    0.357546  \n",
       "2  12234.0    908.0    1.806794    0.028101  \n",
       "3   5456.0    460.0   -0.270640   -0.123194  \n",
       "4   5624.0    560.0   -0.121845   -0.147558  "
      ]
     },
     "execution_count": 32,
     "metadata": {},
     "output_type": "execute_result"
    }
   ],
   "source": [
    "df_analysis.head()"
   ]
  },
  {
   "cell_type": "markdown",
   "metadata": {},
   "source": [
    "### Plotting"
   ]
  },
  {
   "cell_type": "code",
   "execution_count": 43,
   "metadata": {},
   "outputs": [
    {
     "data": {
      "image/png": "[encoded data removed]",
      "text/plain": [
       "<Figure size 360x360 with 1 Axes>"
      ]
     },
     "metadata": {},
     "output_type": "display_data"
    }
   ],
   "source": [
    "clusters = ['somatomotor', 'prefrontal','lateral', 'medial', 'visual', 'auditory']\n",
    "colors = ['tab:orange', 'tab:red', 'gold', 'darkblue','cornflowerblue','slateblue']\n",
    "sns.set_context('talk')\n",
    "fig = plt.figure(figsize=(5,5))\n",
    "\n",
    "for c in range(len(clusters)):\n",
    "    regions = list(df_analysis.loc[df_analysis['cluster']==clusters[c], 'acronym'])\n",
    "    for r in regions:\n",
    "        plt.scatter(df_analysis.loc[df_analysis['acronym']==r, 'PV_SST_PC0'].values[0], \n",
    "                    df_analysis.loc[df_analysis['acronym']==r, 'PV_SST_PC1'].values[0], \n",
    "                    color=colors[c], label=clusters[c])\n",
    "plt.xlabel('PC 0')\n",
    "plt.ylabel('PC1')\n",
    "plt.tight_layout()\n",
    "sns.despine()"
   ]
  },
  {
   "cell_type": "code",
   "execution_count": 44,
   "metadata": {
    "collapsed": true
   },
   "outputs": [],
   "source": [
    "df_analysis.loc[df_analysis['acronym']=='MOp', 'cluster'] = 'motor'\n",
    "df_analysis.loc[df_analysis['acronym']=='MOs', 'cluster'] = 'motor'\n",
    "df_analysis.loc[df_analysis['cluster']=='somatomotor', 'cluster'] = 'somatosensory'"
   ]
  },
  {
   "cell_type": "code",
   "execution_count": 46,
   "metadata": {},
   "outputs": [
    {
     "data": {
      "image/png": "[encoded data removed]",
      "text/plain": [
       "<Figure size 360x360 with 1 Axes>"
      ]
     },
     "metadata": {},
     "output_type": "display_data"
    }
   ],
   "source": [
    "clusters = ['motor', 'somatosensory', 'prefrontal','lateral', 'medial', 'visual', 'auditory']\n",
    "colors = ['darkgreen', 'tab:orange', 'tab:red', 'gold', 'darkblue','cornflowerblue','slateblue']\n",
    "sns.set_context('talk')\n",
    "fig = plt.figure(figsize=(5,5))\n",
    "\n",
    "for c in range(len(clusters)):\n",
    "    regions = list(df_analysis.loc[df_analysis['cluster']==clusters[c], 'acronym'])\n",
    "    for r in regions:\n",
    "        plt.scatter(df_analysis.loc[df_analysis['acronym']==r, 'PV_SST_PC0'].values[0], \n",
    "                    df_analysis.loc[df_analysis['acronym']==r, 'PV_SST_PC1'].values[0], \n",
    "                    color=colors[c], label=clusters[c])\n",
    "plt.xlabel('PC 0')\n",
    "plt.ylabel('PC1')\n",
    "plt.tight_layout()\n",
    "sns.despine()"
   ]
  },
  {
   "cell_type": "code",
   "execution_count": 55,
   "metadata": {},
   "outputs": [
    {
     "data": {
      "image/png": "[encoded data removed]",
      "text/plain": [
       "<Figure size 360x360 with 1 Axes>"
      ]
     },
     "metadata": {},
     "output_type": "display_data"
    }
   ],
   "source": [
    "clusters = ['motor', 'somatosensory', 'prefrontal','lateral', 'medial', 'visual', 'auditory']\n",
    "colors = ['darkgreen', 'tab:orange', 'tab:red', 'gold', 'darkblue','cornflowerblue','slateblue']\n",
    "sns.set_context('talk')\n",
    "fig = plt.figure(figsize=(5,5))\n",
    "\n",
    "pv_norm = np.mean(df_analysis['PV avg'])\n",
    "sst_norm = np.mean(df_analysis['SST avg'])\n",
    "\n",
    "for c in range(len(clusters)):\n",
    "    regions = list(df_analysis.loc[df_analysis['cluster']==clusters[c], 'acronym'])\n",
    "    for r in regions:\n",
    "        plt.scatter(df_analysis.loc[df_analysis['acronym']==r, 'PV avg'].values[0] / pv_norm, \n",
    "                    df_analysis.loc[df_analysis['acronym']==r, 'SST avg'].values[0] / sst_norm, \n",
    "                    color=colors[c], label=clusters[c])\n",
    "plt.xlabel('PV norm all layers')\n",
    "plt.ylabel('SST norm all layers')\n",
    "plt.tight_layout()\n",
    "sns.despine()"
   ]
  },
  {
   "cell_type": "code",
   "execution_count": 83,
   "metadata": {},
   "outputs": [],
   "source": [
    "annot_img = nb.load('/home/julia/data/gradients/atlas/allen_api/regions/annot_finest_200um.nii.gz')\n",
    "annot = np.array(annot_img.get_data(), dtype='float64')"
   ]
  },
  {
   "cell_type": "code",
   "execution_count": 77,
   "metadata": {
    "collapsed": true
   },
   "outputs": [],
   "source": [
    "pv_vol = np.zeros_like(annot)\n",
    "sst_vol = np.zeros_like(annot)\n",
    "vip_vol = np.zeros_like(annot)"
   ]
  },
  {
   "cell_type": "code",
   "execution_count": 78,
   "metadata": {},
   "outputs": [],
   "source": [
    "idcs = list(df_analysis['id'])\n",
    "for idx in idcs:\n",
    "    pv_vol[annot==idx] = df_analysis.loc[df_analysis['id']==idx]['PV avg'].values[0]\n",
    "    sst_vol[annot==idx] = df_analysis.loc[df_analysis['id']==idx]['SST avg'].values[0]\n",
    "    vip_vol[annot==idx] = df_analysis.loc[df_analysis['id']==idx]['VIP avg'].values[0]"
   ]
  },
  {
   "cell_type": "code",
   "execution_count": 85,
   "metadata": {
    "collapsed": true
   },
   "outputs": [],
   "source": [
    "nb.save(nb.Nifti1Image(pv_vol, annot_img.affine), \"/home/julia/data/gradients/atlas/interneurons/pv_finest.nii.gz\")\n",
    "nb.save(nb.Nifti1Image(sst_vol, annot_img.affine), \"/home/julia/data/gradients/atlas/interneurons/sst_finest.nii.gz\")\n",
    "nb.save(nb.Nifti1Image(vip_vol, annot_img.affine), \"/home/julia/data/gradients/atlas/interneurons/vip_finest.nii.gz\")"
   ]
  },
  {
   "cell_type": "code",
   "execution_count": 82,
   "metadata": {},
   "outputs": [
    {
     "data": {
      "image/png": "[encoded data removed]",
      "text/plain": [
       "<Figure size 1080x720 with 7 Axes>"
      ]
     },
     "metadata": {},
     "output_type": "display_data"
    }
   ],
   "source": [
    "x = 30\n",
    "\n",
    "fig = plt.figure(figsize=(15,10))\n",
    "fig.add_subplot(2,2,1)\n",
    "plt.imshow(annot[x,:,:])\n",
    "plt.title('annot')\n",
    "fig.add_subplot(2,2,2)\n",
    "plt.imshow(pv_vol[x,:,:])\n",
    "plt.title('Parvalbumin')\n",
    "plt.colorbar()\n",
    "fig.add_subplot(2,2,3)\n",
    "plt.imshow(sst_vol[x,:,:])\n",
    "plt.title('Somatostatin')\n",
    "plt.colorbar()\n",
    "fig.add_subplot(2,2,4)\n",
    "plt.imshow(vip_vol[x,:,:])\n",
    "plt.colorbar()\n",
    "plt.title('VIP');"
   ]
  },
  {
   "cell_type": "code",
   "execution_count": null,
   "metadata": {
    "collapsed": true
   },
   "outputs": [],
   "source": []
  }
 ],
 "metadata": {
  "kernelspec": {
   "display_name": "Python 3",
   "language": "python",
   "name": "python3"
  },
  "language_info": {
   "codemirror_mode": {
    "name": "ipython",
    "version": 3
   },
   "file_extension": ".py",
   "mimetype": "text/x-python",
   "name": "python",
   "nbconvert_exporter": "python",
   "pygments_lexer": "ipython3",
   "version": "3.6.10"
  }
 },
 "nbformat": 4,
 "nbformat_minor": 2
}
